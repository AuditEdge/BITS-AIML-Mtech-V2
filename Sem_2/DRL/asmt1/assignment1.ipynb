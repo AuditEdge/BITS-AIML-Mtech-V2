{
 "cells": [
  {
   "cell_type": "code",
   "execution_count": 2,
   "metadata": {},
   "outputs": [],
   "source": [
    "import pandas as pd\n",
    "import numpy as np"
   ]
  },
  {
   "cell_type": "code",
   "execution_count": 3,
   "metadata": {},
   "outputs": [
    {
     "data": {
      "text/html": [
       "<div>\n",
       "<style scoped>\n",
       "    .dataframe tbody tr th:only-of-type {\n",
       "        vertical-align: middle;\n",
       "    }\n",
       "\n",
       "    .dataframe tbody tr th {\n",
       "        vertical-align: top;\n",
       "    }\n",
       "\n",
       "    .dataframe thead th {\n",
       "        text-align: right;\n",
       "    }\n",
       "</style>\n",
       "<table border=\"1\" class=\"dataframe\">\n",
       "  <thead>\n",
       "    <tr style=\"text-align: right;\">\n",
       "      <th></th>\n",
       "      <th>Route</th>\n",
       "      <th>Time</th>\n",
       "      <th>Cost</th>\n",
       "      <th>Traffic Intensity</th>\n",
       "      <th>Selection</th>\n",
       "    </tr>\n",
       "  </thead>\n",
       "  <tbody>\n",
       "    <tr>\n",
       "      <th>0</th>\n",
       "      <td>Route 1</td>\n",
       "      <td>Best</td>\n",
       "      <td>Minimum</td>\n",
       "      <td>Medium</td>\n",
       "      <td>Yes</td>\n",
       "    </tr>\n",
       "    <tr>\n",
       "      <th>1</th>\n",
       "      <td>Route 2</td>\n",
       "      <td>Average</td>\n",
       "      <td>Minimum</td>\n",
       "      <td>Medium</td>\n",
       "      <td>Yes</td>\n",
       "    </tr>\n",
       "    <tr>\n",
       "      <th>2</th>\n",
       "      <td>Route 3</td>\n",
       "      <td>Best</td>\n",
       "      <td>Maximum</td>\n",
       "      <td>Low</td>\n",
       "      <td>No</td>\n",
       "    </tr>\n",
       "    <tr>\n",
       "      <th>3</th>\n",
       "      <td>Route 6</td>\n",
       "      <td>Worst</td>\n",
       "      <td>Maximum</td>\n",
       "      <td>High</td>\n",
       "      <td>Yes</td>\n",
       "    </tr>\n",
       "    <tr>\n",
       "      <th>4</th>\n",
       "      <td>Route 4</td>\n",
       "      <td>Average</td>\n",
       "      <td>Minimum</td>\n",
       "      <td>High</td>\n",
       "      <td>No</td>\n",
       "    </tr>\n",
       "    <tr>\n",
       "      <th>5</th>\n",
       "      <td>Route 1</td>\n",
       "      <td>Average</td>\n",
       "      <td>Minimum</td>\n",
       "      <td>Low</td>\n",
       "      <td>Yes</td>\n",
       "    </tr>\n",
       "    <tr>\n",
       "      <th>6</th>\n",
       "      <td>Route 5</td>\n",
       "      <td>Average</td>\n",
       "      <td>Maximum</td>\n",
       "      <td>High</td>\n",
       "      <td>Yes</td>\n",
       "    </tr>\n",
       "    <tr>\n",
       "      <th>7</th>\n",
       "      <td>Route 7</td>\n",
       "      <td>Worst</td>\n",
       "      <td>Minimum</td>\n",
       "      <td>High</td>\n",
       "      <td>Yes</td>\n",
       "    </tr>\n",
       "    <tr>\n",
       "      <th>8</th>\n",
       "      <td>Route 8</td>\n",
       "      <td>Best</td>\n",
       "      <td>Minimum</td>\n",
       "      <td>Medium</td>\n",
       "      <td>No</td>\n",
       "    </tr>\n",
       "    <tr>\n",
       "      <th>9</th>\n",
       "      <td>Route 2</td>\n",
       "      <td>Best</td>\n",
       "      <td>Maximum</td>\n",
       "      <td>Medium</td>\n",
       "      <td>Yes</td>\n",
       "    </tr>\n",
       "    <tr>\n",
       "      <th>10</th>\n",
       "      <td>Route 3</td>\n",
       "      <td>Worst</td>\n",
       "      <td>Maximum</td>\n",
       "      <td>Medium</td>\n",
       "      <td>No</td>\n",
       "    </tr>\n",
       "    <tr>\n",
       "      <th>11</th>\n",
       "      <td>Route 8</td>\n",
       "      <td>Best</td>\n",
       "      <td>Minimum</td>\n",
       "      <td>Low</td>\n",
       "      <td>Yes</td>\n",
       "    </tr>\n",
       "    <tr>\n",
       "      <th>12</th>\n",
       "      <td>Route 5</td>\n",
       "      <td>Worst</td>\n",
       "      <td>Maximum</td>\n",
       "      <td>High</td>\n",
       "      <td>No</td>\n",
       "    </tr>\n",
       "    <tr>\n",
       "      <th>13</th>\n",
       "      <td>Route 4</td>\n",
       "      <td>Worst</td>\n",
       "      <td>Minimum</td>\n",
       "      <td>Medium</td>\n",
       "      <td>No</td>\n",
       "    </tr>\n",
       "    <tr>\n",
       "      <th>14</th>\n",
       "      <td>Route 3</td>\n",
       "      <td>Best</td>\n",
       "      <td>Maximum</td>\n",
       "      <td>Low</td>\n",
       "      <td>Yes</td>\n",
       "    </tr>\n",
       "    <tr>\n",
       "      <th>15</th>\n",
       "      <td>Route 7</td>\n",
       "      <td>Average</td>\n",
       "      <td>Minimum</td>\n",
       "      <td>Low</td>\n",
       "      <td>Yes</td>\n",
       "    </tr>\n",
       "    <tr>\n",
       "      <th>16</th>\n",
       "      <td>Route 6</td>\n",
       "      <td>Average</td>\n",
       "      <td>Minimum</td>\n",
       "      <td>Low</td>\n",
       "      <td>Yes</td>\n",
       "    </tr>\n",
       "    <tr>\n",
       "      <th>17</th>\n",
       "      <td>Route 1</td>\n",
       "      <td>Average</td>\n",
       "      <td>Maximum</td>\n",
       "      <td>Low</td>\n",
       "      <td>No</td>\n",
       "    </tr>\n",
       "  </tbody>\n",
       "</table>\n",
       "</div>"
      ],
      "text/plain": [
       "      Route     Time     Cost Traffic Intensity Selection\n",
       "0   Route 1     Best  Minimum            Medium       Yes\n",
       "1   Route 2  Average  Minimum            Medium       Yes\n",
       "2   Route 3     Best  Maximum               Low        No\n",
       "3   Route 6    Worst  Maximum              High       Yes\n",
       "4   Route 4  Average  Minimum              High        No\n",
       "5   Route 1  Average  Minimum               Low       Yes\n",
       "6   Route 5  Average  Maximum              High       Yes\n",
       "7   Route 7    Worst  Minimum              High       Yes\n",
       "8   Route 8     Best  Minimum            Medium        No\n",
       "9   Route 2     Best  Maximum            Medium       Yes\n",
       "10  Route 3    Worst  Maximum            Medium        No\n",
       "11  Route 8     Best  Minimum               Low       Yes\n",
       "12  Route 5    Worst  Maximum              High        No\n",
       "13  Route 4    Worst  Minimum            Medium        No\n",
       "14  Route 3     Best  Maximum               Low       Yes\n",
       "15  Route 7  Average  Minimum               Low       Yes\n",
       "16  Route 6  Average  Minimum               Low       Yes\n",
       "17  Route 1  Average  Maximum               Low        No"
      ]
     },
     "execution_count": 3,
     "metadata": {},
     "output_type": "execute_result"
    }
   ],
   "source": [
    "lst = [['Route 1', 'Best',    'Minimum', 'Medium', 'Yes'],\n",
    "       ['Route 2', 'Average', 'Minimum', 'Medium', 'Yes'],\n",
    "       ['Route 3', 'Best',    'Maximum', 'Low',    'No'],\n",
    "       ['Route 6', 'Worst',   'Maximum', 'High',   'Yes'],\n",
    "       ['Route 4', 'Average', 'Minimum', 'High',   'No'],\n",
    "       ['Route 1', 'Average', 'Minimum', 'Low',    'Yes'],\n",
    "       ['Route 5', 'Average', 'Maximum', 'High',   'Yes'],\n",
    "       ['Route 7', 'Worst',   'Minimum', 'High',   'Yes'],\n",
    "       ['Route 8', 'Best',    'Minimum', 'Medium', 'No'],\n",
    "       ['Route 2', 'Best',    'Maximum', 'Medium', 'Yes'],\n",
    "       ['Route 3', 'Worst',   'Maximum', 'Medium', 'No'],\n",
    "       ['Route 8', 'Best',    'Minimum', 'Low',    'Yes'],\n",
    "       ['Route 5', 'Worst',   'Maximum', 'High',   'No'],\n",
    "       ['Route 4', 'Worst',   'Minimum', 'Medium', 'No'],\n",
    "       ['Route 3', 'Best',    'Maximum', 'Low',    'Yes'],\n",
    "       ['Route 7', 'Average', 'Minimum', 'Low',    'Yes'],\n",
    "       ['Route 6', 'Average', 'Minimum', 'Low',    'Yes'],\n",
    "       ['Route 1', 'Average', 'Maximum', 'Low',    'No']]\n",
    "\n",
    "df = pd.DataFrame(lst, columns = ['Route', 'Time', 'Cost', 'Traffic Intensity', 'Selection'])\n",
    "\n",
    "df"
   ]
  },
  {
   "cell_type": "code",
   "execution_count": 4,
   "metadata": {},
   "outputs": [
    {
     "data": {
      "text/plain": [
       "{'Route 1': 1.6666666666666667,\n",
       " 'Route 2': 2.0,\n",
       " 'Route 3': 2.0,\n",
       " 'Route 4': 0.5,\n",
       " 'Route 5': 0.5,\n",
       " 'Route 6': 0.5,\n",
       " 'Route 7': 0.5,\n",
       " 'Route 8': 3.0}"
      ]
     },
     "execution_count": 4,
     "metadata": {},
     "output_type": "execute_result"
    }
   ],
   "source": [
    "time_rewards_dict = {'Best':3,'Average':1,'Worst':0}\n",
    "df_optimise_time = df[['Route','Time']].copy(deep=True)\n",
    "df_optimise_time['time_reward'] = df_optimise_time['Time'].map(time_rewards_dict)\n",
    "df_optimise_time = df_optimise_time.groupby(by='Route').agg({'time_reward':'mean'})\n",
    "dict_optimise_time = df_optimise_time.to_dict()['time_reward']\n",
    "dict_optimise_time\n"
   ]
  },
  {
   "cell_type": "code",
   "execution_count": 5,
   "metadata": {},
   "outputs": [
    {
     "data": {
      "text/plain": [
       "{'Route 1': 2.0,\n",
       " 'Route 2': 1.5,\n",
       " 'Route 3': 0.0,\n",
       " 'Route 4': 3.0,\n",
       " 'Route 5': 0.0,\n",
       " 'Route 6': 1.5,\n",
       " 'Route 7': 3.0,\n",
       " 'Route 8': 3.0}"
      ]
     },
     "execution_count": 5,
     "metadata": {},
     "output_type": "execute_result"
    }
   ],
   "source": [
    "cost_rewards_dict = {'Medium':0,'Minimum':3}\n",
    "df_optimise_cost = df[['Route','Cost']].copy(deep=True)\n",
    "df_optimise_cost['cost_reward'] = df_optimise_cost['Cost'].map(cost_rewards_dict)\n",
    "df_optimise_cost = df_optimise_cost.groupby(by='Route').agg({'cost_reward':'mean'})\n",
    "dict_optimise_cost = df_optimise_cost.to_dict()['cost_reward']\n",
    "dict_optimise_cost"
   ]
  },
  {
   "cell_type": "code",
   "execution_count": 6,
   "metadata": {},
   "outputs": [
    {
     "data": {
      "text/plain": [
       "{'Route 1': 2.3333333333333335,\n",
       " 'Route 2': 1.0,\n",
       " 'Route 3': 2.3333333333333335,\n",
       " 'Route 4': 0.5,\n",
       " 'Route 5': 0.0,\n",
       " 'Route 6': 1.5,\n",
       " 'Route 7': 1.5,\n",
       " 'Route 8': 2.0}"
      ]
     },
     "execution_count": 6,
     "metadata": {},
     "output_type": "execute_result"
    }
   ],
   "source": [
    "traffic_rewards_dict = {'Medium':1,'Low':3,'High':0}\n",
    "df_optimise_traffic= df[['Route','Traffic Intensity']].copy(deep=True)\n",
    "df_optimise_traffic['traffic_reward'] = df_optimise_traffic['Traffic Intensity'].map(traffic_rewards_dict)\n",
    "df_optimise_traffic = df_optimise_traffic.groupby(by='Route').agg({'traffic_reward':'mean'})\n",
    "dict_optimise_traffic = df_optimise_traffic.to_dict()['traffic_reward']\n",
    "dict_optimise_traffic"
   ]
  },
  {
   "cell_type": "code",
   "execution_count": 9,
   "metadata": {},
   "outputs": [
    {
     "data": {
      "text/plain": [
       "{'Route 1': 6.0,\n",
       " 'Route 2': 4.5,\n",
       " 'Route 3': 4.333333333333334,\n",
       " 'Route 4': 4.0,\n",
       " 'Route 5': 0.5,\n",
       " 'Route 6': 3.5,\n",
       " 'Route 7': 5.0,\n",
       " 'Route 8': 8.0}"
      ]
     },
     "execution_count": 9,
     "metadata": {},
     "output_type": "execute_result"
    }
   ],
   "source": [
    "dict_optimise_all = {key: (dict_optimise_time[key]+dict_optimise_cost[key]+dict_optimise_traffic[key]) for (key, value) in dict_optimise_time.items()}\n",
    "dict_optimise_all"
   ]
  },
  {
   "cell_type": "code",
   "execution_count": 13,
   "metadata": {},
   "outputs": [
    {
     "data": {
      "text/plain": [
       "{'A': {'A': 0, 'B': 0, 'C': 1.6666666666666667, 'D': 2.0, 'E': 0, 'F': 2.0},\n",
       " 'B': {'A': 0, 'B': 0, 'C': 0, 'D': 0, 'E': 0, 'F': 0},\n",
       " 'C': {'A': 0, 'B': 0.5, 'C': 0, 'D': 0, 'E': 0, 'F': 0},\n",
       " 'D': {'A': 0, 'B': 0, 'C': 0, 'D': 0, 'E': 0.5, 'F': 0},\n",
       " 'E': {'A': 0, 'B': 3.0, 'C': 0, 'D': 0, 'E': 0, 'F': 0},\n",
       " 'F': {'A': 0, 'B': 0, 'C': 0.5, 'D': 0, 'E': 0.5, 'F': 0}}"
      ]
     },
     "execution_count": 13,
     "metadata": {},
     "output_type": "execute_result"
    }
   ],
   "source": [
    "# state_transition_matrix = {\n",
    "# 'A': {'Route 1': 0.2, 'Route 2': 0.2, 'Route 3': 0.1, 'Route 6': 0.05, 'Route 4': 0.05, 'Route 5': 0.1, 'Route 7': 0.05, 'Route 8': 0.1},\n",
    "# 'B': {'Route 1': 0.15, 'Route 2': 0.25, 'Route 3': 0.05, 'Route 6': 0.05, 'Route 4': 0.05, 'Route 5': 0.1, 'Route 7': 0.05, 'Route 8': 0.3},\n",
    "# 'C': {'Route 1': 0.05, 'Route 2': 0.05, 'Route 3': 0.3, 'Route 6': 0.1, 'Route 4': 0.05, 'Route 5': 0.05, 'Route 7': 0.05, 'Route 8': 0.35},\n",
    "# 'D': {'Route 1': 0.1, 'Route 2': 0.05, 'Route 3': 0.05, 'Route 6': 0.1, 'Route 4': 0.3, 'Route 5': 0.05, 'Route 7': 0.05, 'Route 8': 0.3},\n",
    "# 'E': {'Route 1': 0.05, 'Route 2': 0.05, 'Route 3': 0.05, 'Route 6': 0.1, 'Route 4': 0.05, 'Route 5': 0.3, 'Route 7': 0.05, 'Route 8': 0.35},\n",
    "# 'F': {'Route 1': 0.1, 'Route 2': 0.1, 'Route 3': 0.1, 'Route 6': 0.3, 'Route 4': 0.05, 'Route 5': 0.05, 'Route 7': 0.2, 'Route 8': 0.1},\n",
    "# }\n",
    "# #\n",
    "# state_transition_matrix = {\n",
    "#     'Route 1': {'Route 1': 0.2, 'Route 2': 0.2, 'Route 3': 0.1, 'Route 6': 0.05, 'Route 4': 0.05, 'Route 5': 0.1, 'Route 7': 0.05, 'Route 8': 0.1},\n",
    "#     'Route 2': {'Route 1': 0.15, 'Route 2': 0.25, 'Route 3': 0.05, 'Route 6': 0.05, 'Route 4': 0.05, 'Route 5': 0.1, 'Route 7': 0.05, 'Route 8': 0.3},\n",
    "#     'Route 3': {'Route 1': 0.05, 'Route 2': 0.05, 'Route 3': 0.3, 'Route 6': 0.1, 'Route 4': 0.05, 'Route 5': 0.05, 'Route 7': 0.05, 'Route 8': 0.35},\n",
    "#     'Route 4': {'Route 1': 0.1, 'Route 2': 0.05, 'Route 3': 0.05, 'Route 6': 0.1, 'Route 4': 0.3, 'Route 5': 0.05, 'Route 7': 0.05, 'Route 8': 0.3},\n",
    "#     'Route 5': {'Route 1': 0.05, 'Route 2': 0.05, 'Route 3': 0.05, 'Route 6': 0.1, 'Route 4': 0.05, 'Route 5': 0.3, 'Route 7': 0.05, 'Route 8': 0.35},\n",
    "#     'Route 6': {'Route 1': 0.1, 'Route 2': 0.1, 'Route 3': 0.1, 'Route 6': 0.3, 'Route 4': 0.05, 'Route 5': 0.05, 'Route 7': 0.2, 'Route 8': 0.1},\n",
    "#     'Route 7': {'Route 1': 0.05, 'Route 2': 0.1, 'Route 3': 0.05, 'Route 6': 0.1, 'Route 4': 0.05, 'Route 5': 0.05, 'Route 7': 0.3, 'Route 8': 0.3},\n",
    "#     'Route 8': {'Route 1': 0.2, 'Route 2': 0.2, 'Route 3': 0.1, 'Route 6': 0.05, 'Route 4': 0.05, 'Route 5': 0.1, 'Route 7': 0.05, 'Route 8': 0.2}\n",
    "# }\n",
    "\n",
    "state_transition_matrix = {\n",
    "    'A': {'A': 0, 'B': 0, 'C': dict_optimise_time['Route 1'], 'D': dict_optimise_time['Route 3'], 'E': 0, 'F': dict_optimise_time['Route 2']},\n",
    "    'B': {'A': 0, 'B': 0, 'C': 0, 'D': 0, 'E': 0, 'F': 0},\n",
    "    'C': {'A': 0, 'B': dict_optimise_time['Route 7'], 'C': 0, 'D': 0, 'E': 0, 'F': 0},\n",
    "    'D': {'A': 0, 'B': 0, 'C': 0, 'D': 0, 'E': dict_optimise_time['Route 5'], 'F': 0},\n",
    "    'E': {'A': 0, 'B': dict_optimise_time['Route 8'], 'C': 0, 'D': 0, 'E': 0, 'F': 0},\n",
    "    'F': {'A': 0, 'B': 0, 'C': dict_optimise_time['Route 4'], 'D': 0, 'E': dict_optimise_time['Route 6'], 'F': 0}}\n",
    "state_transition_matrix"
   ]
  },
  {
   "cell_type": "code",
   "execution_count": 14,
   "metadata": {},
   "outputs": [
    {
     "data": {
      "text/plain": [
       "{'A': {'A': 0.0, 'B': 0.0, 'C': 0.2941, 'D': 0.3529, 'E': 0.0, 'F': 0.3529},\n",
       " 'B': {'A': 0.0, 'B': 0.0, 'C': 0.0, 'D': 0.0, 'E': 0.0, 'F': 0.0},\n",
       " 'C': {'A': 0.0, 'B': 1.0, 'C': 0.0, 'D': 0.0, 'E': 0.0, 'F': 0.0},\n",
       " 'D': {'A': 0.0, 'B': 0.0, 'C': 0.0, 'D': 0.0, 'E': 1.0, 'F': 0.0},\n",
       " 'E': {'A': 0.0, 'B': 1.0, 'C': 0.0, 'D': 0.0, 'E': 0.0, 'F': 0.0},\n",
       " 'F': {'A': 0.0, 'B': 0.0, 'C': 0.5, 'D': 0.0, 'E': 0.5, 'F': 0.0}}"
      ]
     },
     "execution_count": 14,
     "metadata": {},
     "output_type": "execute_result"
    }
   ],
   "source": [
    "state_transition_matrix_norm = state_transition_matrix.copy()\n",
    "for key, value in state_transition_matrix.items():\n",
    "    state_transition_matrix[key] = {item: np.round(value/max(sum(state_transition_matrix[key].values()),0.1),4) for (item, value) in state_transition_matrix[key].items()}\n",
    "\n",
    "state_transition_matrix"
   ]
  },
  {
   "cell_type": "code",
   "execution_count": 19,
   "metadata": {},
   "outputs": [
    {
     "data": {
      "text/plain": [
       "'C'"
      ]
     },
     "execution_count": 19,
     "metadata": {},
     "output_type": "execute_result"
    }
   ],
   "source": [
    "state_action_mapping = {'A':{'Route 1':'C','Route 3':'D','Route 2':'F'},\n",
    "            'B':{},\n",
    "            'C':{'Route 7':'B'},\n",
    "            'D':{'Route 5':'E'},\n",
    "            'E':{'Route 8':'B'},\n",
    "            'F':{'Route 4':'C','Route 6':'E'}}\n"
   ]
  },
  {
   "cell_type": "code",
   "execution_count": 25,
   "metadata": {},
   "outputs": [
    {
     "data": {
      "text/plain": [
       "{'A': 30.743705000000002,\n",
       " 'B': 100,\n",
       " 'C': 90.5,\n",
       " 'D': 84.2,\n",
       " 'E': 93.0,\n",
       " 'F': 42.35}"
      ]
     },
     "execution_count": 25,
     "metadata": {},
     "output_type": "execute_result"
    }
   ],
   "source": [
    "# Define the transition probabilities and rewards for each route\n",
    "transition_probabilities = state_transition_matrix.copy()\n",
    "\n",
    "# Define rewards for each scenario\n",
    "rewards_time = {'Route 1': 1.6667,'Route 2': 2.0,'Route 3': 2.0,'Route 4': 0.5,\n",
    "                'Route 5': 0.5,'Route 6': 0.5,'Route 7': 0.5,'Route 8': 3.0}\n",
    "\n",
    "# rewards_cost = {\n",
    "#     'Route 1': -9, 'Route 2': -5, 'Route 3': -12, 'Route 4': -8,\n",
    "#     'Route 5': -10, 'Route 6': -11, 'Route 7': -6, 'Route 8': -7\n",
    "# }\n",
    "\n",
    "# rewards_traffic = {\n",
    "#     'Route 1': -8, 'Route 2': -7, 'Route 3': -9, 'Route 4': -6,\n",
    "#     'Route 5': -11, 'Route 6': -10, 'Route 7': -12, 'Route 8': -5\n",
    "# }\n",
    "\n",
    "# rewards_all = {\n",
    "#     'Route 1': -20, 'Route 2': -18, 'Route 3': -15, 'Route 4': -19,\n",
    "#     'Route 5': -17, 'Route 6': -16, 'Route 7': -22, 'Route 8': -21\n",
    "# }\n",
    "\n",
    "# Define states and actions\n",
    "states = ['A', 'B', 'C', 'D', 'E', 'F']\n",
    "# actions = ['Route 1', 'Route 2', 'Route 3', 'Route 4', 'Route 5', 'Route 6', 'Route 7', 'Route 8']\n",
    "state_action_mapping = {'A':{'Route 1':'C','Route 3':'D','Route 2':'F'},\n",
    "            'B':{},\n",
    "            'C':{'Route 7':'B'},\n",
    "            'D':{'Route 5':'E'},\n",
    "            'E':{'Route 8':'B'},\n",
    "            'F':{'Route 4':'C','Route 6':'E'}}\n",
    "\n",
    "# Value iteration function\n",
    "def value_iteration(rewards, gamma=0.9, theta=0.0001):\n",
    "    V = {s: 100 for s in states}\n",
    "    # print('Initial V = ',V)\n",
    "    while True:\n",
    "        delta = 0\n",
    "        for state in states:\n",
    "            v = V[state]\n",
    "            new_state_value = []\n",
    "            for action in state_action_mapping[state].keys():\n",
    "                next_state = state_action_mapping[state][action]\n",
    "                next_state_transition_prob = transition_probabilities[state][next_state]\n",
    "                new_state_value.append(rewards[action] + (gamma * next_state_transition_prob * V[next_state]))\n",
    "            V[state] = max(new_state_value) if len(new_state_value)>0 else 100\n",
    "        delta = max(delta, abs(v - V[state]))\n",
    "        if delta < theta:\n",
    "            break\n",
    "    # print(V)        \n",
    "    return V\n",
    "\n",
    "# Print transition probabilities for each state and action\n",
    "# print(\"Transition Probabilities:\")\n",
    "# for s in states:\n",
    "#     print(s + \":\")\n",
    "#     for a in actions:\n",
    "#         print(f\"  {a}: {transition_probabilities[s][a]}\")\n",
    "\n",
    "value_iteration(rewards_time)\n"
   ]
  },
  {
   "cell_type": "code",
   "execution_count": null,
   "metadata": {},
   "outputs": [],
   "source": [
    "value_iteration(rewards_time)"
   ]
  }
 ],
 "metadata": {
  "kernelspec": {
   "display_name": "Python 3.9.16 ('base')",
   "language": "python",
   "name": "python3"
  },
  "language_info": {
   "codemirror_mode": {
    "name": "ipython",
    "version": 3
   },
   "file_extension": ".py",
   "mimetype": "text/x-python",
   "name": "python",
   "nbconvert_exporter": "python",
   "pygments_lexer": "ipython3",
   "version": "3.9.16"
  },
  "orig_nbformat": 4,
  "vscode": {
   "interpreter": {
    "hash": "40d3a090f54c6569ab1632332b64b2c03c39dcf918b08424e98f38b5ae0af88f"
   }
  }
 },
 "nbformat": 4,
 "nbformat_minor": 2
}
