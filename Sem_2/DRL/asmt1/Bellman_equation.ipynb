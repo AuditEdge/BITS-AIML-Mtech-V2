{
 "cells": [
  {
   "cell_type": "markdown",
   "source": [
    "# RL asmt 1"
   ],
   "metadata": {
    "collapsed": false
   },
   "id": "598546f3a1896eb0"
  },
  {
   "cell_type": "markdown",
   "source": [
    "Discuss in detail how Markov Decision Process (MDP) can help in route planning application.\n",
    "Justify your answer in 350-400 words. Explain in detail your environment, state space, action\n",
    "space  and equations aligned with the given problem. Write the answer in the Colab Cell itself.\n"
   ],
   "metadata": {
    "collapsed": false
   },
   "id": "70830942e3820ce6"
  },
  {
   "cell_type": "raw",
   "source": [
    "Markov property: Given we are in any of the states (each of the locations), the probablity of getting to the next station will only depend on A. the policy, B. The current location the customer is in, irrespective of the path he took to reach there, therefore satisfying the markov property.\n",
    "\n",
    "Bellman optimatlity solution for MDP: Clearly the problem can be broken into smaller subproblems and a) the optimal route from A to B is same as optimal route from A to S and S to B for some location S on the optimal route. also b) the subproblems repeat themseleves, meaning we can save solutions to subproblems and use it later to increase efficiency\n",
    "(Belman optimatlity equation can be used to get state action values.)\n",
    "\n",
    "Clearly, the problem can be modelled and solved as an MDP\n",
    "\n",
    "\n",
    "MDP definition:\n",
    "    State: Sequential, Episodic, finite state (we reach A to be in finite number of steps),fully observable enviorment. Each of the locations is a state (A to F)\n",
    "Actions: Given a state, we can choose one of the multiple routes leading out of it depending on out policy\n",
    "Rewards: For each location the driver is in, once he chooses a path he gets some negative reward, either in terms of cost incurred, time taken or traffic observed.\n",
    "State Transition probablity: Fullly observable deterministic enviorment. once we take an action in a state, the next state is determined by the node the route points to.\n",
    "Discounting Factor: Should be 1 as we want to optimise the total reward.\n",
    "\n",
    "Goal: stating state A, terminal state B, maximise the reward.\n",
    "\n",
    "Value iteration equation: v_k+1 = max(R_a + gamma* P_a * v_k)\n"
   ],
   "metadata": {
    "collapsed": false
   },
   "id": "928145211f744cc6"
  },
  {
   "cell_type": "code",
   "execution_count": 41,
   "outputs": [],
   "source": [
    "import pandas as pd\n",
    "import numpy as np"
   ],
   "metadata": {
    "collapsed": false,
    "ExecuteTime": {
     "end_time": "2024-02-11T11:50:13.083901900Z",
     "start_time": "2024-02-11T11:50:13.073069200Z"
    }
   }
  },
  {
   "cell_type": "code",
   "execution_count": 59,
   "outputs": [
    {
     "data": {
      "text/plain": "    Route     Time     Cost Traffic Intensity Selection\n0       1     Best  Minimum            Medium       Yes\n1       1  Average  Minimum               Low       Yes\n2       1  Average  Maximum               Low        No\n3       2  Average  Minimum            Medium       Yes\n4       2     Best  Maximum            Medium       Yes\n5       3     Best  Maximum               Low        No\n6       3    Worst  Maximum            Medium        No\n7       3     Best  Maximum               Low       Yes\n8       4  Average  Minimum              High        No\n9       4    Worst  Minimum            Medium        No\n10      5  Average  Maximum              High       Yes\n11      5    Worst  Maximum              High        No\n12      6    Worst  Maximum              High       Yes\n13      6  Average  Minimum               Low       Yes\n14      7    Worst  Minimum              High       Yes\n15      7  Average  Minimum               Low       Yes\n16      8     Best  Minimum            Medium        No\n17      8     Best  Minimum               Low       Yes",
      "text/html": "<div>\n<style scoped>\n    .dataframe tbody tr th:only-of-type {\n        vertical-align: middle;\n    }\n\n    .dataframe tbody tr th {\n        vertical-align: top;\n    }\n\n    .dataframe thead th {\n        text-align: right;\n    }\n</style>\n<table border=\"1\" class=\"dataframe\">\n  <thead>\n    <tr style=\"text-align: right;\">\n      <th></th>\n      <th>Route</th>\n      <th>Time</th>\n      <th>Cost</th>\n      <th>Traffic Intensity</th>\n      <th>Selection</th>\n    </tr>\n  </thead>\n  <tbody>\n    <tr>\n      <th>0</th>\n      <td>1</td>\n      <td>Best</td>\n      <td>Minimum</td>\n      <td>Medium</td>\n      <td>Yes</td>\n    </tr>\n    <tr>\n      <th>1</th>\n      <td>1</td>\n      <td>Average</td>\n      <td>Minimum</td>\n      <td>Low</td>\n      <td>Yes</td>\n    </tr>\n    <tr>\n      <th>2</th>\n      <td>1</td>\n      <td>Average</td>\n      <td>Maximum</td>\n      <td>Low</td>\n      <td>No</td>\n    </tr>\n    <tr>\n      <th>3</th>\n      <td>2</td>\n      <td>Average</td>\n      <td>Minimum</td>\n      <td>Medium</td>\n      <td>Yes</td>\n    </tr>\n    <tr>\n      <th>4</th>\n      <td>2</td>\n      <td>Best</td>\n      <td>Maximum</td>\n      <td>Medium</td>\n      <td>Yes</td>\n    </tr>\n    <tr>\n      <th>5</th>\n      <td>3</td>\n      <td>Best</td>\n      <td>Maximum</td>\n      <td>Low</td>\n      <td>No</td>\n    </tr>\n    <tr>\n      <th>6</th>\n      <td>3</td>\n      <td>Worst</td>\n      <td>Maximum</td>\n      <td>Medium</td>\n      <td>No</td>\n    </tr>\n    <tr>\n      <th>7</th>\n      <td>3</td>\n      <td>Best</td>\n      <td>Maximum</td>\n      <td>Low</td>\n      <td>Yes</td>\n    </tr>\n    <tr>\n      <th>8</th>\n      <td>4</td>\n      <td>Average</td>\n      <td>Minimum</td>\n      <td>High</td>\n      <td>No</td>\n    </tr>\n    <tr>\n      <th>9</th>\n      <td>4</td>\n      <td>Worst</td>\n      <td>Minimum</td>\n      <td>Medium</td>\n      <td>No</td>\n    </tr>\n    <tr>\n      <th>10</th>\n      <td>5</td>\n      <td>Average</td>\n      <td>Maximum</td>\n      <td>High</td>\n      <td>Yes</td>\n    </tr>\n    <tr>\n      <th>11</th>\n      <td>5</td>\n      <td>Worst</td>\n      <td>Maximum</td>\n      <td>High</td>\n      <td>No</td>\n    </tr>\n    <tr>\n      <th>12</th>\n      <td>6</td>\n      <td>Worst</td>\n      <td>Maximum</td>\n      <td>High</td>\n      <td>Yes</td>\n    </tr>\n    <tr>\n      <th>13</th>\n      <td>6</td>\n      <td>Average</td>\n      <td>Minimum</td>\n      <td>Low</td>\n      <td>Yes</td>\n    </tr>\n    <tr>\n      <th>14</th>\n      <td>7</td>\n      <td>Worst</td>\n      <td>Minimum</td>\n      <td>High</td>\n      <td>Yes</td>\n    </tr>\n    <tr>\n      <th>15</th>\n      <td>7</td>\n      <td>Average</td>\n      <td>Minimum</td>\n      <td>Low</td>\n      <td>Yes</td>\n    </tr>\n    <tr>\n      <th>16</th>\n      <td>8</td>\n      <td>Best</td>\n      <td>Minimum</td>\n      <td>Medium</td>\n      <td>No</td>\n    </tr>\n    <tr>\n      <th>17</th>\n      <td>8</td>\n      <td>Best</td>\n      <td>Minimum</td>\n      <td>Low</td>\n      <td>Yes</td>\n    </tr>\n  </tbody>\n</table>\n</div>"
     },
     "execution_count": 59,
     "metadata": {},
     "output_type": "execute_result"
    }
   ],
   "source": [
    "# Reading the df and finding the prior, likelihood, predictor prior and posterior\n",
    "df = pd.read_csv(r'C:\\Users\\praka\\Acads\\M_Tech\\new_git_test\\BITS-AIML-Mtech-V2\\Sem_2\\DRL\\asmt1\\data.csv')\n",
    "df.head(25)"
   ],
   "metadata": {
    "collapsed": false,
    "ExecuteTime": {
     "end_time": "2024-02-11T13:06:14.434096500Z",
     "start_time": "2024-02-11T13:06:14.410708400Z"
    }
   }
  },
  {
   "cell_type": "code",
   "execution_count": 82,
   "outputs": [],
   "source": [
    "prior = df['Selection'].value_counts(normalize=True).round(6)  # class prior\n",
    "predictor_prior = df['Route'].value_counts(normalize=True).round(6) # predictor prior\n",
    "likelihood_no = df[df['Selection']=='No']['Route'].value_counts(normalize=True).round(6).sort_index() # likelihood\n",
    "likelihood_yes = df[df['Selection']=='Yes']['Route'].value_counts(normalize=True).round(6).sort_index()\n"
   ],
   "metadata": {
    "collapsed": false,
    "ExecuteTime": {
     "end_time": "2024-02-11T14:16:05.409033Z",
     "start_time": "2024-02-11T14:16:05.392306600Z"
    }
   },
   "id": "fd987164d1a3bc57"
  },
  {
   "cell_type": "code",
   "execution_count": 83,
   "outputs": [
    {
     "data": {
      "text/plain": "Route\n1    0.666665\n2    1.000000\n3    0.333332\n4    0.000000\n5    0.500000\n6    1.000000\n7    1.000000\n8    0.500000\nName: proportion, dtype: float64"
     },
     "execution_count": 83,
     "metadata": {},
     "output_type": "execute_result"
    }
   ],
   "source": [
    "def find_posterior(class_likelihood, class_prior, pred_prior):\n",
    "    tmp = class_likelihood * class_prior  # class posterior = class likelihood * class prior / predictor prior\n",
    "    aligned_series1, aligned_series2 = tmp.align(pred_prior)\n",
    "    return (aligned_series1/aligned_series2).round(6)\n",
    "\n",
    "posterior_yes = find_posterior(likelihood_yes , prior['Yes'], predictor_prior).fillna(0)\n",
    "posterior_no = find_posterior(likelihood_no , prior['No'], predictor_prior).fillna(0)\n",
    "\n",
    "posterior_yes"
   ],
   "metadata": {
    "collapsed": false,
    "ExecuteTime": {
     "end_time": "2024-02-11T14:16:05.839383300Z",
     "start_time": "2024-02-11T14:16:05.814875100Z"
    }
   }
  },
  {
   "cell_type": "markdown",
   "source": [
    "State transition probability P(St+1=S1 | St = S0, At=a).\n",
    "In our case can be written as P(St+1=S1 | St = S0)  [State x State Matrix]"
   ],
   "metadata": {
    "collapsed": false
   }
  },
  {
   "cell_type": "code",
   "execution_count": 84,
   "outputs": [
    {
     "data": {
      "text/plain": "{'A': {'A': 0, 'B': 0, 'C': 0.333333, 'D': 0.166666, 'E': 0, 'F': 0.500001},\n 'B': {'A': 0, 'B': 0, 'C': 0, 'D': 0, 'E': 0, 'F': 0},\n 'C': {'A': 0, 'B': 1, 'C': 0, 'D': 0, 'E': 0, 'F': 0},\n 'D': {'A': 0, 'B': 0, 'C': 0, 'D': 0, 'E': 1, 'F': 0},\n 'E': {'A': 0, 'B': 1, 'C': 0, 'D': 0, 'E': 0, 'F': 0},\n 'F': {'A': 0, 'B': 0, 'C': 0.0, 'D': 0, 'E': 1.0, 'F': 0}}"
     },
     "execution_count": 84,
     "metadata": {},
     "output_type": "execute_result"
    }
   ],
   "source": [
    "Pca_ = (posterior_yes[1]/(posterior_yes[1]+posterior_yes[2]+posterior_yes[3])).round(6)  # normalisation\n",
    "Pda_ = (posterior_yes[3]/(posterior_yes[1]+posterior_yes[2]+posterior_yes[3])).round(6)\n",
    "Pfa_ = (posterior_yes[2]/(posterior_yes[1]+posterior_yes[2]+posterior_yes[3])).round(6)\n",
    "\n",
    "Pcf_ = (posterior_yes[4]/(posterior_yes[4]+posterior_yes[6])).round(6)\n",
    "Pef_ = (posterior_yes[6]/(posterior_yes[4]+posterior_yes[6])).round(6)\n",
    "\n",
    "state_transition_matrix = {\n",
    "    'A' : {'A':0, 'B':0, 'C':Pca_, 'D':Pda_, 'E':0, 'F':Pfa_ },  # keys - initial, dict entries final\n",
    "    'B' : {'A':0, 'B':0, 'C':0, 'D':0, 'E':0, 'F':0 },\n",
    "    'C' : {'A':0, 'B':1, 'C':0, 'D':0, 'E':0, 'F':0 },\n",
    "    'D' : {'A':0, 'B':0, 'C':0, 'D':0, 'E':1, 'F':0 },\n",
    "    'E' : {'A':0, 'B':1, 'C':0, 'D':0, 'E':0, 'F':0 },\n",
    "    'F' : {'A':0, 'B':0, 'C':Pcf_, 'D':0, 'E':Pef_, 'F':0 }\n",
    "}\n",
    "\n",
    "state_transition_matrix  # probability of transitioning to state x from state y"
   ],
   "metadata": {
    "collapsed": false,
    "ExecuteTime": {
     "end_time": "2024-02-11T14:16:41.435433300Z",
     "start_time": "2024-02-11T14:16:41.424974800Z"
    }
   }
  },
  {
   "cell_type": "markdown",
   "source": [
    "Wherever there is only one path, we pick it so transition probability is 1.\n",
    "Where there are multiple paths, we use normalised P(yes|route) to find state transition probabilities"
   ],
   "metadata": {
    "collapsed": false
   }
  },
  {
   "cell_type": "code",
   "execution_count": 85,
   "outputs": [
    {
     "data": {
      "text/plain": "{'A': {'R1': 'C', 'R2': 'F', 'R3': 'D'},\n 'B': {},\n 'C': {'R7': 'B'},\n 'D': {'R5': 'E'},\n 'E': {'R8': 'B'},\n 'F': {'R4': 'C', 'R6': 'E'}}"
     },
     "execution_count": 85,
     "metadata": {},
     "output_type": "execute_result"
    }
   ],
   "source": [
    "# also keeping a mapping of inital_state->actions->final_state\n",
    "state_action_mapping = {'A':{'R1':'C', 'R2':'F', 'R3':'D'},\n",
    "                        'B':{},\n",
    "                        'C':{'R7':'B'},\n",
    "                        'D':{'R5':'E'},\n",
    "                        'E':{'R8':'B'},\n",
    "                        'F':{'R4':'C', 'R6':'E'}}\n",
    "\n",
    "state_action_mapping"
   ],
   "metadata": {
    "collapsed": false,
    "ExecuteTime": {
     "end_time": "2024-02-11T14:16:53.400301300Z",
     "start_time": "2024-02-11T14:16:53.384563500Z"
    }
   }
  },
  {
   "cell_type": "raw",
   "source": [
    "Reward calculation will change basis objective\n",
    "\n",
    "R(St=s, At=a) = R(At=a) since state is uniquely known given action"
   ],
   "metadata": {
    "collapsed": false
   }
  },
  {
   "cell_type": "markdown",
   "source": [
    "We will use E[Cost|RouteA] as Reward. Here cost can be switched with time taken or traffic or weighted average of these"
   ],
   "metadata": {
    "collapsed": false
   }
  },
  {
   "cell_type": "code",
   "execution_count": 86,
   "outputs": [
    {
     "data": {
      "text/plain": "    Route  Time  Cost  Traffic Intensity Selection\n0       1    -1    -2                 -2       Yes\n1       1    -2    -2                 -3       Yes\n2       1    -2    -1                 -3        No\n3       2    -2    -2                 -2       Yes\n4       2    -1    -1                 -2       Yes\n5       3    -1    -1                 -3        No\n6       3    -3    -1                 -2        No\n7       3    -1    -1                 -3       Yes\n8       4    -2    -2                 -1        No\n9       4    -3    -2                 -2        No\n10      5    -2    -1                 -1       Yes\n11      5    -3    -1                 -1        No\n12      6    -3    -1                 -1       Yes\n13      6    -2    -2                 -3       Yes\n14      7    -3    -2                 -1       Yes",
      "text/html": "<div>\n<style scoped>\n    .dataframe tbody tr th:only-of-type {\n        vertical-align: middle;\n    }\n\n    .dataframe tbody tr th {\n        vertical-align: top;\n    }\n\n    .dataframe thead th {\n        text-align: right;\n    }\n</style>\n<table border=\"1\" class=\"dataframe\">\n  <thead>\n    <tr style=\"text-align: right;\">\n      <th></th>\n      <th>Route</th>\n      <th>Time</th>\n      <th>Cost</th>\n      <th>Traffic Intensity</th>\n      <th>Selection</th>\n    </tr>\n  </thead>\n  <tbody>\n    <tr>\n      <th>0</th>\n      <td>1</td>\n      <td>-1</td>\n      <td>-2</td>\n      <td>-2</td>\n      <td>Yes</td>\n    </tr>\n    <tr>\n      <th>1</th>\n      <td>1</td>\n      <td>-2</td>\n      <td>-2</td>\n      <td>-3</td>\n      <td>Yes</td>\n    </tr>\n    <tr>\n      <th>2</th>\n      <td>1</td>\n      <td>-2</td>\n      <td>-1</td>\n      <td>-3</td>\n      <td>No</td>\n    </tr>\n    <tr>\n      <th>3</th>\n      <td>2</td>\n      <td>-2</td>\n      <td>-2</td>\n      <td>-2</td>\n      <td>Yes</td>\n    </tr>\n    <tr>\n      <th>4</th>\n      <td>2</td>\n      <td>-1</td>\n      <td>-1</td>\n      <td>-2</td>\n      <td>Yes</td>\n    </tr>\n    <tr>\n      <th>5</th>\n      <td>3</td>\n      <td>-1</td>\n      <td>-1</td>\n      <td>-3</td>\n      <td>No</td>\n    </tr>\n    <tr>\n      <th>6</th>\n      <td>3</td>\n      <td>-3</td>\n      <td>-1</td>\n      <td>-2</td>\n      <td>No</td>\n    </tr>\n    <tr>\n      <th>7</th>\n      <td>3</td>\n      <td>-1</td>\n      <td>-1</td>\n      <td>-3</td>\n      <td>Yes</td>\n    </tr>\n    <tr>\n      <th>8</th>\n      <td>4</td>\n      <td>-2</td>\n      <td>-2</td>\n      <td>-1</td>\n      <td>No</td>\n    </tr>\n    <tr>\n      <th>9</th>\n      <td>4</td>\n      <td>-3</td>\n      <td>-2</td>\n      <td>-2</td>\n      <td>No</td>\n    </tr>\n    <tr>\n      <th>10</th>\n      <td>5</td>\n      <td>-2</td>\n      <td>-1</td>\n      <td>-1</td>\n      <td>Yes</td>\n    </tr>\n    <tr>\n      <th>11</th>\n      <td>5</td>\n      <td>-3</td>\n      <td>-1</td>\n      <td>-1</td>\n      <td>No</td>\n    </tr>\n    <tr>\n      <th>12</th>\n      <td>6</td>\n      <td>-3</td>\n      <td>-1</td>\n      <td>-1</td>\n      <td>Yes</td>\n    </tr>\n    <tr>\n      <th>13</th>\n      <td>6</td>\n      <td>-2</td>\n      <td>-2</td>\n      <td>-3</td>\n      <td>Yes</td>\n    </tr>\n    <tr>\n      <th>14</th>\n      <td>7</td>\n      <td>-3</td>\n      <td>-2</td>\n      <td>-1</td>\n      <td>Yes</td>\n    </tr>\n  </tbody>\n</table>\n</div>"
     },
     "execution_count": 86,
     "metadata": {},
     "output_type": "execute_result"
    }
   ],
   "source": [
    "time_mapping = {'Best':-1, 'Average':-2, 'Worst':-3  }\n",
    "cost_mapping = {'Maximum':-1, 'Minimum':-2 }\n",
    "traffic_mapping = {'High':-1, 'Medium':-2, 'Low':-3  }\n",
    "\n",
    "df['Time'] = df['Time'].replace(time_mapping)\n",
    "df['Cost'] = df['Cost'].replace(cost_mapping)\n",
    "df['Traffic Intensity'] = df['Traffic Intensity'].replace(traffic_mapping)\n",
    "\n",
    "df.head(15)"
   ],
   "metadata": {
    "collapsed": false,
    "ExecuteTime": {
     "end_time": "2024-02-11T14:16:57.895587200Z",
     "start_time": "2024-02-11T14:16:57.871410700Z"
    }
   }
  },
  {
   "cell_type": "code",
   "execution_count": 90,
   "outputs": [
    {
     "data": {
      "text/plain": "Route\n1   -2.666667\n2   -2.000000\n3   -2.666667\n4   -1.500000\n5   -1.000000\n6   -2.000000\n7   -2.000000\n8   -2.500000\nName: Traffic Intensity, dtype: float64"
     },
     "execution_count": 90,
     "metadata": {},
     "output_type": "execute_result"
    }
   ],
   "source": [
    "rewards = df.groupby('Route').agg({'Time':'mean', 'Cost':'mean', 'Traffic Intensity':'mean'})\n",
    "reward_time = rewards['Time'].round(6)  # expected time based reward if action A is chosen\n",
    "reward_cost = rewards['Cost'].round(6)  # same for traffic and cost\n",
    "reward_traffic = rewards['Traffic Intensity'].round(6)\n",
    "reward_combined =  (0.33*reward_time + 0.33*reward_cost + 0.33*reward_traffic).round(6) # considering all factors with equal weightage\n",
    "\n",
    "reward_traffic"
   ],
   "metadata": {
    "collapsed": false,
    "ExecuteTime": {
     "end_time": "2024-02-11T14:17:56.756847400Z",
     "start_time": "2024-02-11T14:17:56.740983100Z"
    }
   }
  },
  {
   "cell_type": "code",
   "execution_count": 104,
   "outputs": [
    {
     "data": {
      "text/plain": "A   -0.999999\nB    1.000000\nC   -1.500000\nD   -1.500000\nE    0.000000\nF   -1.500000\nName: value, dtype: float64"
     },
     "execution_count": 104,
     "metadata": {},
     "output_type": "execute_result"
    }
   ],
   "source": [
    "# Running value iteration script - time\n",
    "def value_iteration(reward_type):\n",
    "    num_iterations = 0\n",
    "    value_vector = pd.Series({'A':1, 'B':1, 'C':1, 'D':1, 'E':1, 'F':1 }, name='value') # starting with an inital value estimate\n",
    "    gamma = 1 # setting up a discounting factor\n",
    "    while num_iterations < 15:\n",
    "        updated_value = {}\n",
    "        for state in ['A', 'B', 'C', 'D', 'E', 'F']:\n",
    "            new_state_value = -10**12\n",
    "            for action in range(1, 9):\n",
    "                if 'R'+str(action) in list(state_action_mapping[state].keys()):\n",
    "                    # action belongs to the state, find next state\n",
    "                    next_state = state_action_mapping[state]['R'+str(action)]\n",
    "                    next_state_transition_probability = state_transition_matrix[state][next_state]\n",
    "\n",
    "                    new_state_value = max(new_state_value,\n",
    "                                          reward_type[action] + gamma * next_state_transition_probability * value_vector[next_state] )\n",
    "                else:\n",
    "                    # this action dosent belongs to this state\n",
    "                    pass\n",
    "\n",
    "            #v_k+1 = max(R_a + gamma* P_a * v_k)\n",
    "            updated_value[state] = value_vector[state] if new_state_value == -10**12 else new_state_value\n",
    "\n",
    "        updated_value_vector = pd.Series(updated_value, name='value')\n",
    "        # print('value vector at iteration {} is {}'.format(num_iterations, updated_value_vector))\n",
    "        value_vector = updated_value_vector\n",
    "\n",
    "        num_iterations +=1\n",
    "        return value_vector\n",
    "\n",
    "\n",
    "final_value_vector = value_iteration(reward_type=reward_time)\n",
    "final_value_vector"
   ],
   "metadata": {
    "collapsed": false,
    "ExecuteTime": {
     "end_time": "2024-02-11T14:23:34.662603900Z",
     "start_time": "2024-02-11T14:23:34.638790500Z"
    }
   }
  },
  {
   "cell_type": "code",
   "execution_count": 105,
   "outputs": [
    {
     "data": {
      "text/plain": "A   -0.833334\nB    1.000000\nC   -1.000000\nD    0.000000\nE   -1.000000\nF   -0.500000\nName: value, dtype: float64"
     },
     "execution_count": 105,
     "metadata": {},
     "output_type": "execute_result"
    }
   ],
   "source": [
    "final_value_vector = value_iteration(reward_type=reward_cost)\n",
    "final_value_vector"
   ],
   "metadata": {
    "collapsed": false,
    "ExecuteTime": {
     "end_time": "2024-02-11T14:23:35.769229Z",
     "start_time": "2024-02-11T14:23:35.754310800Z"
    }
   }
  },
  {
   "cell_type": "code",
   "execution_count": 106,
   "outputs": [
    {
     "data": {
      "text/plain": "A   -1.499999\nB    1.000000\nC   -1.000000\nD    0.000000\nE   -1.500000\nF   -1.000000\nName: value, dtype: float64"
     },
     "execution_count": 106,
     "metadata": {},
     "output_type": "execute_result"
    }
   ],
   "source": [
    "final_value_vector = value_iteration(reward_type=reward_traffic)\n",
    "final_value_vector"
   ],
   "metadata": {
    "collapsed": false,
    "ExecuteTime": {
     "end_time": "2024-02-11T14:23:36.222773200Z",
     "start_time": "2024-02-11T14:23:36.211933600Z"
    }
   }
  },
  {
   "cell_type": "code",
   "execution_count": 107,
   "outputs": [
    {
     "data": {
      "text/plain": "A   -1.149999\nB    1.000000\nC   -1.145000\nD   -0.485000\nE   -0.815000\nF   -0.980000\nName: value, dtype: float64"
     },
     "execution_count": 107,
     "metadata": {},
     "output_type": "execute_result"
    }
   ],
   "source": [
    "final_value_vector = value_iteration(reward_type=reward_combined)\n",
    "final_value_vector"
   ],
   "metadata": {
    "collapsed": false,
    "ExecuteTime": {
     "end_time": "2024-02-11T14:23:37.027630700Z",
     "start_time": "2024-02-11T14:23:37.018569700Z"
    }
   }
  },
  {
   "cell_type": "code",
   "execution_count": null,
   "outputs": [],
   "source": [],
   "metadata": {
    "collapsed": false
   }
  }
 ],
 "metadata": {
  "kernelspec": {
   "display_name": "Python 3",
   "language": "python",
   "name": "python3"
  },
  "language_info": {
   "codemirror_mode": {
    "name": "ipython",
    "version": 2
   },
   "file_extension": ".py",
   "mimetype": "text/x-python",
   "name": "python",
   "nbconvert_exporter": "python",
   "pygments_lexer": "ipython2",
   "version": "2.7.6"
  }
 },
 "nbformat": 4,
 "nbformat_minor": 5
}
