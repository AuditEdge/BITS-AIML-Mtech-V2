{
 "cells": [
  {
   "cell_type": "markdown",
   "id": "9bda93ba",
   "metadata": {
    "id": "9bda93ba"
   },
   "source": [
    "## Group No 85\n",
    "\n",
    "## Group Member Names:\n",
    "1. Prakash Prasad\n",
    "2.\n",
    "3.\n",
    "4.\n",
    "\n",
    "## Journal used for the implemetation\n",
    "Journal title: Finding COVID-19 from Chest X-rays using Deep Learning on a Small Dataset\n",
    "\n",
    "Authors: Lawrence O. Hall, Rahul Paul, Dmitry B. Goldgof, and Gregory M. Goldgof1\n",
    "\n",
    "Journal Name: ieee\n",
    "\n",
    "Year: 2020\n"
   ]
  },
  {
   "cell_type": "markdown",
   "id": "0c7f7028",
   "metadata": {
    "id": "0c7f7028"
   },
   "source": [
    "# 1. Import the required libraries"
   ]
  },
  {
   "cell_type": "code",
   "execution_count": null,
   "id": "1a096390",
   "metadata": {
    "id": "1a096390"
   },
   "outputs": [],
   "source": [
    "##---------Type the code below this line------------------##\n",
    "import pandas as pd\n",
    "import numpy as np\n",
    "from tensorflow.keras.models import Model, Sequential\n"
   ]
  },
  {
   "cell_type": "markdown",
   "id": "3cc8e0cb",
   "metadata": {
    "id": "3cc8e0cb"
   },
   "source": [
    "# 2. Data Acquisition\n",
    "\n",
    "For the problem identified by you, students have to find the data source themselves from any data source.\n",
    "\n",
    "Provide the URL of the data used.\n",
    "\n",
    "Write Code for converting the above downloaded data into a form suitable for DL\n",
    "\n"
   ]
  },
  {
   "cell_type": "code",
   "execution_count": 1,
   "id": "4b51d895",
   "metadata": {
    "id": "4b51d895",
    "ExecuteTime": {
     "end_time": "2024-03-05T15:24:50.095016900Z",
     "start_time": "2024-03-05T15:24:50.074974700Z"
    }
   },
   "outputs": [
    {
     "data": {
      "text/plain": "'http://dx.doi.org/10.17632/rscbjbr9sj.2'"
     },
     "execution_count": 1,
     "metadata": {},
     "output_type": "execute_result"
    }
   ],
   "source": [
    "##---------Type the code below this line------------------##\n",
    "# multiple data sources:\n",
    "'https://github.com/ieee8023/covid-chestxray-dataset/tree/master/images'\n",
    "'http://dx.doi.org/10.17632/rscbjbr9sj.2'\n"
   ]
  },
  {
   "cell_type": "markdown",
   "id": "102e0e36",
   "metadata": {
    "id": "102e0e36"
   },
   "source": [
    "# 3. Data Preparation\n",
    "\n",
    "Perform the data preprocessing that is required for the data that you have downloaded.\n",
    "\n",
    "\n",
    "This stage depends on the dataset that is used."
   ]
  },
  {
   "cell_type": "code",
   "execution_count": 2,
   "id": "dd3118eb",
   "metadata": {
    "id": "dd3118eb",
    "ExecuteTime": {
     "end_time": "2024-03-05T15:28:13.139266600Z",
     "start_time": "2024-03-05T15:28:13.128993600Z"
    }
   },
   "outputs": [
    {
     "ename": "SyntaxError",
     "evalue": "invalid syntax (1055552590.py, line 10)",
     "output_type": "error",
     "traceback": [
      "\u001B[1;36m  Cell \u001B[1;32mIn[2], line 10\u001B[1;36m\u001B[0m\n\u001B[1;33m    ls ../input\u001B[0m\n\u001B[1;37m        ^\u001B[0m\n\u001B[1;31mSyntaxError\u001B[0m\u001B[1;31m:\u001B[0m invalid syntax\n"
     ]
    }
   ],
   "source": [
    "##---------Type the code below this line------------------##\n",
    "\n",
    "## Split the data into training set and testing set\n",
    "##---------Type the code below this line------------------##\n",
    "\n",
    "## Identify the target variables.\n",
    "##---------Type the code below this line------------------##\n",
    "\n",
    "\n",
    "\n"
   ]
  },
  {
   "cell_type": "raw",
   "id": "b310ceab",
   "metadata": {
    "id": "b310ceab"
   },
   "source": [
    "Report the feature representation that is being used for training the model.\n",
    "\n",
    "##---------Type below this line------------------##"
   ]
  },
  {
   "cell_type": "markdown",
   "id": "3ae0b5d2",
   "metadata": {
    "id": "3ae0b5d2"
   },
   "source": [
    "## 4. Deep Neural Network Architecture\n"
   ]
  },
  {
   "cell_type": "markdown",
   "id": "186bf4d7",
   "metadata": {
    "id": "186bf4d7"
   },
   "source": [
    "## 4.1 Design the architecture that you will be using\n",
    "\n",
    "* CNN / RNN / Transformer as per the journal referenced\n",
    "\n"
   ]
  },
  {
   "cell_type": "code",
   "execution_count": null,
   "id": "868d7b27",
   "metadata": {
    "id": "868d7b27"
   },
   "outputs": [],
   "source": [
    "##---------Type the code below this line------------------##"
   ]
  },
  {
   "cell_type": "markdown",
   "id": "575f9e37",
   "metadata": {
    "id": "575f9e37"
   },
   "source": [
    "## 4.2 DNN Report\n",
    "\n",
    "Report the following and provide justification for the same.\n",
    "\n",
    "* Number of layers\n",
    "* Number of units in each layer\n",
    "* Total number of trainable parameters\n",
    "\n"
   ]
  },
  {
   "cell_type": "raw",
   "id": "f5cd8f8f",
   "metadata": {
    "id": "f5cd8f8f"
   },
   "source": [
    "##---------Type the answer below this line------------------##"
   ]
  },
  {
   "cell_type": "markdown",
   "id": "bdbc82a1",
   "metadata": {
    "id": "bdbc82a1"
   },
   "source": [
    "# 5. Training the model\n"
   ]
  },
  {
   "cell_type": "code",
   "execution_count": null,
   "id": "a85e9754",
   "metadata": {
    "id": "a85e9754"
   },
   "outputs": [],
   "source": [
    "# Configure the training, by using appropriate optimizers, regularizations and loss functions\n",
    "##---------Type the code below this line------------------##"
   ]
  },
  {
   "cell_type": "markdown",
   "id": "06f1173c",
   "metadata": {
    "id": "06f1173c"
   },
   "source": [
    "# 6. Test the model\n"
   ]
  },
  {
   "cell_type": "code",
   "execution_count": null,
   "id": "7042235d",
   "metadata": {
    "id": "7042235d"
   },
   "outputs": [],
   "source": [
    "##---------Type the code below this line------------------##"
   ]
  },
  {
   "cell_type": "markdown",
   "id": "eb57940c",
   "metadata": {
    "id": "eb57940c"
   },
   "source": [
    "# 7. Report the result\n",
    "\n",
    "1. Plot the training and validation accuracy history.\n",
    "2. Plot the training and validation loss history.\n",
    "3. Report the testing accuracy and loss.\n",
    "4. Show Confusion Matrix for testing dataset.\n",
    "5. Report values for preformance study metrics like accuracy, precision, recall, F1 Score.\n"
   ]
  },
  {
   "cell_type": "code",
   "execution_count": null,
   "id": "cf409d22",
   "metadata": {
    "id": "cf409d22"
   },
   "outputs": [],
   "source": [
    "##---------Type the code below this line------------------##"
   ]
  },
  {
   "cell_type": "markdown",
   "id": "RcDDQlfbZQ7E",
   "metadata": {
    "id": "RcDDQlfbZQ7E"
   },
   "source": [
    "### NOTE\n",
    "\n",
    "\n",
    "All Late Submissions will incur a <b>penalty of -2 marks </b>. So submit your assignments on time.\n",
    "\n",
    "Good Luck"
   ]
  }
 ],
 "metadata": {
  "colab": {
   "provenance": []
  },
  "kernelspec": {
   "display_name": "Python 3 (ipykernel)",
   "language": "python",
   "name": "python3"
  },
  "language_info": {
   "codemirror_mode": {
    "name": "ipython",
    "version": 3
   },
   "file_extension": ".py",
   "mimetype": "text/x-python",
   "name": "python",
   "nbconvert_exporter": "python",
   "pygments_lexer": "ipython3",
   "version": "3.8.10"
  }
 },
 "nbformat": 4,
 "nbformat_minor": 5
}
