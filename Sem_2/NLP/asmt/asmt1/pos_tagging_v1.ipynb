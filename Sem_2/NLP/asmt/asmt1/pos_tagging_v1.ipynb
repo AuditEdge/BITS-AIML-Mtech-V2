{
 "cells": [
  {
   "cell_type": "code",
   "execution_count": 73,
   "metadata": {
    "collapsed": true,
    "ExecuteTime": {
     "end_time": "2024-01-10T17:54:44.144967Z",
     "start_time": "2024-01-10T17:54:44.088706Z"
    }
   },
   "outputs": [
    {
     "name": "stderr",
     "output_type": "stream",
     "text": [
      "[nltk_data] Downloading package stopwords to\n",
      "[nltk_data]     /Users/prakash.prasad/nltk_data...\n",
      "[nltk_data]   Package stopwords is already up-to-date!\n",
      "[nltk_data] Downloading package wordnet to\n",
      "[nltk_data]     /Users/prakash.prasad/nltk_data...\n",
      "[nltk_data]   Package wordnet is already up-to-date!\n",
      "[nltk_data] Downloading package punkt to\n",
      "[nltk_data]     /Users/prakash.prasad/nltk_data...\n",
      "[nltk_data]   Package punkt is already up-to-date!\n",
      "[nltk_data] Downloading package averaged_perceptron_tagger to\n",
      "[nltk_data]     /Users/prakash.prasad/nltk_data...\n",
      "[nltk_data]   Package averaged_perceptron_tagger is already up-to-\n",
      "[nltk_data]       date!\n",
      "[nltk_data] Downloading package tagsets to\n",
      "[nltk_data]     /Users/prakash.prasad/nltk_data...\n",
      "[nltk_data]   Package tagsets is already up-to-date!\n",
      "[nltk_data] Downloading package omw-1.4 to\n",
      "[nltk_data]     /Users/prakash.prasad/nltk_data...\n",
      "[nltk_data]   Package omw-1.4 is already up-to-date!\n",
      "[nltk_data] Downloading package treebank to\n",
      "[nltk_data]     /Users/prakash.prasad/nltk_data...\n",
      "[nltk_data]   Package treebank is already up-to-date!\n"
     ]
    }
   ],
   "source": [
    "import numpy as np\n",
    "import pandas as pd\n",
    "from collections import defaultdict\n",
    "import nltk\n",
    "import re\n",
    "import random\n",
    "nltk.download('stopwords')\n",
    "nltk.download('wordnet')\n",
    "nltk.download('punkt')\n",
    "nltk.download('averaged_perceptron_tagger')\n",
    "nltk.download('tagsets')\n",
    "nltk.download('omw-1.4')\n",
    "nltk.download('treebank')\n",
    "from nltk.corpus import reuters, stopwords\n",
    "from nltk.tokenize import word_tokenize\n",
    "from nltk.corpus import treebank\n",
    "import string\n",
    "from nltk import bigrams, FreqDist, ConditionalFreqDist\n",
    "from nltk.stem import PorterStemmer, WordNetLemmatizer\n",
    "from matplotlib import pyplot as plt\n",
    "from nltk import HiddenMarkovModelTagger"
   ]
  },
  {
   "cell_type": "code",
   "execution_count": 2,
   "outputs": [
    {
     "name": "stdout",
     "output_type": "stream",
     "text": [
      "(1048309, 5)\n"
     ]
    },
    {
     "data": {
      "text/plain": "                                             reviews       reviewers  \\\n0  Pretty dry, but I was able to pass with just t...     By Robert S   \n1  would be a better experience if the video and ...  By Gabriel E R   \n2  Information was perfect! The program itself wa...      By Jacob D   \n3  A few grammatical mistakes on test made me do ...       By Dale B   \n4  Excellent course and the training provided was...       By Sean G   \n\n   date_reviews  rating                 course_id  \n0  Feb 12, 2020     4.0  google-cbrs-cpi-training  \n1  Sep 28, 2020     4.0  google-cbrs-cpi-training  \n2  Apr 08, 2020     4.0  google-cbrs-cpi-training  \n3  Feb 24, 2020     4.0  google-cbrs-cpi-training  \n4  Jun 18, 2020     4.0  google-cbrs-cpi-training  ",
      "text/html": "<div>\n<style scoped>\n    .dataframe tbody tr th:only-of-type {\n        vertical-align: middle;\n    }\n\n    .dataframe tbody tr th {\n        vertical-align: top;\n    }\n\n    .dataframe thead th {\n        text-align: right;\n    }\n</style>\n<table border=\"1\" class=\"dataframe\">\n  <thead>\n    <tr style=\"text-align: right;\">\n      <th></th>\n      <th>reviews</th>\n      <th>reviewers</th>\n      <th>date_reviews</th>\n      <th>rating</th>\n      <th>course_id</th>\n    </tr>\n  </thead>\n  <tbody>\n    <tr>\n      <th>0</th>\n      <td>Pretty dry, but I was able to pass with just t...</td>\n      <td>By Robert S</td>\n      <td>Feb 12, 2020</td>\n      <td>4.0</td>\n      <td>google-cbrs-cpi-training</td>\n    </tr>\n    <tr>\n      <th>1</th>\n      <td>would be a better experience if the video and ...</td>\n      <td>By Gabriel E R</td>\n      <td>Sep 28, 2020</td>\n      <td>4.0</td>\n      <td>google-cbrs-cpi-training</td>\n    </tr>\n    <tr>\n      <th>2</th>\n      <td>Information was perfect! The program itself wa...</td>\n      <td>By Jacob D</td>\n      <td>Apr 08, 2020</td>\n      <td>4.0</td>\n      <td>google-cbrs-cpi-training</td>\n    </tr>\n    <tr>\n      <th>3</th>\n      <td>A few grammatical mistakes on test made me do ...</td>\n      <td>By Dale B</td>\n      <td>Feb 24, 2020</td>\n      <td>4.0</td>\n      <td>google-cbrs-cpi-training</td>\n    </tr>\n    <tr>\n      <th>4</th>\n      <td>Excellent course and the training provided was...</td>\n      <td>By Sean G</td>\n      <td>Jun 18, 2020</td>\n      <td>4.0</td>\n      <td>google-cbrs-cpi-training</td>\n    </tr>\n  </tbody>\n</table>\n</div>"
     },
     "execution_count": 2,
     "metadata": {},
     "output_type": "execute_result"
    }
   ],
   "source": [
    "df = pd.read_csv('Coursera_reviews.csv')\n",
    "print(df.shape)\n",
    "df.head()"
   ],
   "metadata": {
    "collapsed": false,
    "ExecuteTime": {
     "end_time": "2024-01-10T15:03:26.356050Z",
     "start_time": "2024-01-10T15:03:22.574292Z"
    }
   }
  },
  {
   "cell_type": "raw",
   "source": [
    "1. Preprocess the dataset to convert it into a format that the algorithm can work with.\n",
    "\n",
    "Removing rows where column review is Null\n"
   ],
   "metadata": {
    "collapsed": false
   }
  },
  {
   "cell_type": "code",
   "execution_count": 3,
   "outputs": [
    {
     "data": {
      "text/plain": "                                             reviews       reviewers  \\\n0  Pretty dry, but I was able to pass with just t...     By Robert S   \n1  would be a better experience if the video and ...  By Gabriel E R   \n2  Information was perfect! The program itself wa...      By Jacob D   \n3  A few grammatical mistakes on test made me do ...       By Dale B   \n4  Excellent course and the training provided was...       By Sean G   \n\n   date_reviews  rating                 course_id  \n0  Feb 12, 2020     4.0  google-cbrs-cpi-training  \n1  Sep 28, 2020     4.0  google-cbrs-cpi-training  \n2  Apr 08, 2020     4.0  google-cbrs-cpi-training  \n3  Feb 24, 2020     4.0  google-cbrs-cpi-training  \n4  Jun 18, 2020     4.0  google-cbrs-cpi-training  ",
      "text/html": "<div>\n<style scoped>\n    .dataframe tbody tr th:only-of-type {\n        vertical-align: middle;\n    }\n\n    .dataframe tbody tr th {\n        vertical-align: top;\n    }\n\n    .dataframe thead th {\n        text-align: right;\n    }\n</style>\n<table border=\"1\" class=\"dataframe\">\n  <thead>\n    <tr style=\"text-align: right;\">\n      <th></th>\n      <th>reviews</th>\n      <th>reviewers</th>\n      <th>date_reviews</th>\n      <th>rating</th>\n      <th>course_id</th>\n    </tr>\n  </thead>\n  <tbody>\n    <tr>\n      <th>0</th>\n      <td>Pretty dry, but I was able to pass with just t...</td>\n      <td>By Robert S</td>\n      <td>Feb 12, 2020</td>\n      <td>4.0</td>\n      <td>google-cbrs-cpi-training</td>\n    </tr>\n    <tr>\n      <th>1</th>\n      <td>would be a better experience if the video and ...</td>\n      <td>By Gabriel E R</td>\n      <td>Sep 28, 2020</td>\n      <td>4.0</td>\n      <td>google-cbrs-cpi-training</td>\n    </tr>\n    <tr>\n      <th>2</th>\n      <td>Information was perfect! The program itself wa...</td>\n      <td>By Jacob D</td>\n      <td>Apr 08, 2020</td>\n      <td>4.0</td>\n      <td>google-cbrs-cpi-training</td>\n    </tr>\n    <tr>\n      <th>3</th>\n      <td>A few grammatical mistakes on test made me do ...</td>\n      <td>By Dale B</td>\n      <td>Feb 24, 2020</td>\n      <td>4.0</td>\n      <td>google-cbrs-cpi-training</td>\n    </tr>\n    <tr>\n      <th>4</th>\n      <td>Excellent course and the training provided was...</td>\n      <td>By Sean G</td>\n      <td>Jun 18, 2020</td>\n      <td>4.0</td>\n      <td>google-cbrs-cpi-training</td>\n    </tr>\n  </tbody>\n</table>\n</div>"
     },
     "execution_count": 3,
     "metadata": {},
     "output_type": "execute_result"
    }
   ],
   "source": [
    "# working with a sample to start with, comment this out later\n",
    "# df1 = df.dropna(subset=['reviews']).copy()\n",
    "df1 = df.dropna(subset=['reviews']).iloc[0:100].copy()\n",
    "df1.head()"
   ],
   "metadata": {
    "collapsed": false,
    "ExecuteTime": {
     "end_time": "2024-01-10T15:03:36.447066Z",
     "start_time": "2024-01-10T15:03:36.343644Z"
    }
   }
  },
  {
   "cell_type": "raw",
   "source": [
    "1.1 Perform pre-processing steps like Removing Punctuations, Numbers, and Special Characters, Stop Words in dataset. (1M)\n"
   ],
   "metadata": {
    "collapsed": false
   }
  },
  {
   "cell_type": "code",
   "execution_count": 4,
   "outputs": [
    {
     "data": {
      "text/plain": "                                             reviews       reviewers  \\\n0  Pretty dry, but I was able to pass with just t...     By Robert S   \n1  would be a better experience if the video and ...  By Gabriel E R   \n2  Information was perfect! The program itself wa...      By Jacob D   \n3  A few grammatical mistakes on test made me do ...       By Dale B   \n4  Excellent course and the training provided was...       By Sean G   \n\n   date_reviews  rating                 course_id  \\\n0  Feb 12, 2020     4.0  google-cbrs-cpi-training   \n1  Sep 28, 2020     4.0  google-cbrs-cpi-training   \n2  Apr 08, 2020     4.0  google-cbrs-cpi-training   \n3  Feb 24, 2020     4.0  google-cbrs-cpi-training   \n4  Jun 18, 2020     4.0  google-cbrs-cpi-training   \n\n                                       clean_reviews  \n0  pretty dry able pass two complete watches im h...  \n1  would better experience video screen shots wou...  \n2  information perfect program little annoying wa...  \n3     grammatical mistakes test made double take bad  \n4  excellent course training provided detailed ea...  ",
      "text/html": "<div>\n<style scoped>\n    .dataframe tbody tr th:only-of-type {\n        vertical-align: middle;\n    }\n\n    .dataframe tbody tr th {\n        vertical-align: top;\n    }\n\n    .dataframe thead th {\n        text-align: right;\n    }\n</style>\n<table border=\"1\" class=\"dataframe\">\n  <thead>\n    <tr style=\"text-align: right;\">\n      <th></th>\n      <th>reviews</th>\n      <th>reviewers</th>\n      <th>date_reviews</th>\n      <th>rating</th>\n      <th>course_id</th>\n      <th>clean_reviews</th>\n    </tr>\n  </thead>\n  <tbody>\n    <tr>\n      <th>0</th>\n      <td>Pretty dry, but I was able to pass with just t...</td>\n      <td>By Robert S</td>\n      <td>Feb 12, 2020</td>\n      <td>4.0</td>\n      <td>google-cbrs-cpi-training</td>\n      <td>pretty dry able pass two complete watches im h...</td>\n    </tr>\n    <tr>\n      <th>1</th>\n      <td>would be a better experience if the video and ...</td>\n      <td>By Gabriel E R</td>\n      <td>Sep 28, 2020</td>\n      <td>4.0</td>\n      <td>google-cbrs-cpi-training</td>\n      <td>would better experience video screen shots wou...</td>\n    </tr>\n    <tr>\n      <th>2</th>\n      <td>Information was perfect! The program itself wa...</td>\n      <td>By Jacob D</td>\n      <td>Apr 08, 2020</td>\n      <td>4.0</td>\n      <td>google-cbrs-cpi-training</td>\n      <td>information perfect program little annoying wa...</td>\n    </tr>\n    <tr>\n      <th>3</th>\n      <td>A few grammatical mistakes on test made me do ...</td>\n      <td>By Dale B</td>\n      <td>Feb 24, 2020</td>\n      <td>4.0</td>\n      <td>google-cbrs-cpi-training</td>\n      <td>grammatical mistakes test made double take bad</td>\n    </tr>\n    <tr>\n      <th>4</th>\n      <td>Excellent course and the training provided was...</td>\n      <td>By Sean G</td>\n      <td>Jun 18, 2020</td>\n      <td>4.0</td>\n      <td>google-cbrs-cpi-training</td>\n      <td>excellent course training provided detailed ea...</td>\n    </tr>\n  </tbody>\n</table>\n</div>"
     },
     "execution_count": 4,
     "metadata": {},
     "output_type": "execute_result"
    }
   ],
   "source": [
    "def preprocess_text(text):\n",
    "    # Remove punctuations\n",
    "    try:\n",
    "        text = text.translate(str.maketrans('', '', string.punctuation))\n",
    "    except:\n",
    "        text = ['majorissue']\n",
    "    # Remove numbers\n",
    "    text = ''.join([i for i in text if not i.isdigit()])\n",
    "\n",
    "    # Remove special characters with space\n",
    "    text = re.sub(r'[^a-zA-Z\\s]', '', text)\n",
    "\n",
    "    # Convert to lowercase and tokenize and remove stopwords\n",
    "    words = word_tokenize(text.lower())\n",
    "    stop_words = set(stopwords.words('english'))\n",
    "    words = [word for word in words if word not in stop_words]\n",
    "\n",
    "    return ' '.join(words)  # rejoin to make a string\n",
    "\n",
    "df1['clean_reviews'] = df1['reviews'].apply(preprocess_text)\n",
    "df1.head()\n"
   ],
   "metadata": {
    "collapsed": false,
    "ExecuteTime": {
     "end_time": "2024-01-10T15:03:37.784189Z",
     "start_time": "2024-01-10T15:03:37.695754Z"
    }
   }
  },
  {
   "cell_type": "code",
   "execution_count": 5,
   "outputs": [
    {
     "data": {
      "text/plain": "Empty DataFrame\nColumns: [reviews, reviewers, date_reviews, rating, course_id, clean_reviews]\nIndex: []",
      "text/html": "<div>\n<style scoped>\n    .dataframe tbody tr th:only-of-type {\n        vertical-align: middle;\n    }\n\n    .dataframe tbody tr th {\n        vertical-align: top;\n    }\n\n    .dataframe thead th {\n        text-align: right;\n    }\n</style>\n<table border=\"1\" class=\"dataframe\">\n  <thead>\n    <tr style=\"text-align: right;\">\n      <th></th>\n      <th>reviews</th>\n      <th>reviewers</th>\n      <th>date_reviews</th>\n      <th>rating</th>\n      <th>course_id</th>\n      <th>clean_reviews</th>\n    </tr>\n  </thead>\n  <tbody>\n  </tbody>\n</table>\n</div>"
     },
     "execution_count": 5,
     "metadata": {},
     "output_type": "execute_result"
    }
   ],
   "source": [
    "df1[df1['clean_reviews'] == 'majorissue'].head()  # check if there has been any issue with tagging"
   ],
   "metadata": {
    "collapsed": false,
    "ExecuteTime": {
     "end_time": "2024-01-10T15:03:38.669695Z",
     "start_time": "2024-01-10T15:03:38.633826Z"
    }
   }
  },
  {
   "cell_type": "code",
   "execution_count": 6,
   "outputs": [
    {
     "name": "stdout",
     "output_type": "stream",
     "text": [
      "Sample change before and after cleaning\n",
      "0    Pretty dry, but I was able to pass with just t...\n",
      "Name: reviews, dtype: object\n",
      "\n",
      "\n",
      "0    pretty dry able pass two complete watches im h...\n",
      "Name: clean_reviews, dtype: object\n"
     ]
    }
   ],
   "source": [
    "print('Sample change before and after cleaning')\n",
    "print(df1.iloc[0:1]['reviews'])\n",
    "print('\\n')\n",
    "print(df1.iloc[0:1]['clean_reviews'])"
   ],
   "metadata": {
    "collapsed": false,
    "ExecuteTime": {
     "end_time": "2024-01-10T15:03:38.957421Z",
     "start_time": "2024-01-10T15:03:38.898213Z"
    }
   }
  },
  {
   "cell_type": "raw",
   "source": [
    "1.2 Perform normalization by using Stemming or Lemmatization.  (1M)"
   ],
   "metadata": {
    "collapsed": false
   }
  },
  {
   "cell_type": "code",
   "execution_count": 11,
   "outputs": [
    {
     "data": {
      "text/plain": "                                             reviews       reviewers  \\\n0  Pretty dry, but I was able to pass with just t...     By Robert S   \n1  would be a better experience if the video and ...  By Gabriel E R   \n2  Information was perfect! The program itself wa...      By Jacob D   \n3  A few grammatical mistakes on test made me do ...       By Dale B   \n4  Excellent course and the training provided was...       By Sean G   \n\n   date_reviews  rating                 course_id  \\\n0  Feb 12, 2020     4.0  google-cbrs-cpi-training   \n1  Sep 28, 2020     4.0  google-cbrs-cpi-training   \n2  Apr 08, 2020     4.0  google-cbrs-cpi-training   \n3  Feb 24, 2020     4.0  google-cbrs-cpi-training   \n4  Jun 18, 2020     4.0  google-cbrs-cpi-training   \n\n                                       clean_reviews  \\\n0  pretty dry able pass two complete watches im h...   \n1  would better experience video screen shots wou...   \n2  information perfect program little annoying wa...   \n3     grammatical mistakes test made double take bad   \n4  excellent course training provided detailed ea...   \n\n                                  lemmatised_reviews  \n0  pretti dri abl pas two complet watch im happi ...  \n1  would better experi video screen shot would sh...  \n2  inform perfect program littl annoy wait minut ...  \n3            grammat mistak test made doubl take bad  \n4        excel cours train provid detail easi follow  ",
      "text/html": "<div>\n<style scoped>\n    .dataframe tbody tr th:only-of-type {\n        vertical-align: middle;\n    }\n\n    .dataframe tbody tr th {\n        vertical-align: top;\n    }\n\n    .dataframe thead th {\n        text-align: right;\n    }\n</style>\n<table border=\"1\" class=\"dataframe\">\n  <thead>\n    <tr style=\"text-align: right;\">\n      <th></th>\n      <th>reviews</th>\n      <th>reviewers</th>\n      <th>date_reviews</th>\n      <th>rating</th>\n      <th>course_id</th>\n      <th>clean_reviews</th>\n      <th>lemmatised_reviews</th>\n    </tr>\n  </thead>\n  <tbody>\n    <tr>\n      <th>0</th>\n      <td>Pretty dry, but I was able to pass with just t...</td>\n      <td>By Robert S</td>\n      <td>Feb 12, 2020</td>\n      <td>4.0</td>\n      <td>google-cbrs-cpi-training</td>\n      <td>pretty dry able pass two complete watches im h...</td>\n      <td>pretti dri abl pas two complet watch im happi ...</td>\n    </tr>\n    <tr>\n      <th>1</th>\n      <td>would be a better experience if the video and ...</td>\n      <td>By Gabriel E R</td>\n      <td>Sep 28, 2020</td>\n      <td>4.0</td>\n      <td>google-cbrs-cpi-training</td>\n      <td>would better experience video screen shots wou...</td>\n      <td>would better experi video screen shot would sh...</td>\n    </tr>\n    <tr>\n      <th>2</th>\n      <td>Information was perfect! The program itself wa...</td>\n      <td>By Jacob D</td>\n      <td>Apr 08, 2020</td>\n      <td>4.0</td>\n      <td>google-cbrs-cpi-training</td>\n      <td>information perfect program little annoying wa...</td>\n      <td>inform perfect program littl annoy wait minut ...</td>\n    </tr>\n    <tr>\n      <th>3</th>\n      <td>A few grammatical mistakes on test made me do ...</td>\n      <td>By Dale B</td>\n      <td>Feb 24, 2020</td>\n      <td>4.0</td>\n      <td>google-cbrs-cpi-training</td>\n      <td>grammatical mistakes test made double take bad</td>\n      <td>grammat mistak test made doubl take bad</td>\n    </tr>\n    <tr>\n      <th>4</th>\n      <td>Excellent course and the training provided was...</td>\n      <td>By Sean G</td>\n      <td>Jun 18, 2020</td>\n      <td>4.0</td>\n      <td>google-cbrs-cpi-training</td>\n      <td>excellent course training provided detailed ea...</td>\n      <td>excel cours train provid detail easi follow</td>\n    </tr>\n  </tbody>\n</table>\n</div>"
     },
     "execution_count": 11,
     "metadata": {},
     "output_type": "execute_result"
    }
   ],
   "source": [
    "ps = PorterStemmer()\n",
    "lm = WordNetLemmatizer()\n",
    "\n",
    "def apply_stemmer_lemmetizer(text):\n",
    "    words = word_tokenize(text)  # tokenising given string\n",
    "    stemmed_words = [ps.stem(word) for word in words]  # stemming given string\n",
    "    lemmatised_words = [lm.lemmatize(word) for word in stemmed_words]\n",
    "    return ' '.join(lemmatised_words)  # rejoin to make a string\n",
    "\n",
    "df1['lemmatised_reviews'] = df1['clean_reviews'].apply(apply_stemmer_lemmetizer)\n",
    "df1.head()\n",
    "\n"
   ],
   "metadata": {
    "collapsed": false,
    "ExecuteTime": {
     "end_time": "2024-01-10T15:05:04.013201Z",
     "start_time": "2024-01-10T15:05:02.110768Z"
    }
   }
  },
  {
   "cell_type": "code",
   "execution_count": 12,
   "outputs": [
    {
     "name": "stdout",
     "output_type": "stream",
     "text": [
      "Sample change before and after lemmitisation\n",
      "0    pretty dry able pass two complete watches im h...\n",
      "Name: clean_reviews, dtype: object\n",
      "\n",
      "\n",
      "0    pretti dri abl pas two complet watch im happi ...\n",
      "Name: lemmatised_reviews, dtype: object\n"
     ]
    }
   ],
   "source": [
    "print('Sample change before and after lemmitisation')\n",
    "print(df1.iloc[0:1]['clean_reviews'])\n",
    "print('\\n')\n",
    "print(df1.iloc[0:1]['lemmatised_reviews'])"
   ],
   "metadata": {
    "collapsed": false,
    "ExecuteTime": {
     "end_time": "2024-01-10T15:05:05.026409Z",
     "start_time": "2024-01-10T15:05:05.012151Z"
    }
   }
  },
  {
   "cell_type": "code",
   "execution_count": 13,
   "outputs": [],
   "source": [
    "# uncomment to improve efficiency in large datasets\n",
    "# df1.drop('clean_reviews', axis=1, inplace=True)"
   ],
   "metadata": {
    "collapsed": false,
    "ExecuteTime": {
     "end_time": "2024-01-10T15:05:06.431432Z",
     "start_time": "2024-01-10T15:05:06.421143Z"
    }
   }
  },
  {
   "cell_type": "raw",
   "source": [
    "2 .Apply a POS tagging algorithm or utilize a pretrained POS tagger to assign POS tags to the words in the dataset.                                                                (3Marks)\n",
    "\n",
    "\n",
    "The Penn Treebank POS tag from nltk:\n",
    "\n",
    "NN: Noun, singular or mass\n",
    "NNS: Noun, plural\n",
    "VB: Verb, base form\n",
    "VBD: Verb, past tense\n",
    "VBG: Verb, gerund or present participle\n",
    "JJ: Adjective\n",
    "RB: Adverb\n",
    "PRP: Personal pronoun\n",
    "CD: Cardinal number (e.g., 'one', 'two')\n",
    "WP$: Possessive wh-pronoun  are few examples of pos tags"
   ],
   "metadata": {
    "collapsed": false
   }
  },
  {
   "cell_type": "code",
   "execution_count": 14,
   "outputs": [
    {
     "data": {
      "text/plain": "                                             reviews       reviewers  \\\n0  Pretty dry, but I was able to pass with just t...     By Robert S   \n1  would be a better experience if the video and ...  By Gabriel E R   \n2  Information was perfect! The program itself wa...      By Jacob D   \n3  A few grammatical mistakes on test made me do ...       By Dale B   \n4  Excellent course and the training provided was...       By Sean G   \n\n   date_reviews  rating                 course_id  \\\n0  Feb 12, 2020     4.0  google-cbrs-cpi-training   \n1  Sep 28, 2020     4.0  google-cbrs-cpi-training   \n2  Apr 08, 2020     4.0  google-cbrs-cpi-training   \n3  Feb 24, 2020     4.0  google-cbrs-cpi-training   \n4  Jun 18, 2020     4.0  google-cbrs-cpi-training   \n\n                                       clean_reviews  \\\n0  pretty dry able pass two complete watches im h...   \n1  would better experience video screen shots wou...   \n2  information perfect program little annoying wa...   \n3     grammatical mistakes test made double take bad   \n4  excellent course training provided detailed ea...   \n\n                                  lemmatised_reviews  \\\n0  pretti dri abl pas two complet watch im happi ...   \n1  would better experi video screen shot would sh...   \n2  inform perfect program littl annoy wait minut ...   \n3            grammat mistak test made doubl take bad   \n4        excel cours train provid detail easi follow   \n\n                                            pos_tags  \n0  [(pretti, NNS), (dri, VBP), (abl, JJ), (pas, N...  \n1  [(would, MD), (better, VB), (experi, VB), (vid...  \n2  [(inform, NN), (perfect, JJ), (program, NN), (...  \n3  [(grammat, NN), (mistak, NN), (test, NN), (mad...  \n4  [(excel, NN), (cours, NNS), (train, VBP), (pro...  ",
      "text/html": "<div>\n<style scoped>\n    .dataframe tbody tr th:only-of-type {\n        vertical-align: middle;\n    }\n\n    .dataframe tbody tr th {\n        vertical-align: top;\n    }\n\n    .dataframe thead th {\n        text-align: right;\n    }\n</style>\n<table border=\"1\" class=\"dataframe\">\n  <thead>\n    <tr style=\"text-align: right;\">\n      <th></th>\n      <th>reviews</th>\n      <th>reviewers</th>\n      <th>date_reviews</th>\n      <th>rating</th>\n      <th>course_id</th>\n      <th>clean_reviews</th>\n      <th>lemmatised_reviews</th>\n      <th>pos_tags</th>\n    </tr>\n  </thead>\n  <tbody>\n    <tr>\n      <th>0</th>\n      <td>Pretty dry, but I was able to pass with just t...</td>\n      <td>By Robert S</td>\n      <td>Feb 12, 2020</td>\n      <td>4.0</td>\n      <td>google-cbrs-cpi-training</td>\n      <td>pretty dry able pass two complete watches im h...</td>\n      <td>pretti dri abl pas two complet watch im happi ...</td>\n      <td>[(pretti, NNS), (dri, VBP), (abl, JJ), (pas, N...</td>\n    </tr>\n    <tr>\n      <th>1</th>\n      <td>would be a better experience if the video and ...</td>\n      <td>By Gabriel E R</td>\n      <td>Sep 28, 2020</td>\n      <td>4.0</td>\n      <td>google-cbrs-cpi-training</td>\n      <td>would better experience video screen shots wou...</td>\n      <td>would better experi video screen shot would sh...</td>\n      <td>[(would, MD), (better, VB), (experi, VB), (vid...</td>\n    </tr>\n    <tr>\n      <th>2</th>\n      <td>Information was perfect! The program itself wa...</td>\n      <td>By Jacob D</td>\n      <td>Apr 08, 2020</td>\n      <td>4.0</td>\n      <td>google-cbrs-cpi-training</td>\n      <td>information perfect program little annoying wa...</td>\n      <td>inform perfect program littl annoy wait minut ...</td>\n      <td>[(inform, NN), (perfect, JJ), (program, NN), (...</td>\n    </tr>\n    <tr>\n      <th>3</th>\n      <td>A few grammatical mistakes on test made me do ...</td>\n      <td>By Dale B</td>\n      <td>Feb 24, 2020</td>\n      <td>4.0</td>\n      <td>google-cbrs-cpi-training</td>\n      <td>grammatical mistakes test made double take bad</td>\n      <td>grammat mistak test made doubl take bad</td>\n      <td>[(grammat, NN), (mistak, NN), (test, NN), (mad...</td>\n    </tr>\n    <tr>\n      <th>4</th>\n      <td>Excellent course and the training provided was...</td>\n      <td>By Sean G</td>\n      <td>Jun 18, 2020</td>\n      <td>4.0</td>\n      <td>google-cbrs-cpi-training</td>\n      <td>excellent course training provided detailed ea...</td>\n      <td>excel cours train provid detail easi follow</td>\n      <td>[(excel, NN), (cours, NNS), (train, VBP), (pro...</td>\n    </tr>\n  </tbody>\n</table>\n</div>"
     },
     "execution_count": 14,
     "metadata": {},
     "output_type": "execute_result"
    }
   ],
   "source": [
    "def pos_tagging(text):\n",
    "    tokens = word_tokenize(text)\n",
    "    tags = nltk.pos_tag(tokens)\n",
    "    return tags\n",
    "\n",
    "df1['pos_tags'] = df1['lemmatised_reviews'].apply(pos_tagging)\n",
    "df1.head()"
   ],
   "metadata": {
    "collapsed": false,
    "ExecuteTime": {
     "end_time": "2024-01-10T15:05:07.767581Z",
     "start_time": "2024-01-10T15:05:07.419679Z"
    }
   }
  },
  {
   "cell_type": "raw",
   "source": [
    "3 .Identify the top N most common POS tags in the dataset, where N is a user-specified parameter  (1Mark)"
   ],
   "metadata": {
    "collapsed": false
   }
  },
  {
   "cell_type": "code",
   "execution_count": 15,
   "outputs": [],
   "source": [
    "hardcoded_pos_def = {'CC': 'conjunction, coordinating',\n",
    "                     'CD': 'numeral, cardinal',\n",
    "                     'DT': 'determiner',\n",
    "                     'EX': 'existential there',\n",
    "                     'FW': 'foreign word',\n",
    "                     'IN': 'preposition or conjunction, subordinating',\n",
    "                     'JJ': 'adjective or numeral, ordinal',\n",
    "                     'JJR': 'adjective, comparative',\n",
    "                     'JJS': 'adjective, superlative',\n",
    "                     'LS': 'list item marker',\n",
    "                     'MD': 'modal auxiliary',\n",
    "                     'NN': 'noun, common, singular or mass',\n",
    "                     'NNP': 'noun, proper, singular',\n",
    "                     'NNPS': 'noun, proper, plural',\n",
    "                     'NNS': 'noun, common, plural',\n",
    "                     'PDT': 'pre-determiner',\n",
    "                     'POS': 'genitive marker',\n",
    "                     'PRP': 'pronoun, personal',\n",
    "                     'PRP$': 'pronoun, possessive',\n",
    "                     'RB': 'adverb',\n",
    "                     'RBR': 'adverb, comparative',\n",
    "                     'RBS': 'adverb, superlative',\n",
    "                     'RP': 'particle',\n",
    "                     'SYM': 'symbol',\n",
    "                     'TO': '\"to\" as preposition or infinitive marker',\n",
    "                     'UH': 'interjection',\n",
    "                     'VB': 'verb, base form',\n",
    "                     'VBD': 'verb, past tense',\n",
    "                     'VBG': 'verb, present participle or gerund',\n",
    "                     'VBN': 'verb, past participle',\n",
    "                     'VBP': 'verb, present tense, not 3rd person singular',\n",
    "                     'VBZ': 'verb, present tense, 3rd person singular',\n",
    "                     'WDT': 'WH-determiner',\n",
    "                     'WP': 'WH-pronoun',\n",
    "                     'WP$': 'WH-pronoun, possessive',\n",
    "                     'WRB': 'Wh-adverb'}"
   ],
   "metadata": {
    "collapsed": false,
    "ExecuteTime": {
     "end_time": "2024-01-10T15:05:08.644262Z",
     "start_time": "2024-01-10T15:05:08.631178Z"
    }
   }
  },
  {
   "cell_type": "code",
   "execution_count": 30,
   "outputs": [
    {
     "name": "stdout",
     "output_type": "stream",
     "text": [
      "Total pos tags in data : 18\n"
     ]
    }
   ],
   "source": [
    "count_dict = defaultdict(lambda: 0)\n",
    "for row in df1['pos_tags']:\n",
    "    for _, key in row:\n",
    "        count_dict[key] += 1\n",
    "\n",
    "counts_dict_final = dict(count_dict)\n",
    "counts_dict_df_ = pd.DataFrame(list(counts_dict_final.items()), columns=['pos_tags', 'occurrence_counts'])\n",
    "pos_def_df = pd.DataFrame(list(hardcoded_pos_def.items()), columns=['pos_tags', 'tag_definition'])\n",
    "\n",
    "counts_dict_df = pd.merge(counts_dict_df_, pos_def_df, on='pos_tags', how='left')\n",
    "\n",
    "N_max = counts_dict_df.shape[0]\n",
    "print('Total pos tags in data : {}'.format(N_max))"
   ],
   "metadata": {
    "collapsed": false,
    "ExecuteTime": {
     "end_time": "2024-01-10T16:01:03.095015Z",
     "start_time": "2024-01-10T16:01:03.086761Z"
    }
   }
  },
  {
   "cell_type": "code",
   "execution_count": 31,
   "outputs": [
    {
     "data": {
      "text/plain": "   pos_tags                                tag_definition  occurrence_counts\n3        NN                noun, common, singular or mass                509\n2        JJ                 adjective or numeral, ordinal                214\n1       VBP  verb, present tense, not 3rd person singular                 96\n0       NNS                          noun, common, plural                 91\n5        RB                                        adverb                 74\n9        VB                               verb, base form                 38\n10       IN     preposition or conjunction, subordinating                 20\n12      VBD                              verb, past tense                 14",
      "text/html": "<div>\n<style scoped>\n    .dataframe tbody tr th:only-of-type {\n        vertical-align: middle;\n    }\n\n    .dataframe tbody tr th {\n        vertical-align: top;\n    }\n\n    .dataframe thead th {\n        text-align: right;\n    }\n</style>\n<table border=\"1\" class=\"dataframe\">\n  <thead>\n    <tr style=\"text-align: right;\">\n      <th></th>\n      <th>pos_tags</th>\n      <th>tag_definition</th>\n      <th>occurrence_counts</th>\n    </tr>\n  </thead>\n  <tbody>\n    <tr>\n      <th>3</th>\n      <td>NN</td>\n      <td>noun, common, singular or mass</td>\n      <td>509</td>\n    </tr>\n    <tr>\n      <th>2</th>\n      <td>JJ</td>\n      <td>adjective or numeral, ordinal</td>\n      <td>214</td>\n    </tr>\n    <tr>\n      <th>1</th>\n      <td>VBP</td>\n      <td>verb, present tense, not 3rd person singular</td>\n      <td>96</td>\n    </tr>\n    <tr>\n      <th>0</th>\n      <td>NNS</td>\n      <td>noun, common, plural</td>\n      <td>91</td>\n    </tr>\n    <tr>\n      <th>5</th>\n      <td>RB</td>\n      <td>adverb</td>\n      <td>74</td>\n    </tr>\n    <tr>\n      <th>9</th>\n      <td>VB</td>\n      <td>verb, base form</td>\n      <td>38</td>\n    </tr>\n    <tr>\n      <th>10</th>\n      <td>IN</td>\n      <td>preposition or conjunction, subordinating</td>\n      <td>20</td>\n    </tr>\n    <tr>\n      <th>12</th>\n      <td>VBD</td>\n      <td>verb, past tense</td>\n      <td>14</td>\n    </tr>\n  </tbody>\n</table>\n</div>"
     },
     "execution_count": 31,
     "metadata": {},
     "output_type": "execute_result"
    }
   ],
   "source": [
    "N = int(input(\"Enter N for looking at top n pos tags, max N {}: \".format(N_max)))\n",
    "assert N<=N_max, 'Enter valid N <= N_max'\n",
    "\n",
    "counts_dict_df = counts_dict_df[['pos_tags', 'tag_definition', 'occurrence_counts']]\n",
    "counts_dict_df = counts_dict_df.sort_values(by='occurrence_counts', ascending=False)\n",
    "counts_dict_df.head(N)\n"
   ],
   "metadata": {
    "collapsed": false,
    "ExecuteTime": {
     "end_time": "2024-01-10T16:01:06.312752Z",
     "start_time": "2024-01-10T16:01:03.644372Z"
    }
   }
  },
  {
   "cell_type": "markdown",
   "source": [
    "4. display frequency count and percentage of each tag in top N list"
   ],
   "metadata": {
    "collapsed": false
   }
  },
  {
   "cell_type": "code",
   "execution_count": 32,
   "outputs": [
    {
     "data": {
      "text/plain": "  pos_tags                                tag_definition  occurrence_counts  \\\n3       NN                noun, common, singular or mass                509   \n2       JJ                 adjective or numeral, ordinal                214   \n1      VBP  verb, present tense, not 3rd person singular                 96   \n0      NNS                          noun, common, plural                 91   \n5       RB                                        adverb                 74   \n\n   percent_coverage  \n3         46.188748  \n2         19.419238  \n1          8.711434  \n0          8.257713  \n5          6.715064  ",
      "text/html": "<div>\n<style scoped>\n    .dataframe tbody tr th:only-of-type {\n        vertical-align: middle;\n    }\n\n    .dataframe tbody tr th {\n        vertical-align: top;\n    }\n\n    .dataframe thead th {\n        text-align: right;\n    }\n</style>\n<table border=\"1\" class=\"dataframe\">\n  <thead>\n    <tr style=\"text-align: right;\">\n      <th></th>\n      <th>pos_tags</th>\n      <th>tag_definition</th>\n      <th>occurrence_counts</th>\n      <th>percent_coverage</th>\n    </tr>\n  </thead>\n  <tbody>\n    <tr>\n      <th>3</th>\n      <td>NN</td>\n      <td>noun, common, singular or mass</td>\n      <td>509</td>\n      <td>46.188748</td>\n    </tr>\n    <tr>\n      <th>2</th>\n      <td>JJ</td>\n      <td>adjective or numeral, ordinal</td>\n      <td>214</td>\n      <td>19.419238</td>\n    </tr>\n    <tr>\n      <th>1</th>\n      <td>VBP</td>\n      <td>verb, present tense, not 3rd person singular</td>\n      <td>96</td>\n      <td>8.711434</td>\n    </tr>\n    <tr>\n      <th>0</th>\n      <td>NNS</td>\n      <td>noun, common, plural</td>\n      <td>91</td>\n      <td>8.257713</td>\n    </tr>\n    <tr>\n      <th>5</th>\n      <td>RB</td>\n      <td>adverb</td>\n      <td>74</td>\n      <td>6.715064</td>\n    </tr>\n  </tbody>\n</table>\n</div>"
     },
     "execution_count": 32,
     "metadata": {},
     "output_type": "execute_result"
    }
   ],
   "source": [
    "top_n_pos_tags_df = counts_dict_df.nlargest(N, 'occurrence_counts')\n",
    "counts_ = counts_dict_df['occurrence_counts'].sum()\n",
    "top_n_pos_tags_df['percent_coverage'] = (top_n_pos_tags_df['occurrence_counts'] / counts_) * 100\n",
    "top_n_pos_tags_df.head()"
   ],
   "metadata": {
    "collapsed": false,
    "ExecuteTime": {
     "end_time": "2024-01-10T16:01:11.024959Z",
     "start_time": "2024-01-10T16:01:11.020159Z"
    }
   }
  },
  {
   "cell_type": "markdown",
   "source": [
    "5. Generate visualisations for pos tags frequency counts 1 mark"
   ],
   "metadata": {
    "collapsed": false
   }
  },
  {
   "cell_type": "code",
   "execution_count": 36,
   "outputs": [
    {
     "data": {
      "text/plain": "Text(0.5, 1.0, 'Pos tags frequency counts')"
     },
     "execution_count": 36,
     "metadata": {},
     "output_type": "execute_result"
    },
    {
     "data": {
      "text/plain": "<Figure size 800x600 with 1 Axes>",
      "image/png": "[encoded data removed]"
     },
     "metadata": {},
     "output_type": "display_data"
    }
   ],
   "source": [
    "plt.figure(figsize=(8, 6))  # Optional: Adjust figure size\n",
    "\n",
    "plt.bar(top_n_pos_tags_df['pos_tags'], top_n_pos_tags_df['occurrence_counts'], color='skyblue')\n",
    "\n",
    "plt.xlabel('Pos tags')\n",
    "plt.ylabel('Frequency count')\n",
    "plt.grid()\n",
    "plt.title('Pos tags frequency counts')"
   ],
   "metadata": {
    "collapsed": false,
    "ExecuteTime": {
     "end_time": "2024-01-10T16:04:45.226555Z",
     "start_time": "2024-01-10T16:04:44.972805Z"
    }
   }
  },
  {
   "cell_type": "markdown",
   "source": [
    "6. Display HMM pos tags on first 4 rows of dataset"
   ],
   "metadata": {
    "collapsed": false
   }
  },
  {
   "cell_type": "code",
   "execution_count": 50,
   "outputs": [
    {
     "data": {
      "text/plain": "((96,), (4,))"
     },
     "execution_count": 50,
     "metadata": {},
     "output_type": "execute_result"
    }
   ],
   "source": [
    "# we will test on first 4 rows and train on the rest\n",
    "train_data = df1.iloc[4:]['pos_tags']\n",
    "test_data = df1.iloc[:4]['lemmatised_reviews']\n",
    "\n",
    "train_data.shape, test_data.shape"
   ],
   "metadata": {
    "collapsed": false,
    "ExecuteTime": {
     "end_time": "2024-01-10T17:47:45.537382Z",
     "start_time": "2024-01-10T17:47:45.526725Z"
    }
   }
  },
  {
   "cell_type": "code",
   "execution_count": 78,
   "outputs": [
    {
     "data": {
      "text/plain": "'inform perfect program littl annoy wait minut watch video take quiz inform perfect pas test issu'"
     },
     "execution_count": 78,
     "metadata": {},
     "output_type": "execute_result"
    }
   ],
   "source": [
    "list(test_data)[2]"
   ],
   "metadata": {
    "collapsed": false,
    "ExecuteTime": {
     "end_time": "2024-01-10T17:55:36.459434Z",
     "start_time": "2024-01-10T17:55:36.444353Z"
    }
   }
  },
  {
   "cell_type": "code",
   "execution_count": 62,
   "outputs": [
    {
     "data": {
      "text/plain": "[('easi', 'RB'), ('follow', 'VB'), ('along', 'RB'), ('understand', 'NN')]"
     },
     "execution_count": 62,
     "metadata": {},
     "output_type": "execute_result"
    }
   ],
   "source": [
    "list(train_data)[19]"
   ],
   "metadata": {
    "collapsed": false,
    "ExecuteTime": {
     "end_time": "2024-01-10T17:52:00.872401Z",
     "start_time": "2024-01-10T17:52:00.854238Z"
    }
   }
  },
  {
   "cell_type": "code",
   "execution_count": 68,
   "outputs": [
    {
     "ename": "IndexError",
     "evalue": "list index out of range",
     "output_type": "error",
     "traceback": [
      "\u001B[0;31m---------------------------------------------------------------------------\u001B[0m",
      "\u001B[0;31mIndexError\u001B[0m                                Traceback (most recent call last)",
      "Cell \u001B[0;32mIn[68], line 3\u001B[0m\n\u001B[1;32m      1\u001B[0m tagged_sentences \u001B[38;5;241m=\u001B[39m treebank\u001B[38;5;241m.\u001B[39mtagged_sents()\n\u001B[1;32m      2\u001B[0m tmp \u001B[38;5;241m=\u001B[39m tagged_sentences[:\u001B[38;5;241m5\u001B[39m]\n\u001B[0;32m----> 3\u001B[0m \u001B[43mtmp\u001B[49m\u001B[43m[\u001B[49m\u001B[38;5;241;43m5\u001B[39;49m\u001B[43m]\u001B[49m\n",
      "\u001B[0;31mIndexError\u001B[0m: list index out of range"
     ]
    }
   ],
   "source": [
    "tagged_sentences = treebank.tagged_sents()\n",
    "tmp = tagged_sentences[:5]\n",
    "tmp[5]"
   ],
   "metadata": {
    "collapsed": false,
    "ExecuteTime": {
     "end_time": "2024-01-10T17:53:29.481780Z",
     "start_time": "2024-01-10T17:53:29.452478Z"
    }
   }
  },
  {
   "cell_type": "code",
   "execution_count": 94,
   "outputs": [
    {
     "name": "stdout",
     "output_type": "stream",
     "text": [
      "for index 0 , HMM o/p: \n",
      "[('pretti', 'NNP'), ('dri', ','), ('abl', 'CD'), ('pas', 'NNS'), ('two', 'VBD'), ('complet', '-NONE-'), ('watch', 'TO'), ('im', 'PRP'), ('happi', 'VBZ'), ('usual', 'VBN'), ('question', '-NONE-'), ('final', 'TO'), ('exam', 'PRP'), ('cours', 'VBZ'), ('annoy', 'VBN'), ('far', '-NONE-'), ('better', 'TO'), ('mani', 'PRP'), ('microsoft', 'VBZ'), ('test', 'VBN'), ('taken', '-NONE-'), ('never', 'TO'), ('found', 'PRP'), ('supliment', 'VBZ'), ('materi', 'VBN'), ('cours', '-NONE-'), ('refer', 'TO'), ('care', 'PRP'), ('pas', 'RBR')]\n",
      "nltk pretrained model o/p\n",
      "[('pretti', 'NNS'), ('dri', 'VBP'), ('abl', 'JJ'), ('pas', 'NN'), ('two', 'CD'), ('complet', 'NN'), ('watch', 'NN'), ('im', 'NN'), ('happi', 'VBP'), ('usual', 'JJ'), ('question', 'NN'), ('final', 'JJ'), ('exam', 'NN'), ('cours', 'NNS'), ('annoy', 'VBP'), ('far', 'RB'), ('better', 'JJR'), ('mani', 'NN'), ('microsoft', 'JJ'), ('test', 'NN'), ('taken', 'VBN'), ('never', 'RB'), ('found', 'VBN'), ('supliment', 'NN'), ('materi', 'NN'), ('cours', 'NN'), ('refer', 'VBP'), ('care', 'NN'), ('pas', 'NN')]\n",
      "\n",
      "\n",
      "for index 1 , HMM o/p: \n",
      "[('would', 'NNP'), ('better', ','), ('experi', 'CD'), ('video', 'NNS'), ('screen', 'VBD'), ('shot', 'VBN'), ('would', '-NONE-'), ('sho', 'TO'), ('side', 'PRP'), ('text', 'VBZ'), ('instructor', 'VBN'), ('go', '-NONE-'), ('thru', 'TO'), ('user', 'PRP'), ('go', 'VBZ'), ('way', 'VBN'), ('begin', '-NONE-'), ('text', 'TO'), ('abl', 'PRP'), ('view', 'VBZ'), ('slide', 'VBN'), ('instructor', '-NONE-'), ('show', 'VBP')]\n",
      "nltk pretrained model o/p\n",
      "[('would', 'MD'), ('better', 'VB'), ('experi', 'VB'), ('video', 'JJ'), ('screen', 'NN'), ('shot', 'NN'), ('would', 'MD'), ('sho', 'VB'), ('side', 'NN'), ('text', 'NN'), ('instructor', 'NN'), ('go', 'VBP'), ('thru', 'RB'), ('user', 'RB'), ('go', 'VB'), ('way', 'NN'), ('begin', 'IN'), ('text', 'JJ'), ('abl', 'JJ'), ('view', 'NN'), ('slide', 'NN'), ('instructor', 'NN'), ('show', 'NN')]\n",
      "\n",
      "\n",
      "for index 2 , HMM o/p: \n",
      "[('inform', 'NNP'), ('perfect', 'NNP'), ('program', ','), ('littl', 'CD'), ('annoy', 'NNS'), ('wait', 'VBD'), ('minut', 'VBN'), ('watch', '-NONE-'), ('video', 'TO'), ('take', 'PRP'), ('quiz', 'VBZ'), ('inform', 'VBN'), ('perfect', '-NONE-'), ('pas', 'TO'), ('test', 'PRP'), ('issu', 'RBR')]\n",
      "nltk pretrained model o/p\n",
      "[('inform', 'NN'), ('perfect', 'JJ'), ('program', 'NN'), ('littl', 'NN'), ('annoy', 'VBZ'), ('wait', 'JJ'), ('minut', 'NN'), ('watch', 'NN'), ('video', 'NN'), ('take', 'VB'), ('quiz', 'NN'), ('inform', 'NN'), ('perfect', 'JJ'), ('pas', 'JJ'), ('test', 'NN'), ('issu', 'NN')]\n",
      "\n",
      "\n",
      "for index 3 , HMM o/p: \n",
      "[('grammat', 'NNP'), ('mistak', 'NNP'), ('test', 'NNP'), ('made', 'NNP'), ('doubl', 'NNP'), ('take', 'NNP'), ('bad', 'NNP')]\n",
      "nltk pretrained model o/p\n",
      "[('grammat', 'NN'), ('mistak', 'NN'), ('test', 'NN'), ('made', 'VBD'), ('doubl', 'NNS'), ('take', 'VB'), ('bad', 'JJ')]\n"
     ]
    }
   ],
   "source": [
    "# training hmm model\n",
    "hmm_tagger = HiddenMarkovModelTagger.train(list(train_data))\n",
    "#predictions\n",
    "tagged_token_list = []\n",
    "for tokens_ in list(test_data):\n",
    "    index = len(tagged_token_list)\n",
    "    print('for index {} , HMM o/p: '.format(index))\n",
    "    tokens = word_tokenize(tokens_)\n",
    "    tagged_tokens = hmm_tagger.tag(tokens)\n",
    "    tagged_token_list.append(tagged_tokens)\n",
    "    print(tagged_tokens)\n",
    "    print('nltk pretrained model o/p')\n",
    "    print(df1.iloc[index]['pos_tags'])\n",
    "    print('\\n')\n",
    "\n",
    "# tagged_tokens = hmm_tagger.tag(list(test_data))\n",
    "# \n",
    "# print(*tagged_tokens, sep='\\n')"
   ],
   "metadata": {
    "collapsed": false,
    "ExecuteTime": {
     "end_time": "2024-01-10T18:06:05.250508Z",
     "start_time": "2024-01-10T18:06:05.223003Z"
    }
   }
  },
  {
   "cell_type": "raw",
   "source": [
    "Tags dont seem to match for both case, maybe due to small training data"
   ],
   "metadata": {
    "collapsed": false
   }
  },
  {
   "cell_type": "code",
   "execution_count": null,
   "outputs": [],
   "source": [],
   "metadata": {
    "collapsed": false
   }
  }
 ],
 "metadata": {
  "kernelspec": {
   "display_name": "Python 3",
   "language": "python",
   "name": "python3"
  },
  "language_info": {
   "codemirror_mode": {
    "name": "ipython",
    "version": 2
   },
   "file_extension": ".py",
   "mimetype": "text/x-python",
   "name": "python",
   "nbconvert_exporter": "python",
   "pygments_lexer": "ipython2",
   "version": "2.7.6"
  }
 },
 "nbformat": 4,
 "nbformat_minor": 0
}
