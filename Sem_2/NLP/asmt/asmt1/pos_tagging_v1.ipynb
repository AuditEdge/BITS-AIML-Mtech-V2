{
 "cells": [
  {
   "cell_type": "code",
   "execution_count": 30,
   "metadata": {
    "collapsed": true,
    "ExecuteTime": {
     "end_time": "2024-01-05T13:26:49.496330300Z",
     "start_time": "2024-01-05T13:26:48.663880800Z"
    }
   },
   "outputs": [
    {
     "name": "stderr",
     "output_type": "stream",
     "text": [
      "[nltk_data] Downloading package stopwords to\n",
      "[nltk_data]     C:\\Users\\praka\\AppData\\Roaming\\nltk_data...\n",
      "[nltk_data]   Package stopwords is already up-to-date!\n",
      "[nltk_data] Downloading package wordnet to\n",
      "[nltk_data]     C:\\Users\\praka\\AppData\\Roaming\\nltk_data...\n"
     ]
    }
   ],
   "source": [
    "import pandas as pd\n",
    "import nltk\n",
    "import re\n",
    "import random\n",
    "nltk.download('stopwords')\n",
    "nltk.download('wordnet')\n",
    "from nltk.corpus import reuters, stopwords\n",
    "from nltk.tokenize import word_tokenize\n",
    "import string\n",
    "from nltk import bigrams, FreqDist, ConditionalFreqDist\n",
    "from nltk.stem import PorterStemmer, WordNetLemmatizer"
   ]
  },
  {
   "cell_type": "code",
   "execution_count": 7,
   "outputs": [
    {
     "name": "stdout",
     "output_type": "stream",
     "text": [
      "(1048309, 5)\n"
     ]
    },
    {
     "data": {
      "text/plain": "                                             reviews       reviewers  \\\n0  Pretty dry, but I was able to pass with just t...     By Robert S   \n1  would be a better experience if the video and ...  By Gabriel E R   \n2  Information was perfect! The program itself wa...      By Jacob D   \n3  A few grammatical mistakes on test made me do ...       By Dale B   \n4  Excellent course and the training provided was...       By Sean G   \n\n   date_reviews  rating                 course_id  \n0  Feb 12, 2020     4.0  google-cbrs-cpi-training  \n1  Sep 28, 2020     4.0  google-cbrs-cpi-training  \n2  Apr 08, 2020     4.0  google-cbrs-cpi-training  \n3  Feb 24, 2020     4.0  google-cbrs-cpi-training  \n4  Jun 18, 2020     4.0  google-cbrs-cpi-training  ",
      "text/html": "<div>\n<style scoped>\n    .dataframe tbody tr th:only-of-type {\n        vertical-align: middle;\n    }\n\n    .dataframe tbody tr th {\n        vertical-align: top;\n    }\n\n    .dataframe thead th {\n        text-align: right;\n    }\n</style>\n<table border=\"1\" class=\"dataframe\">\n  <thead>\n    <tr style=\"text-align: right;\">\n      <th></th>\n      <th>reviews</th>\n      <th>reviewers</th>\n      <th>date_reviews</th>\n      <th>rating</th>\n      <th>course_id</th>\n    </tr>\n  </thead>\n  <tbody>\n    <tr>\n      <th>0</th>\n      <td>Pretty dry, but I was able to pass with just t...</td>\n      <td>By Robert S</td>\n      <td>Feb 12, 2020</td>\n      <td>4.0</td>\n      <td>google-cbrs-cpi-training</td>\n    </tr>\n    <tr>\n      <th>1</th>\n      <td>would be a better experience if the video and ...</td>\n      <td>By Gabriel E R</td>\n      <td>Sep 28, 2020</td>\n      <td>4.0</td>\n      <td>google-cbrs-cpi-training</td>\n    </tr>\n    <tr>\n      <th>2</th>\n      <td>Information was perfect! The program itself wa...</td>\n      <td>By Jacob D</td>\n      <td>Apr 08, 2020</td>\n      <td>4.0</td>\n      <td>google-cbrs-cpi-training</td>\n    </tr>\n    <tr>\n      <th>3</th>\n      <td>A few grammatical mistakes on test made me do ...</td>\n      <td>By Dale B</td>\n      <td>Feb 24, 2020</td>\n      <td>4.0</td>\n      <td>google-cbrs-cpi-training</td>\n    </tr>\n    <tr>\n      <th>4</th>\n      <td>Excellent course and the training provided was...</td>\n      <td>By Sean G</td>\n      <td>Jun 18, 2020</td>\n      <td>4.0</td>\n      <td>google-cbrs-cpi-training</td>\n    </tr>\n  </tbody>\n</table>\n</div>"
     },
     "execution_count": 7,
     "metadata": {},
     "output_type": "execute_result"
    }
   ],
   "source": [
    "df = pd.read_csv('Coursera_reviews.csv')\n",
    "print(df.shape)\n",
    "df.head()"
   ],
   "metadata": {
    "collapsed": false,
    "ExecuteTime": {
     "end_time": "2024-01-05T12:55:06.630999600Z",
     "start_time": "2024-01-05T12:55:04.455852200Z"
    }
   }
  },
  {
   "cell_type": "raw",
   "source": [
    "1. Preprocess the dataset to convert it into a format that the algorithm can work with.\n",
    "\n",
    "-- depends on algo, reiterate on it basis requirement"
   ],
   "metadata": {
    "collapsed": false
   }
  },
  {
   "cell_type": "code",
   "execution_count": 10,
   "outputs": [
    {
     "data": {
      "text/plain": "                                             reviews       reviewers  \\\n0  Pretty dry, but I was able to pass with just t...     By Robert S   \n1  would be a better experience if the video and ...  By Gabriel E R   \n2  Information was perfect! The program itself wa...      By Jacob D   \n3  A few grammatical mistakes on test made me do ...       By Dale B   \n4  Excellent course and the training provided was...       By Sean G   \n\n   date_reviews  rating                 course_id  \n0  Feb 12, 2020     4.0  google-cbrs-cpi-training  \n1  Sep 28, 2020     4.0  google-cbrs-cpi-training  \n2  Apr 08, 2020     4.0  google-cbrs-cpi-training  \n3  Feb 24, 2020     4.0  google-cbrs-cpi-training  \n4  Jun 18, 2020     4.0  google-cbrs-cpi-training  ",
      "text/html": "<div>\n<style scoped>\n    .dataframe tbody tr th:only-of-type {\n        vertical-align: middle;\n    }\n\n    .dataframe tbody tr th {\n        vertical-align: top;\n    }\n\n    .dataframe thead th {\n        text-align: right;\n    }\n</style>\n<table border=\"1\" class=\"dataframe\">\n  <thead>\n    <tr style=\"text-align: right;\">\n      <th></th>\n      <th>reviews</th>\n      <th>reviewers</th>\n      <th>date_reviews</th>\n      <th>rating</th>\n      <th>course_id</th>\n    </tr>\n  </thead>\n  <tbody>\n    <tr>\n      <th>0</th>\n      <td>Pretty dry, but I was able to pass with just t...</td>\n      <td>By Robert S</td>\n      <td>Feb 12, 2020</td>\n      <td>4.0</td>\n      <td>google-cbrs-cpi-training</td>\n    </tr>\n    <tr>\n      <th>1</th>\n      <td>would be a better experience if the video and ...</td>\n      <td>By Gabriel E R</td>\n      <td>Sep 28, 2020</td>\n      <td>4.0</td>\n      <td>google-cbrs-cpi-training</td>\n    </tr>\n    <tr>\n      <th>2</th>\n      <td>Information was perfect! The program itself wa...</td>\n      <td>By Jacob D</td>\n      <td>Apr 08, 2020</td>\n      <td>4.0</td>\n      <td>google-cbrs-cpi-training</td>\n    </tr>\n    <tr>\n      <th>3</th>\n      <td>A few grammatical mistakes on test made me do ...</td>\n      <td>By Dale B</td>\n      <td>Feb 24, 2020</td>\n      <td>4.0</td>\n      <td>google-cbrs-cpi-training</td>\n    </tr>\n    <tr>\n      <th>4</th>\n      <td>Excellent course and the training provided was...</td>\n      <td>By Sean G</td>\n      <td>Jun 18, 2020</td>\n      <td>4.0</td>\n      <td>google-cbrs-cpi-training</td>\n    </tr>\n  </tbody>\n</table>\n</div>"
     },
     "execution_count": 10,
     "metadata": {},
     "output_type": "execute_result"
    }
   ],
   "source": [
    "# working with a sample to start with, comment this out later\n",
    "# df1 = df\n",
    "df1 = df.iloc[0:100].copy()\n",
    "df1.head()"
   ],
   "metadata": {
    "collapsed": false,
    "ExecuteTime": {
     "end_time": "2024-01-05T12:56:28.078731700Z",
     "start_time": "2024-01-05T12:56:28.047569400Z"
    }
   }
  },
  {
   "cell_type": "raw",
   "source": [
    "1.1 Perform pre-processing steps like Removing Punctuations, Numbers, and Special Characters, Stop Words in dataset. (1M)\n"
   ],
   "metadata": {
    "collapsed": false
   }
  },
  {
   "cell_type": "code",
   "execution_count": 23,
   "outputs": [
    {
     "data": {
      "text/plain": "                                             reviews       reviewers  \\\n0  Pretty dry, but I was able to pass with just t...     By Robert S   \n1  would be a better experience if the video and ...  By Gabriel E R   \n2  Information was perfect! The program itself wa...      By Jacob D   \n3  A few grammatical mistakes on test made me do ...       By Dale B   \n4  Excellent course and the training provided was...       By Sean G   \n\n   date_reviews  rating                 course_id  \\\n0  Feb 12, 2020     4.0  google-cbrs-cpi-training   \n1  Sep 28, 2020     4.0  google-cbrs-cpi-training   \n2  Apr 08, 2020     4.0  google-cbrs-cpi-training   \n3  Feb 24, 2020     4.0  google-cbrs-cpi-training   \n4  Jun 18, 2020     4.0  google-cbrs-cpi-training   \n\n                                       clean_reviews  \n0  pretty dry able pass two complete watches im h...  \n1  would better experience video screen shots wou...  \n2  information perfect program little annoying wa...  \n3     grammatical mistakes test made double take bad  \n4  excellent course training provided detailed ea...  ",
      "text/html": "<div>\n<style scoped>\n    .dataframe tbody tr th:only-of-type {\n        vertical-align: middle;\n    }\n\n    .dataframe tbody tr th {\n        vertical-align: top;\n    }\n\n    .dataframe thead th {\n        text-align: right;\n    }\n</style>\n<table border=\"1\" class=\"dataframe\">\n  <thead>\n    <tr style=\"text-align: right;\">\n      <th></th>\n      <th>reviews</th>\n      <th>reviewers</th>\n      <th>date_reviews</th>\n      <th>rating</th>\n      <th>course_id</th>\n      <th>clean_reviews</th>\n    </tr>\n  </thead>\n  <tbody>\n    <tr>\n      <th>0</th>\n      <td>Pretty dry, but I was able to pass with just t...</td>\n      <td>By Robert S</td>\n      <td>Feb 12, 2020</td>\n      <td>4.0</td>\n      <td>google-cbrs-cpi-training</td>\n      <td>pretty dry able pass two complete watches im h...</td>\n    </tr>\n    <tr>\n      <th>1</th>\n      <td>would be a better experience if the video and ...</td>\n      <td>By Gabriel E R</td>\n      <td>Sep 28, 2020</td>\n      <td>4.0</td>\n      <td>google-cbrs-cpi-training</td>\n      <td>would better experience video screen shots wou...</td>\n    </tr>\n    <tr>\n      <th>2</th>\n      <td>Information was perfect! The program itself wa...</td>\n      <td>By Jacob D</td>\n      <td>Apr 08, 2020</td>\n      <td>4.0</td>\n      <td>google-cbrs-cpi-training</td>\n      <td>information perfect program little annoying wa...</td>\n    </tr>\n    <tr>\n      <th>3</th>\n      <td>A few grammatical mistakes on test made me do ...</td>\n      <td>By Dale B</td>\n      <td>Feb 24, 2020</td>\n      <td>4.0</td>\n      <td>google-cbrs-cpi-training</td>\n      <td>grammatical mistakes test made double take bad</td>\n    </tr>\n    <tr>\n      <th>4</th>\n      <td>Excellent course and the training provided was...</td>\n      <td>By Sean G</td>\n      <td>Jun 18, 2020</td>\n      <td>4.0</td>\n      <td>google-cbrs-cpi-training</td>\n      <td>excellent course training provided detailed ea...</td>\n    </tr>\n  </tbody>\n</table>\n</div>"
     },
     "execution_count": 23,
     "metadata": {},
     "output_type": "execute_result"
    }
   ],
   "source": [
    "def preprocess_text(text):\n",
    "    # Remove punctuations\n",
    "    text = text.translate(str.maketrans('', '', string.punctuation))\n",
    "\n",
    "    # Remove numbers\n",
    "    text = ''.join([i for i in text if not i.isdigit()])\n",
    "\n",
    "    # Remove special characters with space\n",
    "    text = re.sub(r'[^a-zA-Z\\s]', '', text)\n",
    "\n",
    "    # Convert to lowercase and tokenize and remove stopwords\n",
    "    words = word_tokenize(text.lower())\n",
    "    stop_words = set(stopwords.words('english'))\n",
    "    words = [word for word in words if word not in stop_words]\n",
    "\n",
    "    return ' '.join(words)  # rejoin to make a string\n",
    "\n",
    "df1['clean_reviews'] = df1['reviews'].apply(preprocess_text)\n",
    "df1.head()\n"
   ],
   "metadata": {
    "collapsed": false,
    "ExecuteTime": {
     "end_time": "2024-01-05T13:12:05.694646200Z",
     "start_time": "2024-01-05T13:12:05.615218700Z"
    }
   }
  },
  {
   "cell_type": "code",
   "execution_count": 27,
   "outputs": [
    {
     "name": "stdout",
     "output_type": "stream",
     "text": [
      "0    Pretty dry, but I was able to pass with just two complete watches so I'm happy about that.  As usual there were some questions on the final exam that were NO WHERE in the course, which is annoying but far better than many microsoft tests I have taken.  Never found the suplimental material that the course references... but who cares... i passed!\n",
      "Name: reviews, dtype: object\n",
      "\n",
      "\n",
      "0    pretty dry able pass two complete watches im happy usual questions final exam course annoying far better many microsoft tests taken never found suplimental material course references cares passed\n",
      "Name: clean_reviews, dtype: object\n"
     ]
    }
   ],
   "source": [
    "print('Sample change before and after cleaning')\n",
    "print(df1.iloc[0:1]['reviews'])\n",
    "print('\\n')\n",
    "print(df1.iloc[0:1]['clean_reviews'])"
   ],
   "metadata": {
    "collapsed": false,
    "ExecuteTime": {
     "end_time": "2024-01-05T13:18:55.911342200Z",
     "start_time": "2024-01-05T13:18:55.849157100Z"
    }
   }
  },
  {
   "cell_type": "raw",
   "source": [
    "1.2 Perform normalization by using Stemming or Lemmatization.  (1M)"
   ],
   "metadata": {
    "collapsed": false
   }
  },
  {
   "cell_type": "code",
   "execution_count": 31,
   "outputs": [
    {
     "data": {
      "text/plain": "                                                                                                                                                                                                                                                                                                                                                      reviews  \\\n0  Pretty dry, but I was able to pass with just two complete watches so I'm happy about that.  As usual there were some questions on the final exam that were NO WHERE in the course, which is annoying but far better than many microsoft tests I have taken.  Never found the suplimental material that the course references... but who cares... i passed!   \n1                                                                                                       would be a better experience if the video and screen shots would sho on the side of the text that the instructor is going thru so that user does not have to go all the way to beginning of text to be able to view any slides instructor is showing.   \n2                                                                                                                            Information was perfect! The program itself was a little annoying. I had to wait 30 to 45 minutes after watching the videos to to take the quiz. Other than that the information was perfect and passed the test with no issues!   \n3                                                                                                                                                                                                                                                                         A few grammatical mistakes on test made me do a double take but all in all not bad.   \n4                                                                                                                                                                                                                                                                            Excellent course and the training provided was very detailed and easy to follow.   \n\n        reviewers  date_reviews  rating                 course_id  \\\n0     By Robert S  Feb 12, 2020     4.0  google-cbrs-cpi-training   \n1  By Gabriel E R  Sep 28, 2020     4.0  google-cbrs-cpi-training   \n2      By Jacob D  Apr 08, 2020     4.0  google-cbrs-cpi-training   \n3       By Dale B  Feb 24, 2020     4.0  google-cbrs-cpi-training   \n4       By Sean G  Jun 18, 2020     4.0  google-cbrs-cpi-training   \n\n                                                                                                                                                                                         clean_reviews  \\\n0  pretty dry able pass two complete watches im happy usual questions final exam course annoying far better many microsoft tests taken never found suplimental material course references cares passed   \n1                                                  would better experience video screen shots would sho side text instructor going thru user go way beginning text able view slides instructor showing   \n2                                                                            information perfect program little annoying wait minutes watching videos take quiz information perfect passed test issues   \n3                                                                                                                                                       grammatical mistakes test made double take bad   \n4                                                                                                                                              excellent course training provided detailed easy follow   \n\n                                                                                                                                                           lemmatised_reviews  \n0  pretti dri abl pas two complet watch im happi usual question final exam cours annoy far better mani microsoft test taken never found supliment materi cours refer care pas  \n1                                          would better experi video screen shot would sho side text instructor go thru user go way begin text abl view slide instructor show  \n2                                                                            inform perfect program littl annoy wait minut watch video take quiz inform perfect pas test issu  \n3                                                                                                                                     grammat mistak test made doubl take bad  \n4                                                                                                                                 excel cours train provid detail easi follow  ",
      "text/html": "<div>\n<style scoped>\n    .dataframe tbody tr th:only-of-type {\n        vertical-align: middle;\n    }\n\n    .dataframe tbody tr th {\n        vertical-align: top;\n    }\n\n    .dataframe thead th {\n        text-align: right;\n    }\n</style>\n<table border=\"1\" class=\"dataframe\">\n  <thead>\n    <tr style=\"text-align: right;\">\n      <th></th>\n      <th>reviews</th>\n      <th>reviewers</th>\n      <th>date_reviews</th>\n      <th>rating</th>\n      <th>course_id</th>\n      <th>clean_reviews</th>\n      <th>lemmatised_reviews</th>\n    </tr>\n  </thead>\n  <tbody>\n    <tr>\n      <th>0</th>\n      <td>Pretty dry, but I was able to pass with just two complete watches so I'm happy about that.  As usual there were some questions on the final exam that were NO WHERE in the course, which is annoying but far better than many microsoft tests I have taken.  Never found the suplimental material that the course references... but who cares... i passed!</td>\n      <td>By Robert S</td>\n      <td>Feb 12, 2020</td>\n      <td>4.0</td>\n      <td>google-cbrs-cpi-training</td>\n      <td>pretty dry able pass two complete watches im happy usual questions final exam course annoying far better many microsoft tests taken never found suplimental material course references cares passed</td>\n      <td>pretti dri abl pas two complet watch im happi usual question final exam cours annoy far better mani microsoft test taken never found supliment materi cours refer care pas</td>\n    </tr>\n    <tr>\n      <th>1</th>\n      <td>would be a better experience if the video and screen shots would sho on the side of the text that the instructor is going thru so that user does not have to go all the way to beginning of text to be able to view any slides instructor is showing.</td>\n      <td>By Gabriel E R</td>\n      <td>Sep 28, 2020</td>\n      <td>4.0</td>\n      <td>google-cbrs-cpi-training</td>\n      <td>would better experience video screen shots would sho side text instructor going thru user go way beginning text able view slides instructor showing</td>\n      <td>would better experi video screen shot would sho side text instructor go thru user go way begin text abl view slide instructor show</td>\n    </tr>\n    <tr>\n      <th>2</th>\n      <td>Information was perfect! The program itself was a little annoying. I had to wait 30 to 45 minutes after watching the videos to to take the quiz. Other than that the information was perfect and passed the test with no issues!</td>\n      <td>By Jacob D</td>\n      <td>Apr 08, 2020</td>\n      <td>4.0</td>\n      <td>google-cbrs-cpi-training</td>\n      <td>information perfect program little annoying wait minutes watching videos take quiz information perfect passed test issues</td>\n      <td>inform perfect program littl annoy wait minut watch video take quiz inform perfect pas test issu</td>\n    </tr>\n    <tr>\n      <th>3</th>\n      <td>A few grammatical mistakes on test made me do a double take but all in all not bad.</td>\n      <td>By Dale B</td>\n      <td>Feb 24, 2020</td>\n      <td>4.0</td>\n      <td>google-cbrs-cpi-training</td>\n      <td>grammatical mistakes test made double take bad</td>\n      <td>grammat mistak test made doubl take bad</td>\n    </tr>\n    <tr>\n      <th>4</th>\n      <td>Excellent course and the training provided was very detailed and easy to follow.</td>\n      <td>By Sean G</td>\n      <td>Jun 18, 2020</td>\n      <td>4.0</td>\n      <td>google-cbrs-cpi-training</td>\n      <td>excellent course training provided detailed easy follow</td>\n      <td>excel cours train provid detail easi follow</td>\n    </tr>\n  </tbody>\n</table>\n</div>"
     },
     "execution_count": 31,
     "metadata": {},
     "output_type": "execute_result"
    }
   ],
   "source": [
    "ps = PorterStemmer()\n",
    "lm = WordNetLemmatizer()\n",
    "\n",
    "def apply_stemmer_lemmetizer(text):\n",
    "    words = word_tokenize(text)  # tokenising given string\n",
    "    stemmed_words = [ps.stem(word) for word in words]  # stemming given string\n",
    "    lemmatised_words = [lm.lemmatize(word) for word in stemmed_words]\n",
    "    return ' '.join(lemmatised_words)  # rejoin to make a string\n",
    "\n",
    "df1['lemmatised_reviews'] = df1['clean_reviews'].apply(apply_stemmer_lemmetizer)\n",
    "df1.head()"
   ],
   "metadata": {
    "collapsed": false,
    "ExecuteTime": {
     "end_time": "2024-01-05T13:26:57.046541800Z",
     "start_time": "2024-01-05T13:26:55.682943300Z"
    }
   }
  },
  {
   "cell_type": "code",
   "execution_count": 32,
   "outputs": [
    {
     "name": "stdout",
     "output_type": "stream",
     "text": [
      "Sample change before and after lemmitisation\n",
      "0    pretty dry able pass two complete watches im happy usual questions final exam course annoying far better many microsoft tests taken never found suplimental material course references cares passed\n",
      "Name: clean_reviews, dtype: object\n",
      "\n",
      "\n",
      "0    pretti dri abl pas two complet watch im happi usual question final exam cours annoy far better mani microsoft test taken never found supliment materi cours refer care pas\n",
      "Name: lemmatised_reviews, dtype: object\n"
     ]
    }
   ],
   "source": [
    "print('Sample change before and after lemmitisation')\n",
    "print(df1.iloc[0:1]['clean_reviews'])\n",
    "print('\\n')\n",
    "print(df1.iloc[0:1]['lemmatised_reviews'])"
   ],
   "metadata": {
    "collapsed": false,
    "ExecuteTime": {
     "end_time": "2024-01-05T13:27:28.640411200Z",
     "start_time": "2024-01-05T13:27:28.622331Z"
    }
   }
  },
  {
   "cell_type": "code",
   "execution_count": 33,
   "outputs": [],
   "source": [
    "# uncomment to improve efficiency in large datasets\n",
    "# df1.drop('clean_reviews', axis=1, inplace=True)"
   ],
   "metadata": {
    "collapsed": false,
    "ExecuteTime": {
     "end_time": "2024-01-05T13:29:53.157368700Z",
     "start_time": "2024-01-05T13:29:53.152180300Z"
    }
   }
  },
  {
   "cell_type": "code",
   "execution_count": null,
   "outputs": [],
   "source": [],
   "metadata": {
    "collapsed": false
   }
  }
 ],
 "metadata": {
  "kernelspec": {
   "display_name": "Python 3",
   "language": "python",
   "name": "python3"
  },
  "language_info": {
   "codemirror_mode": {
    "name": "ipython",
    "version": 2
   },
   "file_extension": ".py",
   "mimetype": "text/x-python",
   "name": "python",
   "nbconvert_exporter": "python",
   "pygments_lexer": "ipython2",
   "version": "2.7.6"
  }
 },
 "nbformat": 4,
 "nbformat_minor": 0
}
