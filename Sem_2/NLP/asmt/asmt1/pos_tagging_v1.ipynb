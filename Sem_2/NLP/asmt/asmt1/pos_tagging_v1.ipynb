{
 "cells": [
  {
   "cell_type": "code",
   "execution_count": 1,
   "metadata": {
    "collapsed": true,
    "ExecuteTime": {
     "end_time": "2024-01-10T18:12:47.972004900Z",
     "start_time": "2024-01-10T18:12:42.659534100Z"
    }
   },
   "outputs": [
    {
     "name": "stderr",
     "output_type": "stream",
     "text": [
      "[nltk_data] Downloading package stopwords to\n",
      "[nltk_data]     C:\\Users\\praka\\AppData\\Roaming\\nltk_data...\n",
      "[nltk_data]   Package stopwords is already up-to-date!\n",
      "[nltk_data] Downloading package wordnet to\n",
      "[nltk_data]     C:\\Users\\praka\\AppData\\Roaming\\nltk_data...\n",
      "[nltk_data]   Package wordnet is already up-to-date!\n",
      "[nltk_data] Downloading package punkt to\n",
      "[nltk_data]     C:\\Users\\praka\\AppData\\Roaming\\nltk_data...\n",
      "[nltk_data]   Package punkt is already up-to-date!\n",
      "[nltk_data] Downloading package averaged_perceptron_tagger to\n",
      "[nltk_data]     C:\\Users\\praka\\AppData\\Roaming\\nltk_data...\n",
      "[nltk_data]   Package averaged_perceptron_tagger is already up-to-\n",
      "[nltk_data]       date!\n",
      "[nltk_data] Downloading package tagsets to\n",
      "[nltk_data]     C:\\Users\\praka\\AppData\\Roaming\\nltk_data...\n",
      "[nltk_data]   Package tagsets is already up-to-date!\n",
      "[nltk_data] Downloading package omw-1.4 to\n",
      "[nltk_data]     C:\\Users\\praka\\AppData\\Roaming\\nltk_data...\n",
      "[nltk_data] Downloading package treebank to\n",
      "[nltk_data]     C:\\Users\\praka\\AppData\\Roaming\\nltk_data...\n",
      "[nltk_data]   Unzipping corpora\\treebank.zip.\n"
     ]
    }
   ],
   "source": [
    "import numpy as np\n",
    "import pandas as pd\n",
    "from collections import defaultdict\n",
    "import nltk\n",
    "import re\n",
    "import random\n",
    "nltk.download('stopwords')\n",
    "nltk.download('wordnet')\n",
    "nltk.download('punkt')\n",
    "nltk.download('averaged_perceptron_tagger')\n",
    "nltk.download('tagsets')\n",
    "nltk.download('omw-1.4')\n",
    "nltk.download('treebank')\n",
    "from nltk.corpus import reuters, stopwords\n",
    "from nltk.tokenize import word_tokenize\n",
    "from nltk.corpus import treebank\n",
    "import string\n",
    "from nltk import bigrams, FreqDist, ConditionalFreqDist\n",
    "from nltk.stem import PorterStemmer, WordNetLemmatizer\n",
    "from matplotlib import pyplot as plt\n",
    "from nltk import HiddenMarkovModelTagger"
   ]
  },
  {
   "cell_type": "code",
   "execution_count": 2,
   "outputs": [
    {
     "name": "stdout",
     "output_type": "stream",
     "text": [
      "(1048309, 5)\n"
     ]
    },
    {
     "data": {
      "text/plain": "                                             reviews       reviewers  \\\n0  Pretty dry, but I was able to pass with just t...     By Robert S   \n1  would be a better experience if the video and ...  By Gabriel E R   \n2  Information was perfect! The program itself wa...      By Jacob D   \n3  A few grammatical mistakes on test made me do ...       By Dale B   \n4  Excellent course and the training provided was...       By Sean G   \n\n   date_reviews  rating                 course_id  \n0  Feb 12, 2020     4.0  google-cbrs-cpi-training  \n1  Sep 28, 2020     4.0  google-cbrs-cpi-training  \n2  Apr 08, 2020     4.0  google-cbrs-cpi-training  \n3  Feb 24, 2020     4.0  google-cbrs-cpi-training  \n4  Jun 18, 2020     4.0  google-cbrs-cpi-training  ",
      "text/html": "<div>\n<style scoped>\n    .dataframe tbody tr th:only-of-type {\n        vertical-align: middle;\n    }\n\n    .dataframe tbody tr th {\n        vertical-align: top;\n    }\n\n    .dataframe thead th {\n        text-align: right;\n    }\n</style>\n<table border=\"1\" class=\"dataframe\">\n  <thead>\n    <tr style=\"text-align: right;\">\n      <th></th>\n      <th>reviews</th>\n      <th>reviewers</th>\n      <th>date_reviews</th>\n      <th>rating</th>\n      <th>course_id</th>\n    </tr>\n  </thead>\n  <tbody>\n    <tr>\n      <th>0</th>\n      <td>Pretty dry, but I was able to pass with just t...</td>\n      <td>By Robert S</td>\n      <td>Feb 12, 2020</td>\n      <td>4.0</td>\n      <td>google-cbrs-cpi-training</td>\n    </tr>\n    <tr>\n      <th>1</th>\n      <td>would be a better experience if the video and ...</td>\n      <td>By Gabriel E R</td>\n      <td>Sep 28, 2020</td>\n      <td>4.0</td>\n      <td>google-cbrs-cpi-training</td>\n    </tr>\n    <tr>\n      <th>2</th>\n      <td>Information was perfect! The program itself wa...</td>\n      <td>By Jacob D</td>\n      <td>Apr 08, 2020</td>\n      <td>4.0</td>\n      <td>google-cbrs-cpi-training</td>\n    </tr>\n    <tr>\n      <th>3</th>\n      <td>A few grammatical mistakes on test made me do ...</td>\n      <td>By Dale B</td>\n      <td>Feb 24, 2020</td>\n      <td>4.0</td>\n      <td>google-cbrs-cpi-training</td>\n    </tr>\n    <tr>\n      <th>4</th>\n      <td>Excellent course and the training provided was...</td>\n      <td>By Sean G</td>\n      <td>Jun 18, 2020</td>\n      <td>4.0</td>\n      <td>google-cbrs-cpi-training</td>\n    </tr>\n  </tbody>\n</table>\n</div>"
     },
     "execution_count": 2,
     "metadata": {},
     "output_type": "execute_result"
    }
   ],
   "source": [
    "df = pd.read_csv('Coursera_reviews.csv')\n",
    "print(df.shape)\n",
    "df.head()"
   ],
   "metadata": {
    "collapsed": false,
    "ExecuteTime": {
     "end_time": "2024-01-10T18:12:50.495667600Z",
     "start_time": "2024-01-10T18:12:47.973037Z"
    }
   }
  },
  {
   "cell_type": "raw",
   "source": [
    "1. Preprocess the dataset to convert it into a format that the algorithm can work with.\n",
    "\n",
    "Removing rows where column review is Null\n"
   ],
   "metadata": {
    "collapsed": false
   }
  },
  {
   "cell_type": "code",
   "execution_count": 48,
   "outputs": [
    {
     "data": {
      "text/plain": "                                             reviews       reviewers  \\\n0  Pretty dry, but I was able to pass with just t...     By Robert S   \n1  would be a better experience if the video and ...  By Gabriel E R   \n2  Information was perfect! The program itself wa...      By Jacob D   \n3  A few grammatical mistakes on test made me do ...       By Dale B   \n4  Excellent course and the training provided was...       By Sean G   \n\n   date_reviews  rating                 course_id  \n0  Feb 12, 2020     4.0  google-cbrs-cpi-training  \n1  Sep 28, 2020     4.0  google-cbrs-cpi-training  \n2  Apr 08, 2020     4.0  google-cbrs-cpi-training  \n3  Feb 24, 2020     4.0  google-cbrs-cpi-training  \n4  Jun 18, 2020     4.0  google-cbrs-cpi-training  ",
      "text/html": "<div>\n<style scoped>\n    .dataframe tbody tr th:only-of-type {\n        vertical-align: middle;\n    }\n\n    .dataframe tbody tr th {\n        vertical-align: top;\n    }\n\n    .dataframe thead th {\n        text-align: right;\n    }\n</style>\n<table border=\"1\" class=\"dataframe\">\n  <thead>\n    <tr style=\"text-align: right;\">\n      <th></th>\n      <th>reviews</th>\n      <th>reviewers</th>\n      <th>date_reviews</th>\n      <th>rating</th>\n      <th>course_id</th>\n    </tr>\n  </thead>\n  <tbody>\n    <tr>\n      <th>0</th>\n      <td>Pretty dry, but I was able to pass with just t...</td>\n      <td>By Robert S</td>\n      <td>Feb 12, 2020</td>\n      <td>4.0</td>\n      <td>google-cbrs-cpi-training</td>\n    </tr>\n    <tr>\n      <th>1</th>\n      <td>would be a better experience if the video and ...</td>\n      <td>By Gabriel E R</td>\n      <td>Sep 28, 2020</td>\n      <td>4.0</td>\n      <td>google-cbrs-cpi-training</td>\n    </tr>\n    <tr>\n      <th>2</th>\n      <td>Information was perfect! The program itself wa...</td>\n      <td>By Jacob D</td>\n      <td>Apr 08, 2020</td>\n      <td>4.0</td>\n      <td>google-cbrs-cpi-training</td>\n    </tr>\n    <tr>\n      <th>3</th>\n      <td>A few grammatical mistakes on test made me do ...</td>\n      <td>By Dale B</td>\n      <td>Feb 24, 2020</td>\n      <td>4.0</td>\n      <td>google-cbrs-cpi-training</td>\n    </tr>\n    <tr>\n      <th>4</th>\n      <td>Excellent course and the training provided was...</td>\n      <td>By Sean G</td>\n      <td>Jun 18, 2020</td>\n      <td>4.0</td>\n      <td>google-cbrs-cpi-training</td>\n    </tr>\n  </tbody>\n</table>\n</div>"
     },
     "execution_count": 48,
     "metadata": {},
     "output_type": "execute_result"
    }
   ],
   "source": [
    "# working with a sample to start with, comment this out later\n",
    "# df1 = df.dropna(subset=['reviews']).copy()\n",
    "df1 = df.dropna(subset=['reviews']).iloc[0:100].copy()\n",
    "df1.head()"
   ],
   "metadata": {
    "collapsed": false,
    "ExecuteTime": {
     "end_time": "2024-01-10T19:33:15.658997600Z",
     "start_time": "2024-01-10T19:33:15.414082Z"
    }
   }
  },
  {
   "cell_type": "raw",
   "source": [
    "1.1 Perform pre-processing steps like Removing Punctuations, Numbers, and Special Characters, Stop Words in dataset. (1M)\n"
   ],
   "metadata": {
    "collapsed": false
   }
  },
  {
   "cell_type": "code",
   "execution_count": 49,
   "outputs": [
    {
     "data": {
      "text/plain": "                                             reviews       reviewers  \\\n0  Pretty dry, but I was able to pass with just t...     By Robert S   \n1  would be a better experience if the video and ...  By Gabriel E R   \n2  Information was perfect! The program itself wa...      By Jacob D   \n3  A few grammatical mistakes on test made me do ...       By Dale B   \n4  Excellent course and the training provided was...       By Sean G   \n\n   date_reviews  rating                 course_id  \\\n0  Feb 12, 2020     4.0  google-cbrs-cpi-training   \n1  Sep 28, 2020     4.0  google-cbrs-cpi-training   \n2  Apr 08, 2020     4.0  google-cbrs-cpi-training   \n3  Feb 24, 2020     4.0  google-cbrs-cpi-training   \n4  Jun 18, 2020     4.0  google-cbrs-cpi-training   \n\n                                       clean_reviews  \n0  pretty dry able pass two complete watches im h...  \n1  would better experience video screen shots wou...  \n2  information perfect program little annoying wa...  \n3     grammatical mistakes test made double take bad  \n4  excellent course training provided detailed ea...  ",
      "text/html": "<div>\n<style scoped>\n    .dataframe tbody tr th:only-of-type {\n        vertical-align: middle;\n    }\n\n    .dataframe tbody tr th {\n        vertical-align: top;\n    }\n\n    .dataframe thead th {\n        text-align: right;\n    }\n</style>\n<table border=\"1\" class=\"dataframe\">\n  <thead>\n    <tr style=\"text-align: right;\">\n      <th></th>\n      <th>reviews</th>\n      <th>reviewers</th>\n      <th>date_reviews</th>\n      <th>rating</th>\n      <th>course_id</th>\n      <th>clean_reviews</th>\n    </tr>\n  </thead>\n  <tbody>\n    <tr>\n      <th>0</th>\n      <td>Pretty dry, but I was able to pass with just t...</td>\n      <td>By Robert S</td>\n      <td>Feb 12, 2020</td>\n      <td>4.0</td>\n      <td>google-cbrs-cpi-training</td>\n      <td>pretty dry able pass two complete watches im h...</td>\n    </tr>\n    <tr>\n      <th>1</th>\n      <td>would be a better experience if the video and ...</td>\n      <td>By Gabriel E R</td>\n      <td>Sep 28, 2020</td>\n      <td>4.0</td>\n      <td>google-cbrs-cpi-training</td>\n      <td>would better experience video screen shots wou...</td>\n    </tr>\n    <tr>\n      <th>2</th>\n      <td>Information was perfect! The program itself wa...</td>\n      <td>By Jacob D</td>\n      <td>Apr 08, 2020</td>\n      <td>4.0</td>\n      <td>google-cbrs-cpi-training</td>\n      <td>information perfect program little annoying wa...</td>\n    </tr>\n    <tr>\n      <th>3</th>\n      <td>A few grammatical mistakes on test made me do ...</td>\n      <td>By Dale B</td>\n      <td>Feb 24, 2020</td>\n      <td>4.0</td>\n      <td>google-cbrs-cpi-training</td>\n      <td>grammatical mistakes test made double take bad</td>\n    </tr>\n    <tr>\n      <th>4</th>\n      <td>Excellent course and the training provided was...</td>\n      <td>By Sean G</td>\n      <td>Jun 18, 2020</td>\n      <td>4.0</td>\n      <td>google-cbrs-cpi-training</td>\n      <td>excellent course training provided detailed ea...</td>\n    </tr>\n  </tbody>\n</table>\n</div>"
     },
     "execution_count": 49,
     "metadata": {},
     "output_type": "execute_result"
    }
   ],
   "source": [
    "def preprocess_text(text):\n",
    "    # Remove punctuations\n",
    "    try:\n",
    "        text = text.translate(str.maketrans('', '', string.punctuation))\n",
    "    except:\n",
    "        text = ['majorissue']\n",
    "    # Remove numbers\n",
    "    text = ''.join([i for i in text if not i.isdigit()])\n",
    "\n",
    "    # Remove special characters with space\n",
    "    text = re.sub(r'[^a-zA-Z\\s]', '', text)\n",
    "\n",
    "    # Convert to lowercase and tokenize and remove stopwords\n",
    "    words = word_tokenize(text.lower())\n",
    "    stop_words = set(stopwords.words('english'))\n",
    "    words = [word for word in words if word not in stop_words]\n",
    "\n",
    "    return ' '.join(words)  # rejoin to make a string\n",
    "\n",
    "df1['clean_reviews'] = df1['reviews'].apply(preprocess_text)\n",
    "df1.head()\n"
   ],
   "metadata": {
    "collapsed": false,
    "ExecuteTime": {
     "end_time": "2024-01-10T19:33:16.401308900Z",
     "start_time": "2024-01-10T19:33:16.271359400Z"
    }
   }
  },
  {
   "cell_type": "code",
   "execution_count": 50,
   "outputs": [
    {
     "data": {
      "text/plain": "Empty DataFrame\nColumns: [reviews, reviewers, date_reviews, rating, course_id, clean_reviews]\nIndex: []",
      "text/html": "<div>\n<style scoped>\n    .dataframe tbody tr th:only-of-type {\n        vertical-align: middle;\n    }\n\n    .dataframe tbody tr th {\n        vertical-align: top;\n    }\n\n    .dataframe thead th {\n        text-align: right;\n    }\n</style>\n<table border=\"1\" class=\"dataframe\">\n  <thead>\n    <tr style=\"text-align: right;\">\n      <th></th>\n      <th>reviews</th>\n      <th>reviewers</th>\n      <th>date_reviews</th>\n      <th>rating</th>\n      <th>course_id</th>\n      <th>clean_reviews</th>\n    </tr>\n  </thead>\n  <tbody>\n  </tbody>\n</table>\n</div>"
     },
     "execution_count": 50,
     "metadata": {},
     "output_type": "execute_result"
    }
   ],
   "source": [
    "df1[df1['clean_reviews'] == 'majorissue'].head()  # check if there has been any issue with tagging"
   ],
   "metadata": {
    "collapsed": false,
    "ExecuteTime": {
     "end_time": "2024-01-10T19:33:16.569562900Z",
     "start_time": "2024-01-10T19:33:16.527061800Z"
    }
   }
  },
  {
   "cell_type": "code",
   "execution_count": 51,
   "outputs": [
    {
     "name": "stdout",
     "output_type": "stream",
     "text": [
      "Sample change before and after cleaning\n",
      "0    Pretty dry, but I was able to pass with just t...\n",
      "Name: reviews, dtype: object\n",
      "\n",
      "\n",
      "0    pretty dry able pass two complete watches im h...\n",
      "Name: clean_reviews, dtype: object\n"
     ]
    }
   ],
   "source": [
    "print('Sample change before and after cleaning')\n",
    "print(df1.iloc[0:1]['reviews'])\n",
    "print('\\n')\n",
    "print(df1.iloc[0:1]['clean_reviews'])"
   ],
   "metadata": {
    "collapsed": false,
    "ExecuteTime": {
     "end_time": "2024-01-10T19:33:17.117560Z",
     "start_time": "2024-01-10T19:33:17.101107500Z"
    }
   }
  },
  {
   "cell_type": "raw",
   "source": [
    "1.2 Perform normalization by using Stemming or Lemmatization.  (1M)"
   ],
   "metadata": {
    "collapsed": false
   }
  },
  {
   "cell_type": "code",
   "execution_count": 52,
   "outputs": [
    {
     "data": {
      "text/plain": "                                             reviews       reviewers  \\\n0  Pretty dry, but I was able to pass with just t...     By Robert S   \n1  would be a better experience if the video and ...  By Gabriel E R   \n2  Information was perfect! The program itself wa...      By Jacob D   \n3  A few grammatical mistakes on test made me do ...       By Dale B   \n4  Excellent course and the training provided was...       By Sean G   \n\n   date_reviews  rating                 course_id  \\\n0  Feb 12, 2020     4.0  google-cbrs-cpi-training   \n1  Sep 28, 2020     4.0  google-cbrs-cpi-training   \n2  Apr 08, 2020     4.0  google-cbrs-cpi-training   \n3  Feb 24, 2020     4.0  google-cbrs-cpi-training   \n4  Jun 18, 2020     4.0  google-cbrs-cpi-training   \n\n                                       clean_reviews  \\\n0  pretty dry able pass two complete watches im h...   \n1  would better experience video screen shots wou...   \n2  information perfect program little annoying wa...   \n3     grammatical mistakes test made double take bad   \n4  excellent course training provided detailed ea...   \n\n                                  lemmatised_reviews  \n0  pretti dri abl pas two complet watch im happi ...  \n1  would better experi video screen shot would sh...  \n2  inform perfect program littl annoy wait minut ...  \n3            grammat mistak test made doubl take bad  \n4        excel cours train provid detail easi follow  ",
      "text/html": "<div>\n<style scoped>\n    .dataframe tbody tr th:only-of-type {\n        vertical-align: middle;\n    }\n\n    .dataframe tbody tr th {\n        vertical-align: top;\n    }\n\n    .dataframe thead th {\n        text-align: right;\n    }\n</style>\n<table border=\"1\" class=\"dataframe\">\n  <thead>\n    <tr style=\"text-align: right;\">\n      <th></th>\n      <th>reviews</th>\n      <th>reviewers</th>\n      <th>date_reviews</th>\n      <th>rating</th>\n      <th>course_id</th>\n      <th>clean_reviews</th>\n      <th>lemmatised_reviews</th>\n    </tr>\n  </thead>\n  <tbody>\n    <tr>\n      <th>0</th>\n      <td>Pretty dry, but I was able to pass with just t...</td>\n      <td>By Robert S</td>\n      <td>Feb 12, 2020</td>\n      <td>4.0</td>\n      <td>google-cbrs-cpi-training</td>\n      <td>pretty dry able pass two complete watches im h...</td>\n      <td>pretti dri abl pas two complet watch im happi ...</td>\n    </tr>\n    <tr>\n      <th>1</th>\n      <td>would be a better experience if the video and ...</td>\n      <td>By Gabriel E R</td>\n      <td>Sep 28, 2020</td>\n      <td>4.0</td>\n      <td>google-cbrs-cpi-training</td>\n      <td>would better experience video screen shots wou...</td>\n      <td>would better experi video screen shot would sh...</td>\n    </tr>\n    <tr>\n      <th>2</th>\n      <td>Information was perfect! The program itself wa...</td>\n      <td>By Jacob D</td>\n      <td>Apr 08, 2020</td>\n      <td>4.0</td>\n      <td>google-cbrs-cpi-training</td>\n      <td>information perfect program little annoying wa...</td>\n      <td>inform perfect program littl annoy wait minut ...</td>\n    </tr>\n    <tr>\n      <th>3</th>\n      <td>A few grammatical mistakes on test made me do ...</td>\n      <td>By Dale B</td>\n      <td>Feb 24, 2020</td>\n      <td>4.0</td>\n      <td>google-cbrs-cpi-training</td>\n      <td>grammatical mistakes test made double take bad</td>\n      <td>grammat mistak test made doubl take bad</td>\n    </tr>\n    <tr>\n      <th>4</th>\n      <td>Excellent course and the training provided was...</td>\n      <td>By Sean G</td>\n      <td>Jun 18, 2020</td>\n      <td>4.0</td>\n      <td>google-cbrs-cpi-training</td>\n      <td>excellent course training provided detailed ea...</td>\n      <td>excel cours train provid detail easi follow</td>\n    </tr>\n  </tbody>\n</table>\n</div>"
     },
     "execution_count": 52,
     "metadata": {},
     "output_type": "execute_result"
    }
   ],
   "source": [
    "ps = PorterStemmer()\n",
    "lm = WordNetLemmatizer()\n",
    "\n",
    "def apply_stemmer_lemmetizer(text):\n",
    "    words = word_tokenize(text)  # tokenising given string\n",
    "    stemmed_words = [ps.stem(word) for word in words]  # stemming given string\n",
    "    lemmatised_words = [lm.lemmatize(word) for word in stemmed_words]\n",
    "    return ' '.join(lemmatised_words)  # rejoin to make a string\n",
    "\n",
    "df1['lemmatised_reviews'] = df1['clean_reviews'].apply(apply_stemmer_lemmetizer)\n",
    "df1.head()\n"
   ],
   "metadata": {
    "collapsed": false,
    "ExecuteTime": {
     "end_time": "2024-01-10T19:33:18.236066Z",
     "start_time": "2024-01-10T19:33:18.179160300Z"
    }
   }
  },
  {
   "cell_type": "code",
   "execution_count": 53,
   "outputs": [
    {
     "name": "stdout",
     "output_type": "stream",
     "text": [
      "Sample change before and after lemmitisation\n",
      "0    pretty dry able pass two complete watches im h...\n",
      "Name: clean_reviews, dtype: object\n",
      "\n",
      "\n",
      "0    pretti dri abl pas two complet watch im happi ...\n",
      "Name: lemmatised_reviews, dtype: object\n"
     ]
    }
   ],
   "source": [
    "print('Sample change before and after lemmitisation')\n",
    "print(df1.iloc[0:1]['clean_reviews'])\n",
    "print('\\n')\n",
    "print(df1.iloc[0:1]['lemmatised_reviews'])"
   ],
   "metadata": {
    "collapsed": false,
    "ExecuteTime": {
     "end_time": "2024-01-10T19:33:18.905853200Z",
     "start_time": "2024-01-10T19:33:18.883336Z"
    }
   }
  },
  {
   "cell_type": "code",
   "execution_count": 54,
   "outputs": [],
   "source": [
    "# uncomment to improve efficiency in large datasets\n",
    "# df1.drop('clean_reviews', axis=1, inplace=True)"
   ],
   "metadata": {
    "collapsed": false,
    "ExecuteTime": {
     "end_time": "2024-01-10T19:33:19.876225900Z",
     "start_time": "2024-01-10T19:33:19.867172200Z"
    }
   }
  },
  {
   "cell_type": "raw",
   "source": [
    "2 .Apply a POS tagging algorithm or utilize a pretrained POS tagger to assign POS tags to the words in the dataset.                                                                (3Marks)\n",
    "\n",
    "\n",
    "The Penn Treebank POS tag from nltk:\n",
    "\n",
    "NN: Noun, singular or mass\n",
    "NNS: Noun, plural\n",
    "VB: Verb, base form\n",
    "VBD: Verb, past tense\n",
    "VBG: Verb, gerund or present participle\n",
    "JJ: Adjective\n",
    "RB: Adverb\n",
    "PRP: Personal pronoun\n",
    "CD: Cardinal number (e.g., 'one', 'two')\n",
    "WP$: Possessive wh-pronoun  are few examples of pos tags"
   ],
   "metadata": {
    "collapsed": false
   }
  },
  {
   "cell_type": "code",
   "execution_count": 55,
   "outputs": [
    {
     "data": {
      "text/plain": "                                             reviews       reviewers  \\\n0  Pretty dry, but I was able to pass with just t...     By Robert S   \n1  would be a better experience if the video and ...  By Gabriel E R   \n2  Information was perfect! The program itself wa...      By Jacob D   \n3  A few grammatical mistakes on test made me do ...       By Dale B   \n4  Excellent course and the training provided was...       By Sean G   \n\n   date_reviews  rating                 course_id  \\\n0  Feb 12, 2020     4.0  google-cbrs-cpi-training   \n1  Sep 28, 2020     4.0  google-cbrs-cpi-training   \n2  Apr 08, 2020     4.0  google-cbrs-cpi-training   \n3  Feb 24, 2020     4.0  google-cbrs-cpi-training   \n4  Jun 18, 2020     4.0  google-cbrs-cpi-training   \n\n                                       clean_reviews  \\\n0  pretty dry able pass two complete watches im h...   \n1  would better experience video screen shots wou...   \n2  information perfect program little annoying wa...   \n3     grammatical mistakes test made double take bad   \n4  excellent course training provided detailed ea...   \n\n                                  lemmatised_reviews  \\\n0  pretti dri abl pas two complet watch im happi ...   \n1  would better experi video screen shot would sh...   \n2  inform perfect program littl annoy wait minut ...   \n3            grammat mistak test made doubl take bad   \n4        excel cours train provid detail easi follow   \n\n                                            pos_tags  \n0  [(pretty, RB), (dry, JJ), (able, JJ), (pass, N...  \n1  [(would, MD), (better, VB), (experience, NN), ...  \n2  [(information, NN), (perfect, JJ), (program, N...  \n3  [(grammatical, JJ), (mistakes, NNS), (test, NN...  \n4  [(excellent, JJ), (course, NN), (training, NN)...  ",
      "text/html": "<div>\n<style scoped>\n    .dataframe tbody tr th:only-of-type {\n        vertical-align: middle;\n    }\n\n    .dataframe tbody tr th {\n        vertical-align: top;\n    }\n\n    .dataframe thead th {\n        text-align: right;\n    }\n</style>\n<table border=\"1\" class=\"dataframe\">\n  <thead>\n    <tr style=\"text-align: right;\">\n      <th></th>\n      <th>reviews</th>\n      <th>reviewers</th>\n      <th>date_reviews</th>\n      <th>rating</th>\n      <th>course_id</th>\n      <th>clean_reviews</th>\n      <th>lemmatised_reviews</th>\n      <th>pos_tags</th>\n    </tr>\n  </thead>\n  <tbody>\n    <tr>\n      <th>0</th>\n      <td>Pretty dry, but I was able to pass with just t...</td>\n      <td>By Robert S</td>\n      <td>Feb 12, 2020</td>\n      <td>4.0</td>\n      <td>google-cbrs-cpi-training</td>\n      <td>pretty dry able pass two complete watches im h...</td>\n      <td>pretti dri abl pas two complet watch im happi ...</td>\n      <td>[(pretty, RB), (dry, JJ), (able, JJ), (pass, N...</td>\n    </tr>\n    <tr>\n      <th>1</th>\n      <td>would be a better experience if the video and ...</td>\n      <td>By Gabriel E R</td>\n      <td>Sep 28, 2020</td>\n      <td>4.0</td>\n      <td>google-cbrs-cpi-training</td>\n      <td>would better experience video screen shots wou...</td>\n      <td>would better experi video screen shot would sh...</td>\n      <td>[(would, MD), (better, VB), (experience, NN), ...</td>\n    </tr>\n    <tr>\n      <th>2</th>\n      <td>Information was perfect! The program itself wa...</td>\n      <td>By Jacob D</td>\n      <td>Apr 08, 2020</td>\n      <td>4.0</td>\n      <td>google-cbrs-cpi-training</td>\n      <td>information perfect program little annoying wa...</td>\n      <td>inform perfect program littl annoy wait minut ...</td>\n      <td>[(information, NN), (perfect, JJ), (program, N...</td>\n    </tr>\n    <tr>\n      <th>3</th>\n      <td>A few grammatical mistakes on test made me do ...</td>\n      <td>By Dale B</td>\n      <td>Feb 24, 2020</td>\n      <td>4.0</td>\n      <td>google-cbrs-cpi-training</td>\n      <td>grammatical mistakes test made double take bad</td>\n      <td>grammat mistak test made doubl take bad</td>\n      <td>[(grammatical, JJ), (mistakes, NNS), (test, NN...</td>\n    </tr>\n    <tr>\n      <th>4</th>\n      <td>Excellent course and the training provided was...</td>\n      <td>By Sean G</td>\n      <td>Jun 18, 2020</td>\n      <td>4.0</td>\n      <td>google-cbrs-cpi-training</td>\n      <td>excellent course training provided detailed ea...</td>\n      <td>excel cours train provid detail easi follow</td>\n      <td>[(excellent, JJ), (course, NN), (training, NN)...</td>\n    </tr>\n  </tbody>\n</table>\n</div>"
     },
     "execution_count": 55,
     "metadata": {},
     "output_type": "execute_result"
    }
   ],
   "source": [
    "def pos_tagging(text):\n",
    "    tokens = word_tokenize(text)\n",
    "    tags = nltk.pos_tag(tokens)\n",
    "    return tags\n",
    "\n",
    "df1['pos_tags'] = df1['clean_reviews'].apply(pos_tagging)\n",
    "df1.head()"
   ],
   "metadata": {
    "collapsed": false,
    "ExecuteTime": {
     "end_time": "2024-01-10T19:33:22.209798Z",
     "start_time": "2024-01-10T19:33:22.075529500Z"
    }
   }
  },
  {
   "cell_type": "raw",
   "source": [
    " 3 .Identify the top N most common POS tags in the dataset, where N is a user-specified parameter  (1Mark)"
   ],
   "metadata": {
    "collapsed": false
   }
  },
  {
   "cell_type": "code",
   "execution_count": 30,
   "outputs": [],
   "source": [
    "hardcoded_pos_def = {'CC': 'conjunction, coordinating',\n",
    "                     'CD': 'numeral, cardinal',\n",
    "                     'DT': 'determiner',\n",
    "                     'EX': 'existential there',\n",
    "                     'FW': 'foreign word',\n",
    "                     'IN': 'preposition or conjunction, subordinating',\n",
    "                     'JJ': 'adjective or numeral, ordinal',\n",
    "                     'JJR': 'adjective, comparative',\n",
    "                     'JJS': 'adjective, superlative',\n",
    "                     'LS': 'list item marker',\n",
    "                     'MD': 'modal auxiliary',\n",
    "                     'NN': 'noun, common, singular or mass',\n",
    "                     'NNP': 'noun, proper, singular',\n",
    "                     'NNPS': 'noun, proper, plural',\n",
    "                     'NNS': 'noun, common, plural',\n",
    "                     'PDT': 'pre-determiner',\n",
    "                     'POS': 'genitive marker',\n",
    "                     'PRP': 'pronoun, personal',\n",
    "                     'PRP$': 'pronoun, possessive',\n",
    "                     'RB': 'adverb',\n",
    "                     'RBR': 'adverb, comparative',\n",
    "                     'RBS': 'adverb, superlative',\n",
    "                     'RP': 'particle',\n",
    "                     'SYM': 'symbol',\n",
    "                     'TO': '\"to\" as preposition or infinitive marker',\n",
    "                     'UH': 'interjection',\n",
    "                     'VB': 'verb, base form',\n",
    "                     'VBD': 'verb, past tense',\n",
    "                     'VBG': 'verb, present participle or gerund',\n",
    "                     'VBN': 'verb, past participle',\n",
    "                     'VBP': 'verb, present tense, not 3rd person singular',\n",
    "                     'VBZ': 'verb, present tense, 3rd person singular',\n",
    "                     'WDT': 'WH-determiner',\n",
    "                     'WP': 'WH-pronoun',\n",
    "                     'WP$': 'WH-pronoun, possessive',\n",
    "                     'WRB': 'Wh-adverb'}"
   ],
   "metadata": {
    "collapsed": false,
    "ExecuteTime": {
     "end_time": "2024-01-10T18:48:34.614217500Z",
     "start_time": "2024-01-10T18:48:34.590201200Z"
    }
   }
  },
  {
   "cell_type": "code",
   "execution_count": 31,
   "outputs": [
    {
     "name": "stdout",
     "output_type": "stream",
     "text": [
      "Total pos tags in data : 37\n"
     ]
    }
   ],
   "source": [
    "count_dict = defaultdict(lambda: 0)\n",
    "for row in df1['pos_tags']:\n",
    "    for _, key in row:\n",
    "        count_dict[key] += 1\n",
    "\n",
    "counts_dict_final = dict(count_dict)\n",
    "counts_dict_df_ = pd.DataFrame(list(counts_dict_final.items()), columns=['pos_tags', 'occurrence_counts'])\n",
    "pos_def_df = pd.DataFrame(list(hardcoded_pos_def.items()), columns=['pos_tags', 'tag_definition'])\n",
    "\n",
    "counts_dict_df = pd.merge(counts_dict_df_, pos_def_df, on='pos_tags', how='left')\n",
    "\n",
    "N_max = counts_dict_df.shape[0]\n",
    "print('Total pos tags in data : {}'.format(N_max))"
   ],
   "metadata": {
    "collapsed": false,
    "ExecuteTime": {
     "end_time": "2024-01-10T18:48:37.263693900Z",
     "start_time": "2024-01-10T18:48:34.604375500Z"
    }
   }
  },
  {
   "cell_type": "code",
   "execution_count": 32,
   "outputs": [
    {
     "data": {
      "text/plain": "   pos_tags                                tag_definition  occurrence_counts\n3        NN                noun, common, singular or mass            6511188\n2        JJ                 adjective or numeral, ordinal            2367727\n1       VBP  verb, present tense, not 3rd person singular             809766\n0       NNS                          noun, common, plural             788315\n5        RB                                        adverb             466330\n9        VB                               verb, base form             415025\n10       IN     preposition or conjunction, subordinating             253810\n15       FW                                  foreign word             231322\n12      VBD                              verb, past tense             196175\n8        MD                               modal auxiliary             118088\n11      VBZ      verb, present tense, 3rd person singular             104565\n7       VBN                         verb, past participle              85904\n4        CD                             numeral, cardinal              69083\n13      JJS                        adjective, superlative              66299\n6       JJR                        adjective, comparative              38413\n20      RBR                           adverb, comparative              22913\n14       DT                                    determiner              13078\n22       CC                     conjunction, coordinating               7269\n19       RP                                      particle               5890",
      "text/html": "<div>\n<style scoped>\n    .dataframe tbody tr th:only-of-type {\n        vertical-align: middle;\n    }\n\n    .dataframe tbody tr th {\n        vertical-align: top;\n    }\n\n    .dataframe thead th {\n        text-align: right;\n    }\n</style>\n<table border=\"1\" class=\"dataframe\">\n  <thead>\n    <tr style=\"text-align: right;\">\n      <th></th>\n      <th>pos_tags</th>\n      <th>tag_definition</th>\n      <th>occurrence_counts</th>\n    </tr>\n  </thead>\n  <tbody>\n    <tr>\n      <th>3</th>\n      <td>NN</td>\n      <td>noun, common, singular or mass</td>\n      <td>6511188</td>\n    </tr>\n    <tr>\n      <th>2</th>\n      <td>JJ</td>\n      <td>adjective or numeral, ordinal</td>\n      <td>2367727</td>\n    </tr>\n    <tr>\n      <th>1</th>\n      <td>VBP</td>\n      <td>verb, present tense, not 3rd person singular</td>\n      <td>809766</td>\n    </tr>\n    <tr>\n      <th>0</th>\n      <td>NNS</td>\n      <td>noun, common, plural</td>\n      <td>788315</td>\n    </tr>\n    <tr>\n      <th>5</th>\n      <td>RB</td>\n      <td>adverb</td>\n      <td>466330</td>\n    </tr>\n    <tr>\n      <th>9</th>\n      <td>VB</td>\n      <td>verb, base form</td>\n      <td>415025</td>\n    </tr>\n    <tr>\n      <th>10</th>\n      <td>IN</td>\n      <td>preposition or conjunction, subordinating</td>\n      <td>253810</td>\n    </tr>\n    <tr>\n      <th>15</th>\n      <td>FW</td>\n      <td>foreign word</td>\n      <td>231322</td>\n    </tr>\n    <tr>\n      <th>12</th>\n      <td>VBD</td>\n      <td>verb, past tense</td>\n      <td>196175</td>\n    </tr>\n    <tr>\n      <th>8</th>\n      <td>MD</td>\n      <td>modal auxiliary</td>\n      <td>118088</td>\n    </tr>\n    <tr>\n      <th>11</th>\n      <td>VBZ</td>\n      <td>verb, present tense, 3rd person singular</td>\n      <td>104565</td>\n    </tr>\n    <tr>\n      <th>7</th>\n      <td>VBN</td>\n      <td>verb, past participle</td>\n      <td>85904</td>\n    </tr>\n    <tr>\n      <th>4</th>\n      <td>CD</td>\n      <td>numeral, cardinal</td>\n      <td>69083</td>\n    </tr>\n    <tr>\n      <th>13</th>\n      <td>JJS</td>\n      <td>adjective, superlative</td>\n      <td>66299</td>\n    </tr>\n    <tr>\n      <th>6</th>\n      <td>JJR</td>\n      <td>adjective, comparative</td>\n      <td>38413</td>\n    </tr>\n    <tr>\n      <th>20</th>\n      <td>RBR</td>\n      <td>adverb, comparative</td>\n      <td>22913</td>\n    </tr>\n    <tr>\n      <th>14</th>\n      <td>DT</td>\n      <td>determiner</td>\n      <td>13078</td>\n    </tr>\n    <tr>\n      <th>22</th>\n      <td>CC</td>\n      <td>conjunction, coordinating</td>\n      <td>7269</td>\n    </tr>\n    <tr>\n      <th>19</th>\n      <td>RP</td>\n      <td>particle</td>\n      <td>5890</td>\n    </tr>\n  </tbody>\n</table>\n</div>"
     },
     "execution_count": 32,
     "metadata": {},
     "output_type": "execute_result"
    }
   ],
   "source": [
    "N = int(input(\"Enter N for looking at top n pos tags, max N {}: \".format(N_max)))\n",
    "assert N<=N_max, 'Enter valid N <= N_max'\n",
    "\n",
    "counts_dict_df = counts_dict_df[['pos_tags', 'tag_definition', 'occurrence_counts']]\n",
    "counts_dict_df = counts_dict_df.sort_values(by='occurrence_counts', ascending=False)\n",
    "counts_dict_df.head(N)\n"
   ],
   "metadata": {
    "collapsed": false,
    "ExecuteTime": {
     "end_time": "2024-01-10T18:49:14.325060500Z",
     "start_time": "2024-01-10T18:48:37.266816700Z"
    }
   }
  },
  {
   "cell_type": "markdown",
   "source": [
    "4. display frequency count and percentage of each tag in top N list"
   ],
   "metadata": {
    "collapsed": false
   }
  },
  {
   "cell_type": "code",
   "execution_count": 33,
   "outputs": [
    {
     "data": {
      "text/plain": "  pos_tags                                tag_definition  occurrence_counts  \\\n3       NN                noun, common, singular or mass            6511188   \n2       JJ                 adjective or numeral, ordinal            2367727   \n1      VBP  verb, present tense, not 3rd person singular             809766   \n0      NNS                          noun, common, plural             788315   \n5       RB                                        adverb             466330   \n\n   percent_coverage  \n3         51.674635  \n2         18.790953  \n1          6.426533  \n0          6.256291  \n5          3.700927  ",
      "text/html": "<div>\n<style scoped>\n    .dataframe tbody tr th:only-of-type {\n        vertical-align: middle;\n    }\n\n    .dataframe tbody tr th {\n        vertical-align: top;\n    }\n\n    .dataframe thead th {\n        text-align: right;\n    }\n</style>\n<table border=\"1\" class=\"dataframe\">\n  <thead>\n    <tr style=\"text-align: right;\">\n      <th></th>\n      <th>pos_tags</th>\n      <th>tag_definition</th>\n      <th>occurrence_counts</th>\n      <th>percent_coverage</th>\n    </tr>\n  </thead>\n  <tbody>\n    <tr>\n      <th>3</th>\n      <td>NN</td>\n      <td>noun, common, singular or mass</td>\n      <td>6511188</td>\n      <td>51.674635</td>\n    </tr>\n    <tr>\n      <th>2</th>\n      <td>JJ</td>\n      <td>adjective or numeral, ordinal</td>\n      <td>2367727</td>\n      <td>18.790953</td>\n    </tr>\n    <tr>\n      <th>1</th>\n      <td>VBP</td>\n      <td>verb, present tense, not 3rd person singular</td>\n      <td>809766</td>\n      <td>6.426533</td>\n    </tr>\n    <tr>\n      <th>0</th>\n      <td>NNS</td>\n      <td>noun, common, plural</td>\n      <td>788315</td>\n      <td>6.256291</td>\n    </tr>\n    <tr>\n      <th>5</th>\n      <td>RB</td>\n      <td>adverb</td>\n      <td>466330</td>\n      <td>3.700927</td>\n    </tr>\n  </tbody>\n</table>\n</div>"
     },
     "execution_count": 33,
     "metadata": {},
     "output_type": "execute_result"
    }
   ],
   "source": [
    "top_n_pos_tags_df = counts_dict_df.nlargest(N, 'occurrence_counts')\n",
    "counts_ = counts_dict_df['occurrence_counts'].sum()\n",
    "top_n_pos_tags_df['percent_coverage'] = (top_n_pos_tags_df['occurrence_counts'] / counts_) * 100\n",
    "top_n_pos_tags_df.head()"
   ],
   "metadata": {
    "collapsed": false,
    "ExecuteTime": {
     "end_time": "2024-01-10T18:49:14.326293600Z",
     "start_time": "2024-01-10T18:49:14.264222700Z"
    }
   }
  },
  {
   "cell_type": "markdown",
   "source": [
    "5. Generate visualisations for pos tags frequency counts 1 mark"
   ],
   "metadata": {
    "collapsed": false
   }
  },
  {
   "cell_type": "code",
   "execution_count": 34,
   "outputs": [
    {
     "data": {
      "text/plain": "Text(0.5, 1.0, 'Pos tags frequency counts')"
     },
     "execution_count": 34,
     "metadata": {},
     "output_type": "execute_result"
    },
    {
     "data": {
      "text/plain": "<Figure size 800x600 with 1 Axes>",
      "image/png": "[encoded data removed]"
     },
     "metadata": {},
     "output_type": "display_data"
    }
   ],
   "source": [
    "plt.figure(figsize=(8, 6))  # Optional: Adjust figure size\n",
    "\n",
    "plt.bar(top_n_pos_tags_df['pos_tags'], top_n_pos_tags_df['occurrence_counts'], color='skyblue')\n",
    "\n",
    "plt.xlabel('Pos tags')\n",
    "plt.ylabel('Frequency count')\n",
    "plt.grid()\n",
    "plt.title('Pos tags frequency counts')"
   ],
   "metadata": {
    "collapsed": false,
    "ExecuteTime": {
     "end_time": "2024-01-10T18:49:14.541428Z",
     "start_time": "2024-01-10T18:49:14.277435900Z"
    }
   }
  },
  {
   "cell_type": "markdown",
   "source": [
    "6. Display HMM pos tags on first 4 rows of dataset"
   ],
   "metadata": {
    "collapsed": false
   }
  },
  {
   "cell_type": "code",
   "execution_count": 35,
   "outputs": [
    {
     "data": {
      "text/plain": "((1047945,), (4,))"
     },
     "execution_count": 35,
     "metadata": {},
     "output_type": "execute_result"
    }
   ],
   "source": [
    "# we will test on first 4 rows and train on the rest\n",
    "train_data = df1.iloc[4:]['pos_tags']\n",
    "test_data = df1.iloc[:4]['lemmatised_reviews']\n",
    "\n",
    "train_data.shape, test_data.shape"
   ],
   "metadata": {
    "collapsed": false,
    "ExecuteTime": {
     "end_time": "2024-01-10T18:49:14.626133400Z",
     "start_time": "2024-01-10T18:49:14.529179900Z"
    }
   }
  },
  {
   "cell_type": "code",
   "execution_count": 36,
   "outputs": [
    {
     "name": "stdout",
     "output_type": "stream",
     "text": [
      "for index 0 , HMM o/p: \n",
      "[('pretti', 'RB'), ('dri', 'JJ'), ('abl', 'NN'), ('pas', 'NN'), ('two', 'CD'), ('complet', 'NN'), ('watch', 'NN'), ('im', 'NN'), ('happi', 'NN'), ('usual', 'JJ'), ('question', 'NN'), ('final', 'JJ'), ('exam', 'NN'), ('cours', 'NNS'), ('annoy', 'VBP'), ('far', 'RB'), ('better', 'RBR'), ('mani', 'JJ'), ('microsoft', 'JJ'), ('test', 'NN'), ('taken', 'VBN'), ('never', 'RB'), ('found', 'VBN'), ('supliment', 'RP'), ('materi', 'NN'), ('cours', 'NNS'), ('refer', 'VBP'), ('care', 'NN'), ('pas', 'NN')]\n",
      "nltk pretrained model o/p\n",
      "[('pretti', 'NNS'), ('dri', 'VBP'), ('abl', 'JJ'), ('pas', 'NN'), ('two', 'CD'), ('complet', 'NN'), ('watch', 'NN'), ('im', 'NN'), ('happi', 'VBP'), ('usual', 'JJ'), ('question', 'NN'), ('final', 'JJ'), ('exam', 'NN'), ('cours', 'NNS'), ('annoy', 'VBP'), ('far', 'RB'), ('better', 'JJR'), ('mani', 'NN'), ('microsoft', 'JJ'), ('test', 'NN'), ('taken', 'VBN'), ('never', 'RB'), ('found', 'VBN'), ('supliment', 'NN'), ('materi', 'NN'), ('cours', 'NN'), ('refer', 'VBP'), ('care', 'NN'), ('pas', 'NN')]\n",
      "\n",
      "\n",
      "for index 1 , HMM o/p: \n",
      "[('would', 'MD'), ('better', 'VB'), ('experi', 'NN'), ('video', 'NN'), ('screen', 'NN'), ('shot', 'NN'), ('would', 'MD'), ('sho', 'VB'), ('side', 'NN'), ('text', 'NN'), ('instructor', 'NN'), ('go', 'VBP'), ('thru', 'JJ'), ('user', 'NN'), ('go', 'VBP'), ('way', 'NN'), ('begin', 'NN'), ('text', 'NN'), ('abl', 'NN'), ('view', 'NN'), ('slide', 'NN'), ('instructor', 'NN'), ('show', 'NN')]\n",
      "nltk pretrained model o/p\n",
      "[('would', 'MD'), ('better', 'VB'), ('experi', 'VB'), ('video', 'JJ'), ('screen', 'NN'), ('shot', 'NN'), ('would', 'MD'), ('sho', 'VB'), ('side', 'NN'), ('text', 'NN'), ('instructor', 'NN'), ('go', 'VBP'), ('thru', 'RB'), ('user', 'RB'), ('go', 'VB'), ('way', 'NN'), ('begin', 'IN'), ('text', 'JJ'), ('abl', 'JJ'), ('view', 'NN'), ('slide', 'NN'), ('instructor', 'NN'), ('show', 'NN')]\n",
      "\n",
      "\n",
      "for index 2 , HMM o/p: \n",
      "[('inform', 'NN'), ('perfect', 'JJ'), ('program', 'NN'), ('littl', 'NN'), ('annoy', 'NN'), ('wait', 'NN'), ('minut', 'NN'), ('watch', 'NN'), ('video', 'NN'), ('take', 'VB'), ('quiz', 'NN'), ('inform', 'NN'), ('perfect', 'JJ'), ('pas', 'NN'), ('test', 'NN'), ('issu', 'NN')]\n",
      "nltk pretrained model o/p\n",
      "[('inform', 'NN'), ('perfect', 'JJ'), ('program', 'NN'), ('littl', 'NN'), ('annoy', 'VBZ'), ('wait', 'JJ'), ('minut', 'NN'), ('watch', 'NN'), ('video', 'NN'), ('take', 'VB'), ('quiz', 'NN'), ('inform', 'NN'), ('perfect', 'JJ'), ('pas', 'JJ'), ('test', 'NN'), ('issu', 'NN')]\n",
      "\n",
      "\n",
      "for index 3 , HMM o/p: \n",
      "[('grammat', 'NN'), ('mistak', 'NN'), ('test', 'NN'), ('made', 'VBD'), ('doubl', 'NNS'), ('take', 'VBP'), ('bad', 'JJ')]\n",
      "nltk pretrained model o/p\n",
      "[('grammat', 'NN'), ('mistak', 'NN'), ('test', 'NN'), ('made', 'VBD'), ('doubl', 'NNS'), ('take', 'VB'), ('bad', 'JJ')]\n",
      "\n",
      "\n"
     ]
    }
   ],
   "source": [
    "# training hmm model\n",
    "hmm_tagger = HiddenMarkovModelTagger.train(list(train_data))\n",
    "#predictions\n",
    "tagged_token_list = []\n",
    "for tokens_ in list(test_data):\n",
    "    index = len(tagged_token_list)\n",
    "    print('for index {} , HMM o/p: '.format(index))\n",
    "    tokens = word_tokenize(tokens_)\n",
    "    tagged_tokens = hmm_tagger.tag(tokens)\n",
    "    tagged_token_list.append(tagged_tokens)\n",
    "    print(tagged_tokens)\n",
    "    print('nltk pretrained model o/p')\n",
    "    print(df1.iloc[index]['pos_tags'])\n",
    "    print('\\n')\n",
    "\n",
    "# tagged_tokens = hmm_tagger.tag(list(test_data))\n",
    "# \n",
    "# print(*tagged_tokens, sep='\\n')"
   ],
   "metadata": {
    "collapsed": false,
    "ExecuteTime": {
     "end_time": "2024-01-10T18:49:41.749403Z",
     "start_time": "2024-01-10T18:49:14.547526600Z"
    }
   }
  },
  {
   "cell_type": "raw",
   "source": [
    "Some tags dont seem to match for both case, maybe due to small training data"
   ],
   "metadata": {
    "collapsed": false
   }
  },
  {
   "cell_type": "code",
   "execution_count": 46,
   "outputs": [
    {
     "name": "stdout",
     "output_type": "stream",
     "text": [
      "printing tag description instead \n",
      "for index 0 , clean review: \n",
      "Pretty dry, but I was able to pass with just two complete watches so I'm happy about that.  As usual there were some questions on the final exam that were NO WHERE in the course, which is annoying but far better than many microsoft tests I have taken.  Never found the suplimental material that the course references... but who cares... i passed!\n",
      "------------------------------------------------------------------------------------------\n",
      " HMM o/p: \n",
      "[('pretti', 'adverb'), ('dri', 'adjective'), ('abl', 'noun,'), ('pas', 'noun,'), ('two', 'numeral,'), ('complet', 'noun,'), ('watch', 'noun,'), ('im', 'noun,'), ('happi', 'noun,'), ('usual', 'adjective'), ('question', 'noun,'), ('final', 'adjective'), ('exam', 'noun,'), ('cours', 'noun,'), ('annoy', 'verb,'), ('far', 'adverb'), ('better', 'adverb,'), ('mani', 'adjective'), ('microsoft', 'adjective'), ('test', 'noun,'), ('taken', 'verb,'), ('never', 'adverb'), ('found', 'verb,'), ('supliment', 'particle'), ('materi', 'noun,'), ('cours', 'noun,'), ('refer', 'verb,'), ('care', 'noun,'), ('pas', 'noun,')]\n",
      "------------------------------------------------------------------------------------------\n",
      "nltk pretrained model o/p\n",
      "[('pretti', 'noun,'), ('dri', 'verb,'), ('abl', 'adjective'), ('pas', 'noun,'), ('two', 'numeral,'), ('complet', 'noun,'), ('watch', 'noun,'), ('im', 'noun,'), ('happi', 'verb,'), ('usual', 'adjective'), ('question', 'noun,'), ('final', 'adjective'), ('exam', 'noun,'), ('cours', 'noun,'), ('annoy', 'verb,'), ('far', 'adverb'), ('better', 'adjective,'), ('mani', 'noun,'), ('microsoft', 'adjective'), ('test', 'noun,'), ('taken', 'verb,'), ('never', 'adverb'), ('found', 'verb,'), ('supliment', 'noun,'), ('materi', 'noun,'), ('cours', 'noun,'), ('refer', 'verb,'), ('care', 'noun,'), ('pas', 'noun,')]\n",
      "\n",
      "\n",
      "for index 1 , clean review: \n",
      "would be a better experience if the video and screen shots would sho on the side of the text that the instructor is going thru so that user does not have to go all the way to beginning of text to be able to view any slides instructor is showing.\n",
      "------------------------------------------------------------------------------------------\n",
      " HMM o/p: \n",
      "[('would', 'modal'), ('better', 'verb,'), ('experi', 'noun,'), ('video', 'noun,'), ('screen', 'noun,'), ('shot', 'noun,'), ('would', 'modal'), ('sho', 'verb,'), ('side', 'noun,'), ('text', 'noun,'), ('instructor', 'noun,'), ('go', 'verb,'), ('thru', 'adjective'), ('user', 'noun,'), ('go', 'verb,'), ('way', 'noun,'), ('begin', 'noun,'), ('text', 'noun,'), ('abl', 'noun,'), ('view', 'noun,'), ('slide', 'noun,'), ('instructor', 'noun,'), ('show', 'noun,')]\n",
      "------------------------------------------------------------------------------------------\n",
      "nltk pretrained model o/p\n",
      "[('would', 'modal'), ('better', 'verb,'), ('experi', 'verb,'), ('video', 'adjective'), ('screen', 'noun,'), ('shot', 'noun,'), ('would', 'modal'), ('sho', 'verb,'), ('side', 'noun,'), ('text', 'noun,'), ('instructor', 'noun,'), ('go', 'verb,'), ('thru', 'adverb'), ('user', 'adverb'), ('go', 'verb,'), ('way', 'noun,'), ('begin', 'preposition'), ('text', 'adjective'), ('abl', 'adjective'), ('view', 'noun,'), ('slide', 'noun,'), ('instructor', 'noun,'), ('show', 'noun,')]\n",
      "\n",
      "\n",
      "for index 2 , clean review: \n",
      "Information was perfect! The program itself was a little annoying. I had to wait 30 to 45 minutes after watching the videos to to take the quiz. Other than that the information was perfect and passed the test with no issues!\n",
      "------------------------------------------------------------------------------------------\n",
      " HMM o/p: \n",
      "[('inform', 'noun,'), ('perfect', 'adjective'), ('program', 'noun,'), ('littl', 'noun,'), ('annoy', 'noun,'), ('wait', 'noun,'), ('minut', 'noun,'), ('watch', 'noun,'), ('video', 'noun,'), ('take', 'verb,'), ('quiz', 'noun,'), ('inform', 'noun,'), ('perfect', 'adjective'), ('pas', 'noun,'), ('test', 'noun,'), ('issu', 'noun,')]\n",
      "------------------------------------------------------------------------------------------\n",
      "nltk pretrained model o/p\n",
      "[('inform', 'noun,'), ('perfect', 'adjective'), ('program', 'noun,'), ('littl', 'noun,'), ('annoy', 'verb,'), ('wait', 'adjective'), ('minut', 'noun,'), ('watch', 'noun,'), ('video', 'noun,'), ('take', 'verb,'), ('quiz', 'noun,'), ('inform', 'noun,'), ('perfect', 'adjective'), ('pas', 'adjective'), ('test', 'noun,'), ('issu', 'noun,')]\n",
      "\n",
      "\n",
      "for index 3 , clean review: \n",
      "A few grammatical mistakes on test made me do a double take but all in all not bad.\n",
      "------------------------------------------------------------------------------------------\n",
      " HMM o/p: \n",
      "[('grammat', 'noun,'), ('mistak', 'noun,'), ('test', 'noun,'), ('made', 'verb,'), ('doubl', 'noun,'), ('take', 'verb,'), ('bad', 'adjective')]\n",
      "------------------------------------------------------------------------------------------\n",
      "nltk pretrained model o/p\n",
      "[('grammat', 'noun,'), ('mistak', 'noun,'), ('test', 'noun,'), ('made', 'verb,'), ('doubl', 'noun,'), ('take', 'verb,'), ('bad', 'adjective')]\n",
      "\n",
      "\n"
     ]
    }
   ],
   "source": [
    "print('printing tag description instead ')\n",
    "for index, i in enumerate(tagged_token_list):\n",
    "    print('for index {} , review: '.format(index))\n",
    "    print(df1.iloc[index]['reviews'])\n",
    "    print('------------------------------------------------------------------------------------------')\n",
    "    print(' HMM o/p: ')\n",
    "    list1 = [(j[0], hardcoded_pos_def[j[1]].split(' ')[0])  for j in i]\n",
    "    print(list1)\n",
    "    print('------------------------------------------------------------------------------------------')\n",
    "    print('nltk pretrained model o/p')\n",
    "    list2 = [(j[0], hardcoded_pos_def[j[1]].split(' ')[0])  for j in df1.iloc[index]['pos_tags']]\n",
    "    print(list2)\n",
    "    print('\\n')"
   ],
   "metadata": {
    "collapsed": false,
    "ExecuteTime": {
     "end_time": "2024-01-10T19:07:14.626729500Z",
     "start_time": "2024-01-10T19:07:14.605249800Z"
    }
   }
  },
  {
   "cell_type": "code",
   "execution_count": null,
   "outputs": [],
   "source": [],
   "metadata": {
    "collapsed": false
   }
  }
 ],
 "metadata": {
  "kernelspec": {
   "display_name": "Python 3",
   "language": "python",
   "name": "python3"
  },
  "language_info": {
   "codemirror_mode": {
    "name": "ipython",
    "version": 2
   },
   "file_extension": ".py",
   "mimetype": "text/x-python",
   "name": "python",
   "nbconvert_exporter": "python",
   "pygments_lexer": "ipython2",
   "version": "2.7.6"
  }
 },
 "nbformat": 4,
 "nbformat_minor": 0
}
