{
 "cells": [
  {
   "cell_type": "code",
   "execution_count": 4,
   "metadata": {
    "colab": {
     "base_uri": "https://localhost:8080/"
    },
    "id": "ztPnekJ8JheM",
    "outputId": "fa400abc-8ae3-4b8e-c5b2-d6945bb4e961",
    "ExecuteTime": {
     "end_time": "2024-01-04T19:23:42.247220800Z",
     "start_time": "2024-01-04T19:23:42.235147100Z"
    }
   },
   "outputs": [
    {
     "name": "stderr",
     "output_type": "stream",
     "text": [
      "[nltk_data] Downloading package reuters to\n",
      "[nltk_data]     C:\\Users\\praka\\AppData\\Roaming\\nltk_data...\n",
      "[nltk_data]   Package reuters is already up-to-date!\n",
      "[nltk_data] Downloading package punkt to\n",
      "[nltk_data]     C:\\Users\\praka\\AppData\\Roaming\\nltk_data...\n",
      "[nltk_data]   Package punkt is already up-to-date!\n"
     ]
    }
   ],
   "source": [
    "import nltk\n",
    "import random\n",
    "nltk.download('reuters')\n",
    "nltk.download('punkt')\n",
    "from nltk.corpus import reuters\n",
    "from nltk.tokenize import word_tokenize\n",
    "from nltk import bigrams, FreqDist, ConditionalFreqDist\n",
    "from nltk.stem import PorterStemmer, WordNetLemmatizer\n"
   ]
  },
  {
   "cell_type": "markdown",
   "metadata": {
    "id": "184oTFkB3ux0"
   },
   "source": [
    "A) Search for a fitting open-source dataset or document collection for analyzing the impact of stemming on an inverted index.\n",
    "\n",
    "Using dataset available from nltk reuters for the assignment.\n",
    "Reuters provides corpus of text documents which can be used to experiment stemming and build inverted index"
   ]
  },
  {
   "cell_type": "markdown",
   "metadata": {
    "id": "VITUnhiS4AnA"
   },
   "source": [
    "B) a) Create a Python function that applies stemming to a set of words from the chosen dataset. Provide examples before and after stemming. Discuss how stemming impacts the construction of an inverted index."
   ]
  },
  {
   "cell_type": "code",
   "execution_count": 5,
   "outputs": [],
   "source": [
    "filenames = reuters.fileids()"
   ],
   "metadata": {
    "collapsed": false,
    "ExecuteTime": {
     "end_time": "2024-01-04T19:23:43.238726400Z",
     "start_time": "2024-01-04T19:23:43.221960400Z"
    }
   }
  },
  {
   "cell_type": "code",
   "execution_count": 6,
   "outputs": [
    {
     "name": "stdout",
     "output_type": "stream",
     "text": [
      "ASIAN EXPORTERS FEAR DAMAGE FROM U.S.-JAPAN RIFT\n",
      "  Mounting trade friction between the\n",
      "  U.S. And Japan has raised fears among many of Asia's exporting\n",
      "  nations that the row could inflict far-reaching economic\n",
      "  damage, businessmen and officials said.\n",
      "      They told Reuter correspondents in Asian capitals a U.S.\n",
      "  Move against Japan might boost protectionist sentiment in the\n",
      "  U.S. And lead to curbs on American imports of their products.\n",
      "      But some exporters said that while the conflict would hurt\n",
      "  them in the long-run, in the short-term Tokyo's loss might be\n",
      "  their gain.\n",
      "      The U.S. Has said it will impose 300 mln dlrs of tariffs on\n",
      "  imports of Japanese electronics goods on April 17, in\n",
      "  retaliation for Japan's alleged failure to stick to a pact not\n",
      "  to sell semiconductors on world markets at below cost.\n",
      "      Unofficial Japanese estimates put the impact of the tariffs\n",
      "  at 10 billion dlrs and spokesmen for major electronics firms\n",
      "  said they would virtually halt exports of products hit by the\n",
      "  new taxes.\n",
      "      \"We wouldn't be able to do business,\" said a spokesman for\n",
      "  leading Japanese electronics firm Matsushita Electric\n",
      "  Industrial Co Ltd &lt;MC.T>.\n",
      "      \"If the tariffs remain in place for any length of time\n",
      "  beyond a few months it will mean the complete erosion of\n",
      "  exports (of goods subject to tariffs) to the U.S.,\" said Tom\n",
      "  Murtha, a stock analyst at the Tokyo office of broker &lt;James\n",
      "  Capel and Co>.\n",
      "      In Taiwan, businessmen and officials are also worried.\n",
      "      \"We are aware of the seriousness of the U.S. Threat against\n",
      "  Japan because it serves as a warning to us,\" said a senior\n",
      "  Taiwanese trade official who asked not to be named.\n",
      "      Taiwan had a trade trade surplus of 15.6 billion dlrs last\n",
      "  year, 95 pct of it with the U.S.\n",
      "      The surplus helped swell Taiwan's foreign exchange reserves\n",
      "  to 53 billion dlrs, among the world's largest.\n",
      "      \"We must quickly open our markets, remove trade barriers and\n",
      "  cut import tariffs to allow imports of U.S. Products, if we\n",
      "  want to defuse problems from possible U.S. Retaliation,\" said\n",
      "  Paul Sheen, chairman of textile exporters &lt;Taiwan Safe Group>.\n",
      "      A senior official of South Korea's trade promotion\n",
      "  association said the trade dispute between the U.S. And Japan\n",
      "  might also lead to pressure on South Korea, whose chief exports\n",
      "  are similar to those of Japan.\n",
      "      Last year South Korea had a trade surplus of 7.1 billion\n",
      "  dlrs with the U.S., Up from 4.9 billion dlrs in 1985.\n",
      "      In Malaysia, trade officers and businessmen said tough\n",
      "  curbs against Japan might allow hard-hit producers of\n",
      "  semiconductors in third countries to expand their sales to the\n",
      "  U.S.\n",
      "      In Hong Kong, where newspapers have alleged Japan has been\n",
      "  selling below-cost semiconductors, some electronics\n",
      "  manufacturers share that view. But other businessmen said such\n",
      "  a short-term commercial advantage would be outweighed by\n",
      "  further U.S. Pressure to block imports.\n",
      "      \"That is a very short-term view,\" said Lawrence Mills,\n",
      "  director-general of the Federation of Hong Kong Industry.\n",
      "      \"If the whole purpose is to prevent imports, one day it will\n",
      "  be extended to other sources. Much more serious for Hong Kong\n",
      "  is the disadvantage of action restraining trade,\" he said.\n",
      "      The U.S. Last year was Hong Kong's biggest export market,\n",
      "  accounting for over 30 pct of domestically produced exports.\n",
      "      The Australian government is awaiting the outcome of trade\n",
      "  talks between the U.S. And Japan with interest and concern,\n",
      "  Industry Minister John Button said in Canberra last Friday.\n",
      "      \"This kind of deterioration in trade relations between two\n",
      "  countries which are major trading partners of ours is a very\n",
      "  serious matter,\" Button said.\n",
      "      He said Australia's concerns centred on coal and beef,\n",
      "  Australia's two largest exports to Japan and also significant\n",
      "  U.S. Exports to that country.\n",
      "      Meanwhile U.S.-Japanese diplomatic manoeuvres to solve the\n",
      "  trade stand-off continue.\n",
      "      Japan's ruling Liberal Democratic Party yesterday outlined\n",
      "  a package of economic measures to boost the Japanese economy.\n",
      "      The measures proposed include a large supplementary budget\n",
      "  and record public works spending in the first half of the\n",
      "  financial year.\n",
      "      They also call for stepped-up spending as an emergency\n",
      "  measure to stimulate the economy despite Prime Minister\n",
      "  Yasuhiro Nakasone's avowed fiscal reform program.\n",
      "      Deputy U.S. Trade Representative Michael Smith and Makoto\n",
      "  Kuroda, Japan's deputy minister of International Trade and\n",
      "  Industry (MITI), are due to meet in Washington this week in an\n",
      "  effort to end the dispute.\n",
      "  \n",
      "\n",
      "\n",
      "\n",
      "\n",
      "CHINA DAILY SAYS VERMIN EAT 7-12 PCT GRAIN STOCKS\n",
      "  A survey of 19 provinces and seven cities\n",
      "  showed vermin consume between seven and 12 pct of China's grain\n",
      "  stocks, the China Daily said.\n",
      "      It also said that each year 1.575 mln tonnes, or 25 pct, of\n",
      "  China's fruit output are left to rot, and 2.1 mln tonnes, or up\n",
      "  to 30 pct, of its vegetables. The paper blamed the waste on\n",
      "  inadequate storage and bad preservation methods.\n",
      "      It said the government had launched a national programme to\n",
      "  reduce waste, calling for improved technology in storage and\n",
      "  preservation, and greater production of additives. The paper\n",
      "  gave no further details.\n",
      "  \n",
      "\n",
      "\n",
      "\n",
      "\n",
      "JAPAN TO REVISE LONG-TERM ENERGY DEMAND DOWNWARDS\n",
      "  The Ministry of International Trade and\n",
      "  Industry (MITI) will revise its long-term energy supply/demand\n",
      "  outlook by August to meet a forecast downtrend in Japanese\n",
      "  energy demand, ministry officials said.\n",
      "      MITI is expected to lower the projection for primary energy\n",
      "  supplies in the year 2000 to 550 mln kilolitres (kl) from 600\n",
      "  mln, they said.\n",
      "      The decision follows the emergence of structural changes in\n",
      "  Japanese industry following the rise in the value of the yen\n",
      "  and a decline in domestic electric power demand.\n",
      "      MITI is planning to work out a revised energy supply/demand\n",
      "  outlook through deliberations of committee meetings of the\n",
      "  Agency of Natural Resources and Energy, the officials said.\n",
      "      They said MITI will also review the breakdown of energy\n",
      "  supply sources, including oil, nuclear, coal and natural gas.\n",
      "      Nuclear energy provided the bulk of Japan's electric power\n",
      "  in the fiscal year ended March 31, supplying an estimated 27\n",
      "  pct on a kilowatt/hour basis, followed by oil (23 pct) and\n",
      "  liquefied natural gas (21 pct), they noted.\n",
      "  \n",
      "\n",
      "\n",
      "\n",
      "\n",
      "THAI TRADE DEFICIT WIDENS IN FIRST QUARTER\n",
      "  Thailand's trade deficit widened to 4.5\n",
      "  billion baht in the first quarter of 1987 from 2.1 billion a\n",
      "  year ago, the Business Economics Department said.\n",
      "      It said Janunary/March imports rose to 65.1 billion baht\n",
      "  from 58.7 billion. Thailand's improved business climate this\n",
      "  year resulted in a 27 pct increase in imports of raw materials\n",
      "  and semi-finished products.\n",
      "      The country's oil import bill, however, fell 23 pct in the\n",
      "  first quarter due to lower oil prices.\n",
      "      The department said first quarter exports expanded to 60.6\n",
      "  billion baht from 56.6 billion.\n",
      "      Export growth was smaller than expected due to lower\n",
      "  earnings from many key commodities including rice whose\n",
      "  earnings declined 18 pct, maize 66 pct, sugar 45 pct, tin 26\n",
      "  pct and canned pineapples seven pct.\n",
      "      Products registering high export growth were jewellery up\n",
      "  64 pct, clothing 57 pct and rubber 35 pct.\n",
      "  \n",
      "\n",
      "\n",
      "\n",
      "\n",
      "INDONESIA SEES CPO PRICE RISING SHARPLY\n",
      "  Indonesia expects crude palm oil (CPO)\n",
      "  prices to rise sharply to between 450 and 550 dlrs a tonne FOB\n",
      "  sometime this year because of better European demand and a fall\n",
      "  in Malaysian output, Hasrul Harahap, junior minister for tree\n",
      "  crops, told Indonesian reporters.\n",
      "      Prices of Malaysian and Sumatran CPO are now around 332\n",
      "  dlrs a tonne CIF for delivery in Rotterdam, traders said.\n",
      "      Harahap said Indonesia would maintain its exports, despite\n",
      "  making recent palm oil purchases from Malaysia, so that it\n",
      "  could possibly increase its international market share.\n",
      "      Indonesia, the world's second largest producer of palm oil\n",
      "  after Malaysia, has been forced to import palm oil to ensure\n",
      "  supplies during the Moslem fasting month of Ramadan.\n",
      "      Harahap said it was better to import to cover a temporary\n",
      "  shortage than to lose export markets.\n",
      "      Indonesian exports of CPO in calendar 1986 were 530,500\n",
      "  tonnes, against 468,500 in 1985, according to central bank\n",
      "  figures.\n",
      "  \n",
      "\n",
      "\n",
      "\n",
      "\n",
      "AUSTRALIAN FOREIGN SHIP BAN ENDS BUT NSW PORTS HIT\n",
      "  Tug crews in New South Wales (NSW),\n",
      "  Victoria and Western Australia yesterday lifted their ban on\n",
      "  foreign-flag ships carrying containers but NSW ports are still\n",
      "  being disrupted by a separate dispute, shipping sources said.\n",
      "      The ban, imposed a week ago over a pay claim, had prevented\n",
      "  the movement in or out of port of nearly 20 vessels, they said.\n",
      "      The pay dispute went before a hearing of the Arbitration\n",
      "  Commission today.\n",
      "      Meanwhile, disruption began today to cargo handling in the\n",
      "  ports of Sydney, Newcastle and Port Kembla, they said.\n",
      "      The industrial action at the NSW ports is part of the week\n",
      "  of action called by the NSW Trades and Labour Council to\n",
      "  protest changes to the state's workers' compensation laws.\n",
      "      The shipping sources said the various port unions appear to\n",
      "  be taking it in turn to work for a short time at the start of\n",
      "  each shift and then to walk off.\n",
      "      Cargo handling in the ports has been disrupted, with\n",
      "  container movements most affected, but has not stopped\n",
      "  altogether, they said.\n",
      "      They said they could not say how long the disruption will\n",
      "  go on and what effect it will have on shipping movements.\n",
      "  \n",
      "\n",
      "\n",
      "\n",
      "\n",
      "INDONESIAN COMMODITY EXCHANGE MAY EXPAND\n",
      "  The Indonesian Commodity Exchange is\n",
      "  likely to start trading in at least one new commodity, and\n",
      "  possibly two, during calendar 1987, exchange chairman Paian\n",
      "  Nainggolan said.\n",
      "      He told Reuters in a telephone interview that trading in\n",
      "  palm oil, sawn timber, pepper or tobacco was being considered.\n",
      "      Trading in either crude palm oil (CPO) or refined palm oil\n",
      "  may also be introduced. But he said the question was still\n",
      "  being considered by Trade Minister Rachmat Saleh and no\n",
      "  decision on when to go ahead had been made.\n",
      "      The fledgling exchange currently trades coffee and rubber\n",
      "  physicals on an open outcry system four days a week.\n",
      "      \"Several factors make us move cautiously,\" Nainggolan said.\n",
      "  \"We want to move slowly and safely so that we do not make a\n",
      "  mistake and undermine confidence in the exchange.\"\n",
      "      Physical rubber trading was launched in 1985, with coffee\n",
      "  added in January 1986. Rubber contracts are traded FOB, up to\n",
      "  five months forward. Robusta coffee grades four and five are\n",
      "  traded for prompt delivery and up to five months forward,\n",
      "  exchange officials said.\n",
      "      The trade ministry and exchange board are considering the\n",
      "  introduction of futures trading later for rubber, but one\n",
      "  official said a feasibility study was needed first. No\n",
      "  decisions are likely until after Indonesia's elections on April\n",
      "  23, traders said.\n",
      "      Trade Minister Saleh said on Monday that Indonesia, as the\n",
      "  world's second largest producer of natural rubber, should\n",
      "  expand its rubber marketing effort and he hoped development of\n",
      "  the exchange would help this.\n",
      "      Nainggolan said that the exchange was trying to boost\n",
      "  overseas interest by building up contacts with end-users.\n",
      "      He said teams had already been to South Korea and Taiwan to\n",
      "  encourage direct use of the exchange, while a delegation would\n",
      "  also visit Europe, Mexico and some Latin American states to\n",
      "  encourage participation.\n",
      "      Officials say the infant exchange has made a good start\n",
      "  although trading in coffee has been disappointing.\n",
      "      Transactions in rubber between the start of trading in\n",
      "  April 1985 and December 1986 totalled 9,595 tonnes, worth 6.9\n",
      "  mln dlrs FOB, plus 184.3 mln rupiah for rubber delivered\n",
      "  locally, the latest exchange report said.\n",
      "       Trading in coffee in calendar 1986 amounted to only 1,905\n",
      "  tonnes in 381 lots, valued at 6.87 billion rupiah.\n",
      "       Total membership of the exchange is now nine brokers and\n",
      "  44 traders.\n",
      "  \n",
      "\n",
      "\n",
      "\n",
      "\n",
      "SRI LANKA GETS USDA APPROVAL FOR WHEAT PRICE\n",
      "  Food Department officials said the U.S.\n",
      "  Department of Agriculture approved the Continental Grain Co\n",
      "  sale of 52,500 tonnes of soft wheat at 89 U.S. Dlrs a tonne C\n",
      "  and F from Pacific Northwest to Colombo.\n",
      "      They said the shipment was for April 8 to 20 delivery.\n",
      "  \n",
      "\n",
      "\n",
      "\n",
      "\n",
      "WESTERN MINING TO OPEN NEW GOLD MINE IN AUSTRALIA\n",
      "  Western Mining Corp Holdings Ltd\n",
      "  &lt;WMNG.S> (WMC) said it will establish a new joint venture gold\n",
      "  mine in the Northern Territory at a cost of about 21 mln dlrs.\n",
      "      The mine, to be known as the Goodall project, will be owned\n",
      "  60 pct by WMC and 40 pct by a local W.R. Grace and Co &lt;GRA>\n",
      "  unit. It is located 30 kms east of the Adelaide River at Mt.\n",
      "  Bundey, WMC said in a statement\n",
      "      It said the open-pit mine, with a conventional leach\n",
      "  treatment plant, is expected to produce about 50,000 ounces of\n",
      "  gold in its first year of production from mid-1988. Annual ore\n",
      "  capacity will be about 750,000 tonnes.\n",
      "  \n",
      "\n",
      "\n",
      "\n",
      "\n",
      "SUMITOMO BANK AIMS AT QUICK RECOVERY FROM MERGER\n",
      "  Sumitomo Bank Ltd &lt;SUMI.T> is certain to\n",
      "  lose its status as Japan's most profitable bank as a result of\n",
      "  its merger with the Heiwa Sogo Bank, financial analysts said.\n",
      "      Osaka-based Sumitomo, with desposits of around 23.9\n",
      "  trillion yen, merged with Heiwa Sogo, a small, struggling bank\n",
      "  with an estimated 1.29 billion dlrs in unrecoverable loans, in\n",
      "  October.\n",
      "      But despite the link-up, Sumitomo President Koh Komatsu\n",
      "  told Reuters he is confident his bank can quickly regain its\n",
      "  position.\n",
      "      \"We'll be back in position in first place within three\n",
      "  years,\" Komatsu said in an interview.\n",
      "      He said that while the merger will initially reduce\n",
      "  Sumitomo's profitability and efficiency, it will vastly expand\n",
      "  Sumitomo's branch network in the Tokyo metropolitan area where\n",
      "  it has been relatively weak.\n",
      "      But financial analysts are divided on whether and how\n",
      "  quickly the gamble will pay off.\n",
      "      Some said Sumitomo may have paid too much for Heiwa Sogo in\n",
      "  view of the smaller bank's large debts. Others argue the merger\n",
      "  was more cost effective than creating a comparable branch\n",
      "  network from scratch.\n",
      "      The analysts agreed the bank was aggressive. It has\n",
      "  expanded overseas, entered the lucrative securities business\n",
      "  and geared up for domestic competition, but they questioned the\n",
      "  wisdom of some of those moves.\n",
      "      \"They've made bold moves to put everything in place. Now\n",
      "  it's largely out of their hands,\" said Kleinwort Benson Ltd\n",
      "  financial analyst Simon Smithson.\n",
      "      Among Sumitomo's problems are limits placed on its move to\n",
      "  enter U.S. Securities business by taking a share in American\n",
      "  investment bank Goldman, Sachs and Co.\n",
      "      Sumitomo last August agreed to pay 500 mln dlrs for a 12.5\n",
      "  pct limited partnership in the bank, but for the time being at\n",
      "  least, the Federal Reserve Board has forbidden them to exchange\n",
      "  personnel, or increase the business they do with each other.\n",
      "      \"The tie-up is widely looked on as a lame duck because the\n",
      "  Fed was stricter than Sumitomo expected,\" said one analyst.\n",
      "      But Komatsu said the move will pay off in time.\n",
      "      \"U.S. Regulations will change in the near future and if so,\n",
      "  we can do various things. We only have to wait two or three\n",
      "  years, not until the 21st century,\" Komatsu said.\n",
      "      Komatsu is also willing to be patient about possible routes\n",
      "  into the securities business at home.\n",
      "      Article 65 of the Securities and Exchange Act, Japan's\n",
      "  version of the U.S. Glass-Steagall Act, separates commercial\n",
      "  from investment banking.\n",
      "      But the walls between the two are crumbling and Komatsu\n",
      "  said he hopes further deregulation will create new\n",
      "  opportunities.\n",
      "      \"We need to find new business chances,\" Komatsu said. \"In some\n",
      "  cases these will be securities related, in some cases trust\n",
      "  bank related. That's the kind of deregulation we want.\"\n",
      "      Until such changes occur, Sumitomo will focus on such\n",
      "  domestic securities business as profitable government bond\n",
      "  dealing and strengthening relations with Meiko Securities Co\n",
      "  Ltd, in which it holds a five pct share, Komatsu said.\n",
      "      He said Sumitomo is cautiously optimistic about entering\n",
      "  the securities business here through its Swiss universal bank\n",
      "  subsidiary, Banca del Gottardo.\n",
      "       The Finance Ministry is expected to grant licences to\n",
      "  securities subsidiaries of U.S. Commercial banks soon,\n",
      "  following a similar decision for subsidiaries of European\n",
      "  universal banks in which the parent holds a less than 50 pct.\n",
      "      But Komatsu is reluctant to push hard for a similar\n",
      "  decision on a Gottardo subsidiary.\n",
      "      \"We don't want to make waves. We expect this will be allowed\n",
      "  in two or three years,\" he said.\n",
      "      Like other city banks, Sumitomo is also pushing to expand\n",
      "  lending to individuals and small and medium businesses to\n",
      "  replace disappearing demand from big business, he added.\n",
      "      The analysts said Sumitomo will have to devote a lot of\n",
      "  time to digesting its most recent initiatives, including the\n",
      "  merger with ailing Heiwa Sogo.\n",
      "      \"It's (Sumitomo) been bold in its strategies,\" said\n",
      "  Kleinwort's Smithson.\n",
      "      \"After that, it's a question of absorbing and juggling\n",
      "  around. It will be the next decade before we see if the\n",
      "  strategy is right or wrong.\"\n",
      "  \n",
      "\n",
      "\n",
      "\n",
      "\n"
     ]
    }
   ],
   "source": [
    "# Sample view of data\n",
    "top_10_documents = filenames[0:10]\n",
    "for filename in top_10_documents:\n",
    "    sample_document = reuters.raw(filename)\n",
    "    print(sample_document)\n",
    "    print('\\n')"
   ],
   "metadata": {
    "collapsed": false,
    "ExecuteTime": {
     "end_time": "2024-01-04T19:23:43.522037800Z",
     "start_time": "2024-01-04T19:23:43.502440200Z"
    }
   }
  },
  {
   "cell_type": "code",
   "execution_count": 7,
   "metadata": {
    "colab": {
     "base_uri": "https://localhost:8080/"
    },
    "id": "rHMXT7vMJq4V",
    "outputId": "922427bf-2fb8-4e73-8d6c-4a772a32eb94",
    "ExecuteTime": {
     "end_time": "2024-01-04T19:24:07.548314100Z",
     "start_time": "2024-01-04T19:23:43.820385700Z"
    }
   },
   "outputs": [
    {
     "name": "stdout",
     "output_type": "stream",
     "text": [
      "Before stemming:\n",
      "['ASIAN', 'EXPORTERS', 'FEAR', 'DAMAGE', 'FROM', 'U', '.', 'S', '.-', 'JAPAN', 'RIFT', 'Mounting', 'trade', 'friction', 'between', 'the', 'U', '.', 'S', '.']\n",
      "\n",
      "After stemming:\n",
      "['asian', 'export', 'fear', 'damag', 'from', 'u', '.', 's', '.-', 'japan', 'rift', 'mount', 'trade', 'friction', 'between', 'the', 'u', '.', 's', '.']\n",
      "\n",
      "Before stemming count:\n",
      "41599\n",
      "\n",
      "After stemming count:\n",
      "23510\n"
     ]
    }
   ],
   "source": [
    "corpus = reuters.sents()\n",
    "\n",
    "# Tokenize the corpus\n",
    "tokens = [token for sentence in corpus for token in sentence]\n",
    "\n",
    "ps = PorterStemmer()\n",
    "\n",
    "stemmed_words = [ps.stem(word) for word in tokens]\n",
    "\n",
    "print(\"Before stemming:\")\n",
    "print(tokens[:20])\n",
    "\n",
    "print(\"\\nAfter stemming:\")\n",
    "print(stemmed_words[:20])\n",
    "\n",
    "print(\"\\nBefore stemming count:\")\n",
    "print(len(set(tokens)))\n",
    "\n",
    "print(\"\\nAfter stemming count:\")\n",
    "print(len(set(stemmed_words)))\n"
   ]
  },
  {
   "cell_type": "markdown",
   "source": [
    "**Discuss how stemming impacts the construction of an inverted index.**\n",
    "\n",
    "Stemming refers to a crude heuristic process that chops\n",
    "off the ends of words and removes the derivational\n",
    "affixes. It commonly collapses derivationally related words\n",
    "\n",
    "\n",
    "\n",
    "*   Stemming reduces the total number of words in the vocabulary leading to reduced size of inverted index. As depicted in the above example, stemming has resulted in **50% reduction** of indexes\n",
    "*   It helps to identify documents more effectively. Example. If user searches for the word 'compute', search would be able to retrieve documents containing compute, computer, compuational, computing, computed etc\n",
    "*   There is a possibility that words are grouped wrongly. Example. relative and relativity are stemmed to 'rel', even though both words have very different meaning.\n",
    "*   Stemming aims to increase recall, but can potentially cause drop in precision.\n",
    "*   Stemming causes overload due to increased processing time and effort.\n",
    "\n",
    "\n",
    "\n"
   ],
   "metadata": {
    "collapsed": false
   }
  },
  {
   "cell_type": "code",
   "execution_count": 8,
   "metadata": {
    "colab": {
     "base_uri": "https://localhost:8080/"
    },
    "id": "OkNRYKa6Yynz",
    "outputId": "b7253027-3847-4432-d513-49a1d3132131",
    "ExecuteTime": {
     "end_time": "2024-01-04T19:24:07.608241100Z",
     "start_time": "2024-01-04T19:24:07.552404200Z"
    }
   },
   "outputs": [
    {
     "name": "stdout",
     "output_type": "stream",
     "text": [
      "relative is stemmed to rel and relativity is also stemmed to rel\n"
     ]
    }
   ],
   "source": [
    "ps = PorterStemmer()\n",
    "a = ps.stem('relative')\n",
    "b = ps.stem('relativity')\n",
    "print(f'relative is stemmed to {a} and relativity is also stemmed to {b}')"
   ]
  },
  {
   "cell_type": "code",
   "execution_count": 9,
   "metadata": {
    "colab": {
     "base_uri": "https://localhost:8080/"
    },
    "id": "3f8ZCcZIbZSf",
    "outputId": "ff01c62b-4ee2-410d-b203-43ec0c30a5e9",
    "ExecuteTime": {
     "end_time": "2024-01-04T19:24:07.619901700Z",
     "start_time": "2024-01-04T19:24:07.566755Z"
    }
   },
   "outputs": [
    {
     "name": "stdout",
     "output_type": "stream",
     "text": [
      "compute is stemmed to comput and computer is stemmed to comput \n",
      " and computational is stemmed to comput and computing is stemmed to comput and computed is also stemmed to comput\n"
     ]
    }
   ],
   "source": [
    "ps = PorterStemmer()\n",
    "a = ps.stem('compute')\n",
    "b = ps.stem('computer')\n",
    "c = ps.stem('computational')\n",
    "d = ps.stem('computing')\n",
    "e = ps.stem('computed')\n",
    "print(f'compute is stemmed to {a} and computer is stemmed to {b} \\n and computational is stemmed to {c} and computing is stemmed to {d} and computed is also stemmed to {e}')"
   ]
  },
  {
   "cell_type": "markdown",
   "metadata": {
    "id": "gxcNkbmn4KSg"
   },
   "source": [
    "b) Write a Python function that calculates term frequency and document frequency for a given term in an inverted index using the selected dataset. Discuss the significance of these metrics in the context of information retrieval."
   ]
  },
  {
   "cell_type": "code",
   "execution_count": 10,
   "metadata": {
    "ExecuteTime": {
     "end_time": "2024-01-04T19:24:07.619901700Z",
     "start_time": "2024-01-04T19:24:07.582019900Z"
    }
   },
   "outputs": [
    {
     "name": "stdout",
     "output_type": "stream",
     "text": [
      "['test/14826', 'test/14828', 'test/14829', 'test/14832', 'test/14833']\n"
     ]
    }
   ],
   "source": [
    "# list of documents or doc id\n",
    "filenames = reuters.fileids()\n",
    "print(filenames[:5], sep=' ')"
   ]
  },
  {
   "cell_type": "code",
   "execution_count": 11,
   "outputs": [],
   "source": [
    "# method to add term index to the inverted index\n",
    "def addToIndex(terms, filename):\n",
    "    for term in terms:\n",
    "        if term not in inverted_index:\n",
    "            inverted_index[term] = set()  # Using a set to store positions\n",
    "        tf = calculate_tf(term, terms) # calculate term frequency\n",
    "        inverted_index[term].add((filename, tf)) # add both filename AND tf for every index\n",
    "\n",
    "\n",
    "# method to calculate document frequency\n",
    "def calculate_df(inverted_index, term):\n",
    "    df = len(inverted_index.get(term))\n",
    "    return df\n",
    "\n",
    "\n",
    "# method to calculate term frequency\n",
    "def calculate_tf(term, stemmed_words_):\n",
    "    tf_dict = {}\n",
    "    # doc = reuters.raw(filename)\n",
    "    # words = word_tokenize(doc)\n",
    "    # stemmed_words = [ps.stem(word) for word in words]\n",
    "\n",
    "    # directly passing stemmed words list as its already calculated\n",
    "    for word in stemmed_words_:\n",
    "        tf_dict[word] = tf_dict.get(word, 0) + 1\n",
    "    return tf_dict[term]\n",
    "\n",
    "\n",
    "# fetch the term frequency for particular term\n",
    "def get_term_frequency(term, doc_id):\n",
    "    for idx in inverted_index[term]:\n",
    "        if(idx[0]==doc_id):\n",
    "            return idx[1]\n",
    "\n"
   ],
   "metadata": {
    "collapsed": false,
    "ExecuteTime": {
     "end_time": "2024-01-04T19:24:07.685890300Z",
     "start_time": "2024-01-04T19:24:07.608241100Z"
    }
   }
  },
  {
   "cell_type": "code",
   "execution_count": 12,
   "metadata": {
    "colab": {
     "base_uri": "https://localhost:8080/"
    },
    "id": "65PIPj5Xf0ij",
    "outputId": "c4b6531f-81dd-4bb3-c1d2-4c9b98bf5664",
    "scrolled": true,
    "ExecuteTime": {
     "end_time": "2024-01-04T19:24:16.132826300Z",
     "start_time": "2024-01-04T19:24:07.643867400Z"
    }
   },
   "outputs": [],
   "source": [
    "# defining inverted index data structure\n",
    "inverted_index = {}   # {term : set((doc_id, tf))}  # term as key, set of tuples as value. tuple: doc_id, tf\n",
    "\n",
    "# to save computation we have only created inverted index for 100 documents.\n",
    "top_1000_documents = filenames[0:1000]\n",
    "for filename in top_1000_documents:\n",
    "  sample_document = reuters.raw(filename)\n",
    "  words = word_tokenize(sample_document)  # tokenising given doc\n",
    "  stemmed_words = [ps.stem(word) for word in words]  # stemming given doc\n",
    "  addToIndex(stemmed_words, filename) # adding token to inverted index\n",
    "\n"
   ]
  },
  {
   "cell_type": "markdown",
   "metadata": {},
   "source": [
    "# Output of Inverted Index after computing above cell"
   ]
  },
  {
   "attachments": {
    "MicrosoftTeams-image%20%2810%29.png": {
     "image/png": "[encoded data removed]"
    }
   },
   "cell_type": "markdown",
   "metadata": {},
   "source": [
    "![MicrosoftTeams-image%20%2810%29.png](attachment:MicrosoftTeams-image%20%2810%29.png)"
   ]
  },
  {
   "cell_type": "code",
   "execution_count": 13,
   "metadata": {
    "ExecuteTime": {
     "end_time": "2024-01-04T19:24:16.148436300Z",
     "start_time": "2024-01-04T19:24:16.134829900Z"
    }
   },
   "outputs": [
    {
     "name": "stdout",
     "output_type": "stream",
     "text": [
      "asian --> {('test/14826', 2)}\n",
      "\n",
      "\n",
      "export --> {('test/15840', 5), ('test/15313', 4), ('test/15556', 1), ('test/15895', 2), ('test/15618', 2), ('test/15725', 4), ('test/15017', 2), ('test/16097', 2), ('test/16564', 2), ('test/16071', 1), ('test/14832', 3), ('test/14858', 4), ('test/15648', 2), ('test/14826', 11), ('test/15154', 1), ('test/15922', 4), ('test/16525', 6), ('test/15063', 2), ('test/16009', 1), ('test/14891', 1), ('test/14882', 5), ('test/16118', 2), ('test/16158', 5), ('test/15999', 1), ('test/16256', 1), ('test/16201', 1), ('test/15500', 4), ('test/15853', 11), ('test/14988', 3), ('test/15903', 2), ('test/16505', 2), ('test/15357', 2), ('test/15923', 5), ('test/14881', 1), ('test/15921', 5), ('test/14909', 1), ('test/16442', 2), ('test/14923', 1), ('test/16126', 6), ('test/15864', 5), ('test/15386', 1), ('test/15953', 1), ('test/15871', 12), ('test/16316', 2), ('test/15656', 1), ('test/16196', 4), ('test/15368', 2), ('test/15198', 3), ('test/15904', 2), ('test/15095', 2), ('test/15870', 2), ('test/14903', 1), ('test/16279', 1), ('test/15927', 3), ('test/16088', 1), ('test/15928', 2), ('test/15549', 1), ('test/16108', 1), ('test/15916', 3), ('test/15409', 1), ('test/15394', 3), ('test/16197', 1), ('test/15877', 3), ('test/16190', 4), ('test/14931', 3), ('test/15906', 16), ('test/14912', 1), ('test/16555', 1), ('test/15262', 2), ('test/16499', 2), ('test/16079', 6), ('test/15866', 2), ('test/16125', 1), ('test/15649', 2), ('test/15290', 1), ('test/16139', 5), ('test/16366', 2), ('test/15868', 2), ('test/16012', 1), ('test/15737', 5), ('test/15751', 1), ('test/15424', 2), ('test/15925', 5), ('test/16144', 1), ('test/16433', 1), ('test/16257', 2), ('test/15875', 13), ('test/15653', 4), ('test/15798', 10), ('test/16080', 1), ('test/14833', 3), ('test/15676', 2), ('test/15865', 2), ('test/15874', 2), ('test/15450', 1), ('test/15227', 2), ('test/15914', 8), ('test/15573', 1), ('test/15246', 1), ('test/16495', 1), ('test/15856', 1), ('test/15551', 2), ('test/15430', 1), ('test/15132', 4), ('test/15271', 3), ('test/15910', 7), ('test/15917', 2), ('test/15890', 4), ('test/15911', 2), ('test/15975', 2), ('test/16052', 1), ('test/14862', 2)}\n",
      "\n",
      "\n",
      "fear --> {('test/16161', 1), ('test/15310', 1), ('test/15620', 1), ('test/16162', 1), ('test/16200', 2), ('test/16009', 1), ('test/15043', 4), ('test/16072', 1), ('test/14826', 2), ('test/16268', 1), ('test/15551', 1)}\n",
      "\n",
      "\n",
      "damag --> {('test/16099', 4), ('test/14982', 1), ('test/14892', 1), ('test/16112', 1), ('test/16077', 1), ('test/16158', 1), ('test/14826', 2), ('test/14931', 2), ('test/15932', 2), ('test/15451', 2), ('test/15675', 2), ('test/15303', 1), ('test/15988', 2), ('test/15043', 2)}\n",
      "\n",
      "\n",
      "from --> {('test/15639', 5), ('test/15742', 3), ('test/14859', 1), ('test/15451', 3), ('test/16490', 1), ('test/14907', 1), ('test/16097', 2), ('test/16006', 2), ('test/16366', 1), ('test/16238', 2), ('test/15686', 1), ('test/16587', 1), ('test/15951', 1), ('test/16197', 7), ('test/16080', 3), ('test/15913', 2), ('test/14873', 1), ('test/16075', 1), ('test/16444', 1), ('test/14921', 3), ('test/16118', 2), ('test/16415', 1), ('test/15636', 1), ('test/16108', 2), ('test/15421', 1), ('test/14931', 1), ('test/15847', 2), ('test/14881', 1), ('test/15476', 1), ('test/16257', 1), ('test/15417', 1), ('test/14930', 3), ('test/15029', 1), ('test/14829', 1), ('test/15703', 1), ('test/15450', 2), ('test/15287', 3), ('test/16298', 2), ('test/16488', 1), ('test/16190', 2), ('test/16216', 2), ('test/15558', 1), ('test/16429', 1), ('test/16492', 1), ('test/15643', 1), ('test/15674', 5), ('test/16285', 1), ('test/16359', 1), ('test/15485', 2), ('test/16252', 2), ('test/15932', 2), ('test/16327', 1), ('test/15949', 2), ('test/16099', 3), ('test/16139', 3), ('test/15325', 7), ('test/15290', 1), ('test/16030', 3), ('test/14833', 1), ('test/16022', 2), ('test/15793', 4), ('test/15067', 1), ('test/16147', 6), ('test/15049', 2), ('test/16002', 2), ('test/15855', 2), ('test/16123', 2), ('test/15549', 5), ('test/16590', 2), ('test/16126', 1), ('test/15271', 1), ('test/15988', 2), ('test/15454', 1), ('test/15357', 1), ('test/15841', 1), ('test/16103', 2), ('test/15230', 2), ('test/15352', 3), ('test/15308', 1), ('test/15574', 1), ('test/15620', 1), ('test/15094', 3), ('test/15798', 5), ('test/15055', 2), ('test/15861', 1), ('test/15737', 2), ('test/15726', 2), ('test/16148', 2), ('test/15322', 1), ('test/15110', 2), ('test/16427', 2), ('test/15306', 1), ('test/16574', 1), ('test/16443', 2), ('test/15364', 2), ('test/16564', 2), ('test/14858', 4), ('test/15694', 1), ('test/15556', 3), ('test/15691', 2), ('test/16278', 2), ('test/15552', 2), ('test/16161', 4), ('test/14982', 3), ('test/16213', 2), ('test/14890', 6), ('test/15365', 4), ('test/15363', 1), ('test/15335', 1), ('test/15263', 4), ('test/15975', 1), ('test/16119', 2), ('test/15396', 1), ('test/15581', 1), ('test/14909', 1), ('test/16068', 1), ('test/15198', 1), ('test/16094', 5), ('test/15804', 2), ('test/16369', 2), ('test/14849', 2), ('test/14842', 1), ('test/16145', 2), ('test/16140', 3), ('test/14882', 2), ('test/16093', 2), ('test/15605', 4), ('test/15024', 1), ('test/14872', 5), ('test/15449', 2), ('test/16096', 2), ('test/15713', 2), ('test/16215', 3), ('test/15893', 1), ('test/15292', 1), ('test/16146', 3), ('test/16577', 3), ('test/16307', 6), ('test/15045', 2), ('test/15226', 2), ('test/15296', 1), ('test/15489', 1), ('test/15455', 1), ('test/15211', 1), ('test/15111', 1), ('test/15011', 2), ('test/16144', 1), ('test/16402', 3), ('test/16171', 6), ('test/16005', 4), ('test/16236', 1), ('test/16195', 2), ('test/15106', 3), ('test/15063', 3), ('test/15189', 2), ('test/15239', 1), ('test/15246', 1), ('test/16053', 3), ('test/15413', 6), ('test/15276', 2), ('test/16007', 1), ('test/15817', 1), ('test/14949', 1), ('test/16196', 1), ('test/15625', 8), ('test/15394', 2), ('test/16399', 3), ('test/15438', 2), ('test/15782', 1), ('test/16251', 2), ('test/16150', 3), ('test/15985', 1), ('test/16265', 1), ('test/15093', 1), ('test/16483', 3), ('test/15220', 1), ('test/15447', 2), ('test/15460', 2), ('test/15995', 1), ('test/15600', 1), ('test/16266', 2), ('test/16158', 3), ('test/16071', 3), ('test/15444', 3), ('test/15503', 1), ('test/16179', 3), ('test/16241', 1), ('test/16336', 5), ('test/16079', 2), ('test/15313', 1), ('test/15384', 3), ('test/14993', 2), ('test/15273', 1), ('test/15274', 1), ('test/16226', 3), ('test/16270', 2), ('test/14928', 4), ('test/15400', 1), ('test/15213', 3), ('test/15899', 1), ('test/16434', 5), ('test/15103', 10), ('test/15667', 1), ('test/16130', 3), ('test/16176', 3), ('test/16052', 2), ('test/15545', 1), ('test/15146', 1), ('test/15162', 1), ('test/15598', 2), ('test/16304', 1), ('test/16570', 1), ('test/14862', 5), ('test/15219', 1), ('test/15389', 2), ('test/15200', 1), ('test/14843', 4), ('test/15851', 1), ('test/15351', 10), ('test/15729', 1), ('test/15145', 1), ('test/15696', 2), ('test/15494', 1), ('test/14912', 1), ('test/16098', 1), ('test/15462', 1), ('test/15372', 1), ('test/15816', 1), ('test/16264', 6), ('test/16149', 1), ('test/15800', 1), ('test/16316', 1), ('test/14967', 1), ('test/14826', 3), ('test/15575', 1), ('test/16233', 1), ('test/15238', 2), ('test/16312', 1), ('test/15367', 1), ('test/15624', 1), ('test/16023', 4), ('test/16332', 1), ('test/16407', 1), ('test/16481', 4), ('test/15442', 2), ('test/15234', 1), ('test/15596', 1), ('test/15551', 2), ('test/16405', 1), ('test/15987', 2), ('test/16565', 1), ('test/15821', 1), ('test/15916', 2), ('test/14900', 2), ('test/14926', 1), ('test/15989', 3), ('test/16585', 1), ('test/16009', 4), ('test/16432', 1), ('test/16454', 1), ('test/15568', 1), ('test/16180', 2), ('test/15501', 1), ('test/16319', 1), ('test/15149', 2), ('test/14933', 2), ('test/15967', 1), ('test/16107', 2), ('test/14919', 1), ('test/15056', 1), ('test/15582', 3), ('test/15567', 1), ('test/15410', 3), ('test/16117', 1), ('test/15543', 1), ('test/16421', 1), ('test/15368', 3), ('test/16111', 3), ('test/16449', 1), ('test/15031', 1), ('test/16370', 1), ('test/14863', 1), ('test/15424', 3), ('test/14891', 1), ('test/15161', 1), ('test/16177', 1), ('test/15550', 1), ('test/16086', 1), ('test/15840', 2), ('test/15727', 1), ('test/15939', 1), ('test/15107', 2), ('test/15871', 1), ('test/15240', 2), ('test/14959', 1), ('test/14922', 2), ('test/15386', 1), ('test/15511', 1), ('test/16091', 1), ('test/16155', 1), ('test/16284', 1), ('test/15956', 1), ('test/15254', 1), ('test/15264', 1), ('test/16072', 1), ('test/15927', 1), ('test/14892', 2), ('test/15179', 3), ('test/16189', 3), ('test/16200', 2), ('test/15692', 1), ('test/15725', 1), ('test/15762', 3), ('test/16277', 1), ('test/15033', 1), ('test/14841', 1), ('test/16185', 1), ('test/15886', 1), ('test/15043', 1), ('test/16525', 3), ('test/15244', 2), ('test/16420', 1), ('test/16430', 1), ('test/16074', 2), ('test/16343', 3), ('test/16095', 5), ('test/16357', 5), ('test/16367', 9), ('test/15751', 1), ('test/15416', 1), ('test/14832', 4), ('test/15602', 1), ('test/16589', 1), ('test/16496', 3), ('test/15510', 1), ('test/15655', 1), ('test/14941', 1), ('test/15531', 11), ('test/16478', 1), ('test/16163', 3), ('test/15641', 1), ('test/16162', 2), ('test/16256', 2), ('test/15878', 2), ('test/15733', 1), ('test/16136', 1), ('test/16225', 1), ('test/16513', 2), ('test/15539', 3)}\n",
      "\n",
      "\n"
     ]
    }
   ],
   "source": [
    "# Displaying first 10 inverted index of words\n",
    "n = 5 # number of terms to check inverted index for\n",
    "top_n_inverted_index = {k: inverted_index[k] for k in list(inverted_index)[:n]}\n",
    "for x, y in top_n_inverted_index.items():\n",
    "    print(x, '-->', y)\n",
    "    print('\\n')"
   ]
  },
  {
   "cell_type": "code",
   "execution_count": 14,
   "metadata": {
    "ExecuteTime": {
     "end_time": "2024-01-04T19:24:16.207459200Z",
     "start_time": "2024-01-04T19:24:16.148436300Z"
    }
   },
   "outputs": [
    {
     "name": "stdout",
     "output_type": "stream",
     "text": [
      "Term Frequency for the word term --> 'trade' in doc 'test/14840'\n",
      "14\n",
      "Document Frequency for the word term --> 'trade'\n",
      "152\n"
     ]
    }
   ],
   "source": [
    "# to get term frequency of particular token for given doc id\n",
    "doc_id = 'test/14840'\n",
    "word_term = 'trade'\n",
    "print(f\"Term Frequency for the word term --> '{word_term}' in doc '{doc_id}'\")\n",
    "print(get_term_frequency(word_term, doc_id))\n",
    "print(f\"Document Frequency for the word term --> '{word_term}'\")\n",
    "print(calculate_df(inverted_index, word_term))"
   ]
  },
  {
   "cell_type": "code",
   "execution_count": 15,
   "outputs": [
    {
     "name": "stdout",
     "output_type": "stream",
     "text": [
      "Term Frequency for the word term --> 'damag' in doc 'test/16099'\n",
      "4\n",
      "Document Frequency for the word term --> 'damag'\n",
      "14\n"
     ]
    }
   ],
   "source": [
    "doc_id = 'test/16099'\n",
    "word_term = 'damag'\n",
    "print(f\"Term Frequency for the word term --> '{word_term}' in doc '{doc_id}'\")\n",
    "print(get_term_frequency(word_term, doc_id))\n",
    "print(f\"Document Frequency for the word term --> '{word_term}'\")\n",
    "print(calculate_df(inverted_index, word_term))"
   ],
   "metadata": {
    "collapsed": false,
    "ExecuteTime": {
     "end_time": "2024-01-04T19:24:16.211106Z",
     "start_time": "2024-01-04T19:24:16.165876100Z"
    }
   }
  },
  {
   "cell_type": "markdown",
   "metadata": {
    "id": "JFRJU6bc4OLM"
   },
   "source": [
    "**Discuss the significance of these metrics in the context of information retrieval.**\n",
    "\n",
    "Term Frequency (TF): It measures how often a term appears in a document. In the context of an inverted index, it helps in ranking documents based on their relevance to a search query. Higher TF indicates that the term is more significant within the document.\n",
    "\n",
    "Document Frequency (DF): It counts how many documents contain a particular term. In information retrieval, DF helps in assessing the importance of a term across the entire corpus. Terms with higher DF but moderate TF may have greater discriminative power in distinguishing documents.\n",
    "\n",
    "In the example above, the document frequency indicates that the term \"damag\" appears in 14 different documents throughout the corpus. The term frequency shows how many times the term \"damag\" occurs within each specific document.\n",
    "\n",
    "These metrics are crucial in ranking documents and terms for information retrieval systems, search engines, and relevance-based ranking algorithms by assessing the importance of terms within documents and across the entire corpus.\n",
    "\n",
    "Balancing these metrics helps in improving search accuracy by ensuring that retrieved documents are not only relevant but also contain the query terms sufficiently often to be considered significant."
   ]
  },
  {
   "cell_type": "code",
   "execution_count": 12,
   "outputs": [],
   "source": [],
   "metadata": {
    "collapsed": false,
    "ExecuteTime": {
     "end_time": "2024-01-04T19:22:16.387740500Z",
     "start_time": "2024-01-04T19:22:16.335909700Z"
    }
   }
  }
 ],
 "metadata": {
  "colab": {
   "provenance": []
  },
  "kernelspec": {
   "name": "python3",
   "language": "python",
   "display_name": "Python 3 (ipykernel)"
  },
  "language_info": {
   "codemirror_mode": {
    "name": "ipython",
    "version": 3
   },
   "file_extension": ".py",
   "mimetype": "text/x-python",
   "name": "python",
   "nbconvert_exporter": "python",
   "pygments_lexer": "ipython3",
   "version": "3.10.13"
  }
 },
 "nbformat": 4,
 "nbformat_minor": 1
}
