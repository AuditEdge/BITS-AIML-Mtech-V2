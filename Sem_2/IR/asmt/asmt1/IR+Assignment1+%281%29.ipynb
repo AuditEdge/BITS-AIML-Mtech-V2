{
 "cells": [
  {
   "cell_type": "code",
   "execution_count": 1,
   "metadata": {
    "colab": {
     "base_uri": "https://localhost:8080/"
    },
    "id": "ztPnekJ8JheM",
    "outputId": "fa400abc-8ae3-4b8e-c5b2-d6945bb4e961"
   },
   "outputs": [
    {
     "name": "stderr",
     "output_type": "stream",
     "text": [
      "[nltk_data] Downloading package reuters to /home/ec2-user/nltk_data...\n",
      "[nltk_data]   Package reuters is already up-to-date!\n",
      "[nltk_data] Downloading package punkt to /home/ec2-user/nltk_data...\n",
      "[nltk_data]   Package punkt is already up-to-date!\n"
     ]
    }
   ],
   "source": [
    "import nltk\n",
    "import random\n",
    "nltk.download('reuters')\n",
    "nltk.download('punkt')\n",
    "from nltk.corpus import reuters\n",
    "from nltk.tokenize import word_tokenize\n",
    "from nltk import bigrams, FreqDist, ConditionalFreqDist\n",
    "from nltk.stem import PorterStemmer, WordNetLemmatizer\n"
   ]
  },
  {
   "cell_type": "markdown",
   "metadata": {
    "id": "184oTFkB3ux0"
   },
   "source": [
    "A) Search for a fitting open-source dataset or document collection for analyzing the impact of stemming on an inverted index.\n",
    "\n",
    "      I am using dataset available from nltk reuters for the assignment.\n",
    "      \n",
    "      Reuters provides corpus of text documents which can be used to experiment stemming and build inverted index"
   ]
  },
  {
   "cell_type": "markdown",
   "metadata": {
    "id": "VITUnhiS4AnA"
   },
   "source": [
    "B) a) Create a Python function that applies stemming to a set of words from the chosen dataset. Provide examples before and after stemming. Discuss how stemming impacts the construction of an inverted index."
   ]
  },
  {
   "cell_type": "code",
   "execution_count": 2,
   "metadata": {
    "colab": {
     "base_uri": "https://localhost:8080/"
    },
    "id": "rHMXT7vMJq4V",
    "outputId": "922427bf-2fb8-4e73-8d6c-4a772a32eb94"
   },
   "outputs": [
    {
     "name": "stdout",
     "output_type": "stream",
     "text": [
      "Before stemming:\n",
      "['ASIAN', 'EXPORTERS', 'FEAR', 'DAMAGE', 'FROM', 'U', '.', 'S', '.-', 'JAPAN', 'RIFT', 'Mounting', 'trade', 'friction', 'between', 'the', 'U', '.', 'S', '.']\n",
      "\n",
      "After stemming:\n",
      "['asian', 'export', 'fear', 'damag', 'from', 'u', '.', 's', '.-', 'japan', 'rift', 'mount', 'trade', 'friction', 'between', 'the', 'u', '.', 's', '.']\n",
      "\n",
      "Before stemming count:\n",
      "41599\n",
      "\n",
      "After stemming count:\n",
      "23510\n"
     ]
    }
   ],
   "source": [
    "\n",
    "# Tokenize the corpus\n",
    "corpus = reuters.sents()\n",
    "\n",
    "tokens = [token for sentence in corpus for token in sentence]\n",
    "\n",
    "ps = PorterStemmer()\n",
    "\n",
    "stemmed_words = [ps.stem(word) for word in tokens]\n",
    "\n",
    "print(\"Before stemming:\")\n",
    "print(tokens[:20])\n",
    "\n",
    "print(\"\\nAfter stemming:\")\n",
    "print(stemmed_words[:20])\n",
    "\n",
    "print(\"\\nBefore stemming count:\")\n",
    "print(len(set(tokens)))\n",
    "\n",
    "print(\"\\nAfter stemming count:\")\n",
    "print(len(set(stemmed_words)))\n"
   ]
  },
  {
   "cell_type": "markdown",
   "metadata": {
    "id": "7tfPJEVPXVQi"
   },
   "source": [
    "**Discuss how stemming impacts the construction of an inverted index.**\n",
    "\n",
    "Stemming refers to a crude heuristic process that chops\n",
    "off the ends of words and removes the derivational\n",
    "affixes. It commonly collapses derivationally related words\n",
    "\n",
    "\n",
    "\n",
    "*   Stemming reduces the total number of words in the vocabulary leading to reduced size of inverted index. As depicted in the above example, stemming has resulted in **50% reduction** of indexes\n",
    "*   It helps to identify documents more effectively. Example. If user searches for the word 'compute', search would be able to retrieve documents containing compute, computer, compuational, computing, computed etc\n",
    "*   There is a possibility that words are grouped wrongly. Example. relative and relativity are stemmed to 'rel', even though both words have very different meaning.\n",
    "*   Stemming aims to increase recall, but can potentially cause drop in precision.\n",
    "*   Stemming causes overload due to increased processing time and effort.\n",
    "\n",
    "\n",
    "\n"
   ]
  },
  {
   "cell_type": "code",
   "execution_count": 3,
   "metadata": {
    "colab": {
     "base_uri": "https://localhost:8080/"
    },
    "id": "OkNRYKa6Yynz",
    "outputId": "b7253027-3847-4432-d513-49a1d3132131"
   },
   "outputs": [
    {
     "name": "stdout",
     "output_type": "stream",
     "text": [
      "relative is stemmed to rel and relativity is also stemmed to rel\n"
     ]
    }
   ],
   "source": [
    "ps = PorterStemmer()\n",
    "a = ps.stem('relative')\n",
    "b = ps.stem('relativity')\n",
    "print(f'relative is stemmed to {a} and relativity is also stemmed to {b}')"
   ]
  },
  {
   "cell_type": "code",
   "execution_count": 4,
   "metadata": {
    "colab": {
     "base_uri": "https://localhost:8080/"
    },
    "id": "3f8ZCcZIbZSf",
    "outputId": "ff01c62b-4ee2-410d-b203-43ec0c30a5e9"
   },
   "outputs": [
    {
     "name": "stdout",
     "output_type": "stream",
     "text": [
      "compute is stemmed to comput and computer is stemmed to comput \n",
      " and computational is stemmed to comput and computing is stemmed to comput and computed is also stemmed to comput\n"
     ]
    }
   ],
   "source": [
    "ps = PorterStemmer()\n",
    "a = ps.stem('compute')\n",
    "b = ps.stem('computer')\n",
    "c = ps.stem('computational')\n",
    "d = ps.stem('computing')\n",
    "e = ps.stem('computed')\n",
    "print(f'compute is stemmed to {a} and computer is stemmed to {b} \\n and computational is stemmed to {c} and computing is stemmed to {d} and computed is also stemmed to {e}')"
   ]
  },
  {
   "cell_type": "markdown",
   "metadata": {
    "id": "gxcNkbmn4KSg"
   },
   "source": [
    "b) Write a Python function that calculates term frequency and document frequency for a given term in an inverted index using the selected dataset. Discuss the significance of these metrics in the context of information retrieval."
   ]
  },
  {
   "cell_type": "code",
   "execution_count": 20,
   "metadata": {},
   "outputs": [
    {
     "name": "stdout",
     "output_type": "stream",
     "text": [
      "test/14826\n"
     ]
    }
   ],
   "source": [
    "# list of documents or doc id\n",
    "filenames = reuters.fileids()\n",
    "print(filenames[0])"
   ]
  },
  {
   "cell_type": "code",
   "execution_count": 45,
   "metadata": {
    "colab": {
     "base_uri": "https://localhost:8080/"
    },
    "id": "65PIPj5Xf0ij",
    "outputId": "c4b6531f-81dd-4bb3-c1d2-4c9b98bf5664",
    "scrolled": true
   },
   "outputs": [],
   "source": [
    "# defining inverted index data structure\n",
    "inverted_index = {}\n",
    "\n",
    "\n",
    "# method to add term index to the inverted index\n",
    "def addToInIndex(terms, filename):\n",
    "  for term in terms:\n",
    "    if term not in inverted_index:\n",
    "          inverted_index[term] = set()  # Using a set to store positions\n",
    "    tf = calculate_tf(term, filename) # calculate term frequency\n",
    "    inverted_index[term].add((filename, tf))\n",
    "    \n",
    "\n",
    "# method to calculate document frequency\n",
    "def calculate_df(inverted_index, term):\n",
    "    df = len(inverted_index.get(term))\n",
    "    return df\n",
    "\n",
    "\n",
    "# method to calculate term frequency\n",
    "def calculate_tf(term, filename):\n",
    "    tf_dict = {}\n",
    "    doc = reuters.raw(filename)\n",
    "    words = word_tokenize(doc)\n",
    "    stemmed_words = [ps.stem(word) for word in words]\n",
    "    for word in stemmed_words:\n",
    "      tf_dict[word] = tf_dict.get(word, 0) + 1\n",
    "    return tf_dict[term]\n",
    "\n",
    "\n",
    "# fetch the term frequency for particular term\n",
    "def get_term_frequency(term, doc_id):\n",
    "    for idx in inverted_index[term]:\n",
    "        if(idx[0]==doc_id):\n",
    "            return indexes[1]\n",
    "\n",
    "# to save computation we have only created inverted index for 100 documents.\n",
    "top_100_documents = filenames[0:100]\n",
    "for filename in top_100_documents:\n",
    "  sample_document = reuters.raw(filename)\n",
    "  words = word_tokenize(sample_document)\n",
    "  stemmed_words = [ps.stem(word) for word in words]\n",
    "  addToIndex(stemmed_words, filename) # adding token to inverted index"
   ]
  },
  {
   "cell_type": "markdown",
   "metadata": {},
   "source": [
    "# Output of Inverted Index after computing above cell"
   ]
  },
  {
   "attachments": {
    "MicrosoftTeams-image%20%2810%29.png": {
     "image/png": "[encoded data removed]"
    }
   },
   "cell_type": "markdown",
   "metadata": {},
   "source": [
    "![MicrosoftTeams-image%20%2810%29.png](attachment:MicrosoftTeams-image%20%2810%29.png)"
   ]
  },
  {
   "cell_type": "code",
   "execution_count": 34,
   "metadata": {},
   "outputs": [
    {
     "name": "stdout",
     "output_type": "stream",
     "text": [
      "asian --> {('test/14826', 2)}\n",
      "\n",
      "\n",
      "export --> {('test/14903', 1), ('test/14833', 3), ('test/14909', 1), ('test/14931', 3), ('test/14923', 1), ('test/14881', 1), ('test/14858', 4), ('test/14988', 3), ('test/15017', 2), ('test/14891', 1), ('test/14882', 5), ('test/14912', 1), ('test/14826', 11), ('test/14832', 3), ('test/14862', 2)}\n",
      "\n",
      "\n",
      "fear --> {('test/14826', 2)}\n",
      "\n",
      "\n",
      "damag --> {('test/14931', 2), ('test/14982', 1), ('test/14826', 2), ('test/14892', 1)}\n",
      "\n",
      "\n",
      "from --> {('test/14872', 5), ('test/14900', 2), ('test/14843', 4), ('test/14931', 1), ('test/14833', 1), ('test/14967', 1), ('test/14933', 2), ('test/14892', 2), ('test/14921', 3), ('test/14859', 1), ('test/14863', 1), ('test/14993', 2), ('test/14926', 1), ('test/14909', 1), ('test/14881', 1), ('test/14858', 4), ('test/14959', 1), ('test/14941', 1), ('test/14832', 4), ('test/14949', 1), ('test/14928', 4), ('test/14862', 5), ('test/14829', 1), ('test/14849', 2), ('test/14907', 1), ('test/14826', 3), ('test/14873', 1), ('test/14922', 2), ('test/14841', 1), ('test/14890', 6), ('test/14912', 1), ('test/15011', 2), ('test/14930', 3), ('test/14919', 1), ('test/14891', 1), ('test/14982', 3), ('test/14882', 2), ('test/14842', 1)}\n",
      "\n",
      "\n",
      "u.s.-japan --> {('test/14826', 1)}\n",
      "\n",
      "\n",
      "rift --> {('test/14826', 1)}\n",
      "\n",
      "\n",
      "mount --> {('test/14826', 1)}\n",
      "\n",
      "\n",
      "trade --> {('test/14832', 2), ('test/14860', 2), ('test/14886', 1), ('test/14863', 1), ('test/14982', 2), ('test/14826', 16), ('test/14858', 4), ('test/14881', 4), ('test/14900', 1), ('test/14885', 1), ('test/14913', 1), ('test/14931', 3), ('test/14987', 1), ('test/14951', 2), ('test/14829', 1), ('test/14904', 5), ('test/14873', 1), ('test/14839', 1), ('test/14840', 14), ('test/14912', 4), ('test/14957', 1), ('test/14862', 7), ('test/14891', 1)}\n",
      "\n",
      "\n",
      "friction --> {('test/14862', 1), ('test/14826', 1)}\n",
      "\n",
      "\n"
     ]
    }
   ],
   "source": [
    "# Displaying first 10 inverted index of words\n",
    "top_10_inverted_index = {k: inverted_index[k] for k in list(inverted_index)[:10]}\n",
    "for x, y in top_10_inverted_index.items():\n",
    "    print(x, '-->', y)\n",
    "    print('\\n')"
   ]
  },
  {
   "cell_type": "code",
   "execution_count": 56,
   "metadata": {},
   "outputs": [
    {
     "name": "stdout",
     "output_type": "stream",
     "text": [
      "Term Frequency for the word term --> 'trade' in doc 'test/14840'\n",
      "14\n",
      "Document Frequency for the word term --> 'trade'\n",
      "23\n"
     ]
    }
   ],
   "source": [
    "# to get term frequency of particular token for given doc id\n",
    "doc_id = 'test/14840'\n",
    "word_term = 'trade'\n",
    "print(f\"Term Frequency for the word term --> '{word_term}' in doc '{doc_id}'\")\n",
    "print(get_term_frequency(word_term, doc_id))\n",
    "print(f\"Document Frequency for the word term --> '{word_term}'\")\n",
    "print(calculate_df(inverted_index, word_term))"
   ]
  },
  {
   "cell_type": "code",
   "execution_count": null,
   "metadata": {},
   "outputs": [],
   "source": [
    "# df=calculate_df(inverted_index,'damag')\n",
    "# print(f\"Document frequency of damag is {df} \\n\")\n",
    "\n",
    "# print(\"Inverted Index stores only document frequency and posting list. Term frequency is not stored. \\nSo using primitive method to calculate term frequency:\\n\\n\")\n",
    "\n",
    "# for doc in list(inverted_index.get('damag'))[:10]:\n",
    "#   tf=calculate_tf('damag', doc)\n",
    "#   print(f\"Term frequency of damag in {doc} is {tf}\")\n"
   ]
  },
  {
   "cell_type": "markdown",
   "metadata": {
    "id": "JFRJU6bc4OLM"
   },
   "source": [
    "**Discuss the significance of these metrics in the context of information retrieval.**\n",
    "\n",
    "Term Frequency (TF): It measures how often a term appears in a document. In the context of an inverted index, it helps in ranking documents based on their relevance to a search query. Higher TF indicates that the term is more significant within the document.\n",
    "\n",
    "Document Frequency (DF): It counts how many documents contain a particular term. In information retrieval, DF helps in assessing the importance of a term across the entire corpus. Terms with higher DF but moderate TF may have greater discriminative power in distinguishing documents.\n",
    "\n",
    "In the example above, the document frequency indicates that the term \"damag\" appears in 178 different documents throughout the corpus. The term frequency shows how many times the term \"damag\" occurs within each specific document.\n",
    "\n",
    "These metrics are crucial in ranking documents and terms for information retrieval systems, search engines, and relevance-based ranking algorithms by assessing the importance of terms within documents and across the entire corpus.\n",
    "\n",
    "Balancing these metrics helps in improving search accuracy by ensuring that retrieved documents are not only relevant but also contain the query terms sufficiently often to be considered significant. "
   ]
  },
  {
   "cell_type": "code",
   "execution_count": null,
   "metadata": {},
   "outputs": [],
   "source": []
  },
  {
   "cell_type": "code",
   "execution_count": null,
   "metadata": {},
   "outputs": [],
   "source": []
  },
  {
   "cell_type": "code",
   "execution_count": null,
   "metadata": {},
   "outputs": [],
   "source": []
  },
  {
   "cell_type": "code",
   "execution_count": null,
   "metadata": {},
   "outputs": [],
   "source": []
  },
  {
   "cell_type": "code",
   "execution_count": null,
   "metadata": {},
   "outputs": [],
   "source": []
  }
 ],
 "metadata": {
  "colab": {
   "provenance": []
  },
  "kernelspec": {
   "display_name": "conda_python3",
   "language": "python",
   "name": "conda_python3"
  },
  "language_info": {
   "codemirror_mode": {
    "name": "ipython",
    "version": 3
   },
   "file_extension": ".py",
   "mimetype": "text/x-python",
   "name": "python",
   "nbconvert_exporter": "python",
   "pygments_lexer": "ipython3",
   "version": "3.10.13"
  }
 },
 "nbformat": 4,
 "nbformat_minor": 1
}
